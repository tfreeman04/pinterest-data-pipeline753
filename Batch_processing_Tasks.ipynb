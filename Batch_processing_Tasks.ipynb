{
 "cells": [
  {
   "cell_type": "code",
   "execution_count": 0,
   "metadata": {
    "application/vnd.databricks.v1+cell": {
     "cellMetadata": {
      "byteLimit": 2048000,
      "rowLimit": 10000
     },
     "inputWidgets": {},
     "nuid": "3e18c134-51f8-41b1-8555-1f5ff47fd49b",
     "showTitle": false,
     "title": ""
    }
   },
   "outputs": [
    {
     "output_type": "display_data",
     "data": {
      "text/html": [
       "<style scoped>\n",
       "  .ansiout {\n",
       "    display: block;\n",
       "    unicode-bidi: embed;\n",
       "    white-space: pre-wrap;\n",
       "    word-wrap: break-word;\n",
       "    word-break: break-all;\n",
       "    font-family: \"Menlo\", \"Monaco\", \"Consolas\", \"Ubuntu Mono\", \"Source Code Pro\", monospace;\n",
       "    font-size: 13px;\n",
       "    color: #555;\n",
       "    margin-left: 4px;\n",
       "    line-height: 19px;\n",
       "  }\n",
       "</style>\n",
       "<div class=\"ansiout\">/mnt/pinterest has been unmounted.\n",
       "</div>"
      ]
     },
     "metadata": {
      "application/vnd.databricks.v1+output": {
       "addedWidgets": {},
       "arguments": {},
       "data": "<div class=\"ansiout\">/mnt/pinterest has been unmounted.\n</div>",
       "datasetInfos": [],
       "metadata": {},
       "removedWidgets": [],
       "type": "html"
      }
     },
     "output_type": "display_data"
    },
    {
     "output_type": "display_data",
     "data": {
      "text/html": [
       "<style scoped>\n",
       "  .table-result-container {\n",
       "    max-height: 300px;\n",
       "    overflow: auto;\n",
       "  }\n",
       "  table, th, td {\n",
       "    border: 1px solid black;\n",
       "    border-collapse: collapse;\n",
       "  }\n",
       "  th, td {\n",
       "    padding: 5px;\n",
       "  }\n",
       "  th {\n",
       "    text-align: left;\n",
       "  }\n",
       "</style><div class='table-result-container'><table class='table-result'><thead style='background-color: white'><tr><th>path</th><th>name</th><th>size</th><th>modificationTime</th></tr></thead><tbody><tr><td>dbfs:/mnt/pinterest/kafka-connect-s3/</td><td>kafka-connect-s3/</td><td>0</td><td>1724849885218</td></tr><tr><td>dbfs:/mnt/pinterest/topics/</td><td>topics/</td><td>0</td><td>1724849885218</td></tr></tbody></table></div>"
      ]
     },
     "metadata": {
      "application/vnd.databricks.v1+output": {
       "addedWidgets": {},
       "aggData": [],
       "aggError": "",
       "aggOverflow": false,
       "aggSchema": [],
       "aggSeriesLimitReached": false,
       "aggType": "",
       "arguments": {},
       "columnCustomDisplayInfos": {},
       "data": [
        [
         "dbfs:/mnt/pinterest/kafka-connect-s3/",
         "kafka-connect-s3/",
         0,
         1724849885218
        ],
        [
         "dbfs:/mnt/pinterest/topics/",
         "topics/",
         0,
         1724849885218
        ]
       ],
       "datasetInfos": [],
       "dbfsResultPath": null,
       "isJsonSchema": true,
       "metadata": {},
       "overflow": false,
       "plotOptions": {
        "customPlotOptions": {},
        "displayType": "table",
        "pivotAggregation": null,
        "pivotColumns": null,
        "xColumns": null,
        "yColumns": null
       },
       "removedWidgets": [],
       "schema": [
        {
         "metadata": "{}",
         "name": "path",
         "type": "\"string\""
        },
        {
         "metadata": "{}",
         "name": "name",
         "type": "\"string\""
        },
        {
         "metadata": "{}",
         "name": "size",
         "type": "\"long\""
        },
        {
         "metadata": "{}",
         "name": "modificationTime",
         "type": "\"long\""
        }
       ],
       "type": "table"
      }
     },
     "output_type": "display_data"
    }
   ],
   "source": [
    "# pyspark functions\n",
    "from pyspark.sql.functions import *\n",
    "# URL processing\n",
    "import urllib\n",
    "\n",
    "# Define the path to the Delta table\n",
    "delta_table_path = \"dbfs:/user/hive/warehouse/authentication_credentials\"\n",
    "\n",
    "# Read the Delta table to a Spark DataFrame\n",
    "aws_keys_df = spark.read.format(\"delta\").load(delta_table_path)\n",
    "\n",
    "# Get the AWS access key and secret key from the spark dataframe\n",
    "ACCESS_KEY = aws_keys_df.select('Access key ID').collect()[0]['Access key ID']\n",
    "SECRET_KEY = aws_keys_df.select('Secret access key').collect()[0]['Secret access key']\n",
    "\n",
    "# Encode the secret key\n",
    "ENCODED_SECRET_KEY = urllib.parse.quote(string=SECRET_KEY, safe=\"\")\n",
    "\n",
    "# AWS S3 bucket name\n",
    "AWS_S3_BUCKET = \"user-0eaa2e755d1f-bucket\"\n",
    "# Mount name for the bucket\n",
    "MOUNT_NAME = \"/mnt/pinterest\"  # Use an absolute path for the mount point\n",
    "# Source url\n",
    "SOURCE_URL = \"s3n://{0}:{1}@{2}\".format(ACCESS_KEY, ENCODED_SECRET_KEY, AWS_S3_BUCKET)\n",
    "\n",
    "if any(mount.mountPoint == MOUNT_NAME for mount in dbutils.fs.mounts()):\n",
    "    dbutils.fs.unmount(MOUNT_NAME)\n",
    "# Check if the directory is already mounted\n",
    "if not any(mount.mountPoint == MOUNT_NAME for mount in dbutils.fs.mounts()):\n",
    "    # Mount the drive\n",
    "    dbutils.fs.mount(SOURCE_URL, MOUNT_NAME)\n",
    "\n",
    "# Display the contents of the mounted directory\n",
    "display(dbutils.fs.ls(\"/mnt/pinterest\"))"
   ]
  },
  {
   "cell_type": "code",
   "execution_count": 0,
   "metadata": {
    "application/vnd.databricks.v1+cell": {
     "cellMetadata": {
      "byteLimit": 2048000,
      "implicitDf": true,
      "rowLimit": 10000
     },
     "inputWidgets": {},
     "nuid": "1ba6fd06-e1a5-4142-a370-5c6100369b36",
     "showTitle": false,
     "title": ""
    }
   },
   "outputs": [
    {
     "output_type": "display_data",
     "data": {
      "text/html": [
       "<style scoped>\n",
       "  .table-result-container {\n",
       "    max-height: 300px;\n",
       "    overflow: auto;\n",
       "  }\n",
       "  table, th, td {\n",
       "    border: 1px solid black;\n",
       "    border-collapse: collapse;\n",
       "  }\n",
       "  th, td {\n",
       "    padding: 5px;\n",
       "  }\n",
       "  th {\n",
       "    text-align: left;\n",
       "  }\n",
       "</style><div class='table-result-container'><table class='table-result'><thead style='background-color: white'><tr><th>category</th><th>description</th><th>downloaded</th><th>follower_count</th><th>image_src</th><th>index</th><th>is_image_or_video</th><th>poster_name</th><th>save_location</th><th>tag_list</th><th>title</th><th>unique_id</th></tr></thead><tbody><tr><td>christmas</td><td>Features: Material:Lint Size:48ｘ18cm Quantity:1 pc Shape:Santa Claus, snowman. Elk Occasion:Christmas Description: 1. Fashion design, high quality 2. Santa Claus, snowman. Elk C… </td><td>1</td><td>5k</td><td>https://i.pinimg.com/originals/b5/7f/21/b57f219fa89c1165b57525b8eae711da.jpg</td><td>1706</td><td>image</td><td>Wear24-7</td><td>Local save in /data/christmas</td><td>Merry Christmas To You,Christmas Toys,Great Christmas Gifts,Christmas Snowman,Christmas Ornaments,Holiday,Christmas Party Decorations,Christmas Themes,Decoration Party</td><td>Standing Figurine Toys Xmas Santa Claus Snowman Reindeer Figure Plush Dolls Christmas Decorations Ornaments Home Indoor Table Ornaments Christmas Party Tree Hanging Decor Toys Gifts for Kids Friends…</td><td>b5c8a1b5-9e90-4522-9bec-2477b698d5b7</td></tr><tr><td>christmas</td><td>Christmas decorating ideas for porches. Beautiful holiday decor ideas for front porches both small and large. Outdoor decorations like sleds, lanterns, Christmas trees, wreaths,… </td><td>1</td><td>46k</td><td>https://i.pinimg.com/videos/thumbnails/originals/40/83/f5/4083f5b4971bf235f89a4784ab87271e.0000001.jpg</td><td>2482</td><td>video</td><td>Life on Summerhill | Home, Holiday Decor & DIY Website</td><td>Local save in /data/christmas</td><td>Diy Christmas Decorations For Home,Farmhouse Christmas Decor,Christmas Home,Christmas Holidays,Christmas Front Porches,How To Decorate For Christmas,Christmas Porch Ideas,Christmas Decorating Ideas,Large Outdoor Christmas Decorations</td><td>FORNT PORCH CHRISTMAS DECORATING IDEAS</td><td>08604f20-fa17-4b9a-9949-781717eca6cd</td></tr><tr><td>travel</td><td>This Costa Rica itinerary is the ultimate guide to spending two weeks in Costa Rica. Find out about visiting La Fortuna, Arenal, Monteverde, Naranjo, Corcovado National Park, Or… </td><td>1</td><td>10k</td><td>https://i.pinimg.com/originals/30/93/cb/3093cb01d9de2d125fda8ba5e3e41946.jpg</td><td>10138</td><td>image</td><td>Wanderlust Chloe ✈️ Travel guides, inspo and adventure travel ✈️</td><td>Local save in /data/travel</td><td>Costa Rica Travel,Rio Celeste Costa Rica,Dream Vacations,Vacation Spots,Vacation Travel,Travel Pictures,Travel Photos,Fortuna Costa Rica,Costa Rica Pictures</td><td>14 Amazing Things To Do In Costa Rica | Volcanoes, Waterfalls, Wildlife And More</td><td>927c4658-cc3f-4b92-9b5c-70743d0c238d</td></tr><tr><td>christmas</td><td>My favorite 75+ Neutral Christmas Home Decor for decorating your house during the Holiday Season in earth tones and a farmhouse, rustic style all winter. I love this modern, sim… </td><td>1</td><td>31k</td><td>https://i.pinimg.com/originals/86/84/39/868439dd894969e3abd6a2a8a9fe1e9c.jpg</td><td>2604</td><td>image</td><td>Everyday Wholesome</td><td>Local save in /data/christmas</td><td>Colorful Christmas Decorations,Colorful Christmas Tree,Christmas Centerpieces,Christmas Colors,Xmas Colors,Winter Decorations,Christmas Trends,Christmas Inspiration,Christmas Home</td><td>75+ Neutral Christmas Home Decor for the Holiday Season in Farmhouse Style using Earth Tones Modern</td><td>087b0fa9-f901-4262-aa0a-6caf234d1b35</td></tr><tr><td>diy-and-crafts</td><td>This post may contain affiliate links, read our Disclosure Policy for more information. As an Amazon Associate I earn from qualifying purchases, thank you! Make some cute handpr… </td><td>1</td><td>892k</td><td>https://i.pinimg.com/originals/ff/fe/38/fffe384f3ec18a0d87cb2d80cc8c1499.jpg</td><td>3156</td><td>image</td><td>Michelle {CraftyMorning.com}</td><td>Local save in /data/diy-and-crafts</td><td>Christmas Gifts For Parents,Christmas Decorations For Kids,Christmas Crafts For Toddlers,Preschool Christmas,Christmas Crafts For Gifts,Christmas Activities,Toddler Crafts,Kids Christmas,Christmas Feeling</td><td>Handprint Reindeer Ornaments - Crafty Morning</td><td>fa6e31a4-18c2-4eca-a6d8-e903eee2c2a4</td></tr><tr><td>christmas</td><td>Love Christmas decorations but hate spending a lot bunch of money? Check out some of these budget DIY decorations you can easily make from the dollar store!</td><td>1</td><td>42k</td><td>https://i.pinimg.com/originals/30/85/21/3085215db77e55770202724268465490.jpg</td><td>1864</td><td>image</td><td>Caroline|CarolineVencil.com | Saving & Making Money | Pro Blogger</td><td>Local save in /data/christmas</td><td>Diy Snowman Decorations,Christmas Candle Decorations,Diy Christmas Ornaments,Christmas Ideas,Christmas Christmas,Snowman Ornaments,Christmas Diy Gifts,Vase Decorations,Diy Christmas Decorations For Home</td><td>120 Christmas Decorations from the Dollar Store</td><td>6f1951f0-63be-4c4f-8d21-e4995217f69e</td></tr><tr><td>home-decor</td><td>Grab these coffee table decor ideas for a cozy living room. This post is awesome, it has a list of must have elements for cozy coffee table styling plus a list of supply ideas f… </td><td>1</td><td>40k</td><td>https://i.pinimg.com/originals/77/b2/bb/77b2bb477d1164908048dabcd78cabd5.jpg</td><td>6014</td><td>image</td><td>Salvaged Living</td><td>Local save in /data/home-decor</td><td>Coffee Table Decor Living Room,Coffee Table Vignettes,Coffee Table Centerpieces,Coffee Table Styling,Diy Coffee Table,Decorating Coffee Tables,Cozy Living Rooms,Livingroom Table Decor,Living Room Candles</td><td>Coffee Table Decor Ideas for a Cozy Living Room - Salvaged Living</td><td>d4c57afb-4775-4482-89c8-71d1bf85b488</td></tr><tr><td>travel</td><td>See families traveling all the time and wonder, \"how the heck do they afford this?\" Read 10 mistakes you might be making, and what you should do instead.</td><td>1</td><td>9k</td><td>https://i.pinimg.com/originals/0a/49/fb/0a49fbcec746c4219d3a6f30834f378e.jpg</td><td>10119</td><td>image</td><td>OUR NEXT ADVENTURE | family travel blog</td><td>Local save in /data/travel</td><td>Family Vacation Destinations,Vacation Trips,Travel Destinations,Vacation Ideas,Cheap Family Vacations,Vacation Travel,Best Family Vacation Spots,Vacation Quotes,Vacation Memories</td><td>How to Afford Family Travel: 10 Mistakes You're Making (and what to do instead) | Our Next Adventure</td><td>40eab9ba-7812-4f26-baca-35a6bed95a9f</td></tr><tr><td>diy-and-crafts</td><td>Easy Christmas tree Craft Ideas for toddlers and preschoolers. Engage your kids in these DIY</td><td>1</td><td>3k</td><td>https://i.pinimg.com/originals/69/f0/75/69f075939d4449dffa69519756c30e26.png</td><td>3419</td><td>image</td><td>Kids Crafts & Free Preschool Printables- Sharing Our Experiences</td><td>Local save in /data/diy-and-crafts</td><td>Christmas Crafts For Kids To Make,Christmas Tree Painting,Christmas Activities For Kids,Easy Christmas Crafts For Toddlers,Kid Activities,Christmas Handprint Crafts,Christmas Tree Crafts,Christmas Baby,Xmas Tree</td><td>Easy Christmas Tree Crafts Ideas for toddlers and preschoolers | Sharing Our Experiences</td><td>d0b80187-0171-49b2-8ee4-572984244f65</td></tr><tr><td>education</td><td>Here, you will find four projects that involve crime as a means of targeting essential skills for reading and writing. These projects are sure to capture student interest and en… </td><td>1</td><td>10k</td><td>https://i.pinimg.com/originals/78/5e/2a/785e2afc1f0ca538109b1eb6b517076b.jpg</td><td>3716</td><td>image</td><td>The Bespoke ELA Classroom</td><td>Local save in /data/education</td><td>Middle School Reading,Middle School English,Middle School Teachers,Ela Classroom,English Classroom,English Teachers,8th Grade Ela,Mystery,Teaching Reading</td><td>Engaging Secondary Students with Crime Stories — Bespoke ELA:  Essay Writing Tips + Lesson Plans</td><td>74f878f3-6f1b-4b41-8e71-67a68a0ae76a</td></tr><tr><td>tattoos</td><td>\"Minimalist Tattoos\" Discover how less is more with the best minimalist tattoo designs for women. Explore cool conservative simplicity with super simple ink ideas. See more idea… </td><td>1</td><td>54k</td><td>https://i.pinimg.com/originals/c2/82/7d/c2827d11633b11c11a3da17b024264b0.jpg</td><td>9093</td><td>image</td><td>Beautyholo | Latest Hairstyles, Nail Design Ideas, Home Décor DIY, Women Fashion Ideas</td><td>Local save in /data/tattoos</td><td>Small Tattoos Men,Tatoos Men,Cool Tattoos For Guys,Cool Tatoos For Women,Cool Simple Tattoos,Unique Tattoos,Diy Tattoo,Tattoo Fonts,Tattoo Quotes</td><td>51 Unique Minimalist Tattoos Designs For Women</td><td>8e478adb-0e3f-4045-83ce-79f155a63722</td></tr><tr><td>finance</td><td>If you love budgeting, make sure to give Dave Ramsey's 7 Baby Steps a try. Follow these steps to begin your debt snowball, build an emergency fund, invest and reach riches. I ca… </td><td>1</td><td>26k</td><td>https://i.pinimg.com/originals/1e/9d/90/1e9d906e4e150e3b95187f3b76ea7c71.png</td><td>5494</td><td>image</td><td>Living Low Key | Save Money, Make Money, & Frugal Living</td><td>Local save in /data/finance</td><td>Financial Peace,Financial Tips,Saving Money Quotes,Total Money Makeover,Budgeting Finances,Money Management,Wealth Management,Personal Finance,Making Ideas</td><td>Dave Ramsey's 7 Baby Steps: What Are They And Will They Work For You</td><td>8fb2af68-543b-4639-8119-de33d28706ed</td></tr><tr><td>diy-and-crafts</td><td>Celebrate warmer weather & spring blooms with these 50 delightful spring crafts for kids. Bright, cheerful & fun to make these crafts are a guaranteed hit.</td><td>1</td><td>108k</td><td>https://i.pinimg.com/originals/f0/ca/c3/f0cac3e3b0c2ebf5f2d2e4f70455e794.jpg</td><td>2858</td><td>image</td><td>This Tiny  Blue House</td><td>Local save in /data/diy-and-crafts</td><td>Spring Crafts For Kids,Diy For Kids,Arts And Crafts For Kids Toddlers,Spring Crafts For Preschoolers,Spring Craft Preschool,Simple Kids Crafts,Summer Crafts For Toddlers,Easy Preschool Crafts,Garden Crafts For Kids</td><td>50 Popular Spring Crafts For Kids You Need To Make</td><td>26f81da4-26a9-465b-b819-6099bc66e1c0</td></tr><tr><td>christmas</td><td>Here are the best DIY Christmas Centerpieces ideas perfect for your Christmas & holiday season home decor. From Christmas Vignettes to Table Centerpieces.</td><td>1</td><td>500k</td><td>https://i.pinimg.com/originals/aa/6d/0f/aa6d0f44d7c1c96b998cb9aa6c4446b8.png</td><td>2418</td><td>image</td><td>HikenDip</td><td>Local save in /data/christmas</td><td>Farmhouse Christmas Decor,Rustic Christmas,Christmas Time,Vintage Christmas,Xmas,Primitive Christmas Crafts,Christmas Vignette,Indoor Christmas Decorations,Diy Christmas Ornaments</td><td>100 DIY Christmas Centerpieces You'll Love To Decorate Your Home With For The Christmas Season - Hike n Dip</td><td>da8745a6-5160-46c4-877d-181d50a729fd</td></tr><tr><td>quotes</td><td>Trying to create your dream life but don't know where to start?! These vision board ideas are a great way to manifest a new you this year</td><td>1</td><td>42k</td><td>https://i.pinimg.com/originals/36/d1/be/36d1be632cbf9b6c8e377a052b31d064.jpg</td><td>8312</td><td>image</td><td>TheFab20s | Travel+Food+DIY+Listicles</td><td>Local save in /data/quotes</td><td>Positive Self Affirmations,Positive Affirmations Quotes,Affirmation Quotes,Quotes Positive,Motivational Quotes For Success Positivity,Business Success Quotes,Positive Vibes,Motivational Quotes For Women,Affirmations For Love</td><td>8 Vision Board Ideas To Manifest Your Dreams - TheFab20s</td><td>ca3c9bb0-7281-4b9b-8abf-201da0b68d62</td></tr><tr><td>quotes</td><td>Quotes and Sayings that inspire, motivate, encourage women. Quotes to use on social media. Content ideas for bloggers.</td><td>1</td><td>19k</td><td>https://i.pinimg.com/originals/e9/83/44/e983446f2c08cc6da883b9d777f3369f.jpg</td><td>8300</td><td>image</td><td>Amber Strong - The Maker’s Map | DIY’s, Crafts & Home Decor</td><td>Local save in /data/quotes</td><td>Positive Quotes For Life Encouragement,Positive Quotes For Life Happiness,Good Happy Quotes,Quotes Positive,Being Happy Quotes,Happy Sayings,Happy Life Quotes To Live By,Self Happiness Quotes,Positive Thoughts Quotes</td><td>The Maker's Map - Quotes and Sayings that inspire</td><td>7ddd23cf-68a5-4b5a-a800-1d985cbc69b4</td></tr><tr><td>quotes</td><td>summcoco gives you inspiration for the women fashion trends you want. Thinking about a new look or lifestyle? This is your ultimate resource to get the hottest trends. 45 Top Li… </td><td>1</td><td>306k</td><td>https://i.pinimg.com/originals/bb/c0/e6/bbc0e6a797079505f11ac12bcb0b8c66.jpg</td><td>7922</td><td>image</td><td>Sumcoco | Decor Ideas, Hairstyles, Nails Fashion Advice</td><td>Local save in /data/quotes</td><td>Life Quotes Love,Inspirational Quotes About Love,Mood Quotes,Motivational Quotes,Tears Quotes,Quotes About Sadness,Deep Quotes About Life,Quotes Quotes,Quote Life</td><td>45 Top Life Quotes School Did Not Teach You</td><td>a584581c-1b38-4731-a1cc-f36115ecf229</td></tr><tr><td>art</td><td>Use your mini world figures to create this beautiful African sunset. Your kids will love learning about shadows, angles and distortion in this fun art and STEM activity for kids.</td><td>1</td><td>4k</td><td>https://i.pinimg.com/originals/e3/aa/35/e3aa350f8f104d0e59f26d7f17ea7461.png</td><td>771</td><td>image</td><td>Taming Little Monsters - Fun Activities for Kids</td><td>Local save in /data/art</td><td>African Art Projects,Cool Art Projects,Projects For Kids,African Art For Kids,African Crafts Kids,Art Club Projects,Art Education Projects,Tracing Art,African Sunset</td><td>African Sunset Shadow Tracing Art - Taming Little Monsters</td><td>a5021766-a8aa-4dc7-9857-4da6b8e3dc1a</td></tr><tr><td>event-planning</td><td>Personalize your event or shop with a customized neon sign. Make a statement with your own custom vibes! This light is 32 -40 inches (80cm-100cm) if you need something bigger, p… </td><td>1</td><td>111</td><td>https://i.pinimg.com/originals/e9/c0/7c/e9c07cf0cf16cab23764a36718ab76c1.jpg</td><td>4508</td><td>image</td><td>Life of Neon | Custom Neon Light Signs | Home Decor Wall Art</td><td>Local save in /data/event-planning</td><td>Our Wedding,Wedding Venues,Dream Wedding,Wedding Cakes,Church Wedding,Wedding Flowers,Lace Wedding,Wedding Rings,Wedding Dresses</td><td>Custom Event and Shop Neon Sign Lights - Event & Shop</td><td>9064f4a2-2753-476c-815e-db360f45a93e</td></tr><tr><td>education</td><td>Hi everyone! As a teacher using the Orton-Gillingham approach, I am constantly looking for phonics activities that my students will find fun and engaging. Using Orton-Gillingham… </td><td>1</td><td>22k</td><td>https://i.pinimg.com/originals/58/8e/38/588e380b19942a71a86a69d9c9973d25.png</td><td>4076</td><td>image</td><td>The Literacy Nest</td><td>Local save in /data/education</td><td>Literacy Games,Kindergarten Activities,Literacy Centers,Fun Phonics Activities,Listening Activities,Vocabulary Games,Literacy Stations,Letter Activities,Montessori Activities</td><td>Phonics Activities Your Kids Will Love - The Literacy Nest</td><td>3a52d364-7c04-47cb-a3e5-56d9e2b77528</td></tr><tr><td>christmas</td><td>Over 40 of the BEST Homemade Christmas Ornaments...these easy Holiday crafts are so fun to make for Kids and Adults! Lots of great class party ideas!</td><td>1</td><td>245k</td><td>https://i.pinimg.com/originals/d0/d3/a3/d0d3a31e87296224d5ba8896904b5b88.jpg</td><td>2293</td><td>image</td><td>Kitchen Fun With My 3 Sons</td><td>Local save in /data/christmas</td><td>Diy Christmas Lights,Homemade Christmas Decorations,Christmas Crafts For Gifts,Mini Christmas Tree,Christmas Ornament Crafts,Homemade Christmas Gifts,Xmas Decorations,Simple Christmas,Handmade Christmas</td><td>Over 40 of the BEST Homemade Christmas Ornament Ideas</td><td>1fd7d4cc-54c1-4542-9c1f-449cb4c875f4</td></tr><tr><td>art</td><td>This bee directed drawing and associated pages will help you create a fun and creative Valentine's Day Directed Drawing Art Project activity for your class.Choose to do a painti… </td><td>1</td><td>1M</td><td>https://i.pinimg.com/originals/49/ff/2e/49ff2e83c0cefdd37213f6084c6f0566.jpg</td><td>159</td><td>image</td><td>Teachers Pay Teachers</td><td>Local save in /data/art</td><td>Classroom Art Projects,School Art Projects,Art Classroom,Art Projects For Kindergarteners,Spring Art Projects,Classroom Posters,Valentines Art Lessons,Valentines Day Activities,Grade 1 Art</td><td>Valentine's Day Bee Directed Drawing {Art Project}</td><td>841a161a-47b8-4161-884d-adeb67a28b1e</td></tr><tr><td>travel</td><td>Are you traveling to Paris during the summer? Find out what to do in Paris, France during the summer. Fun summertime activities in Paris. Enjoy the incredible outdoors when trav… </td><td>1</td><td>3k</td><td>https://i.pinimg.com/originals/6c/4c/90/6c4c90bba27ebf8c8bfe4c1acfb9f07a.jpg</td><td>9979</td><td>image</td><td>Petite in Paris</td><td>Local save in /data/travel</td><td>Torre Eiffel Paris,Tour Eiffel,Picnic In Paris,Hello France,Voyage Europe,Destination Voyage,Beautiful Places To Travel,Travel Aesthetic,Paris Travel</td><td>Paris in the Summer. 10 fun things to do in Paris in the Summertime • Petite in Paris</td><td>2b2abc85-fc51-481f-8ae6-17681993da28</td></tr><tr><td>travel</td><td>Although you'd think Greek islands are fairly similar, you'd be completely wrong! Each island has it's own personality and appeal. Here are the 8 Best Greek Islands to visit, es… </td><td>1</td><td>42k</td><td>https://i.pinimg.com/originals/06/1d/ce/061dce38929dec8e74844442116bea4a.jpg</td><td>9759</td><td>image</td><td>TheFab20s | Travel+Food+DIY+Listicles</td><td>Local save in /data/travel</td><td>Greek Islands To Visit,Best Greek Islands,Greece Islands,Cool Places To Visit,Places To Go,Best Places In Portugal,Copenhagen Travel,Paros Island,Santorini Island</td><td>8 Best Greek Islands You Have To Visit - TheFab20s</td><td>d105eb6e-0f9f-46e7-8d02-d24b62f6ae90</td></tr><tr><td>finance</td><td>The groundbreaking NEW YORK TIMES and WALL STREET JOURNAL BESTSELLER that taught a generation how to earn more, save more, and live a rich life--now in a revised 2nd edition. Bu… </td><td>1</td><td>793</td><td>https://i.pinimg.com/originals/5f/53/c9/5f53c9406ddaf6449dc1c6b93c7f8e31.jpg</td><td>5293</td><td>image</td><td>Bookmarks Retail</td><td>Local save in /data/finance</td><td>Seth Godin,Wall Street Journal,Good Books,Books To Read,Money Makeover,Finance Books,Finance Tips,Words To Use,Dale Carnegie</td><td>I Will Teach You to Be Rich, Second Edition: No Guilt. No Excuses. No Bs. Just a 6-Week Program That Works</td><td>cf33a9ea-788b-4440-bbff-19939cd49d36</td></tr><tr><td>diy-and-crafts</td><td>DIY Dollar Store Valentine’s Day Heart Wreath Decoration. There are so many great Valentine crafts at the Dollar Tree right now! During our last trip, we picked up a few supplie… </td><td>1</td><td>9k</td><td>https://i.pinimg.com/originals/dc/f6/8a/dcf68adcc63c339c24fa5664f1115994.png</td><td>2698</td><td>image</td><td>South Lumina Style</td><td>Local save in /data/diy-and-crafts</td><td>Valentine Day Wreaths,Valentines Day Hearts,Valentines Day Decorations,Valentine Day Crafts,Holiday Crafts,Diy Christmas,Christmas Wreaths,Valentine Tree,Printable Valentine</td><td>DIY Dollar Tree Valentine's Day Wreath</td><td>73f16302-4871-486a-8836-947530526337</td></tr><tr><td>home-decor</td><td>Holiday mantle decor, Christmas decor, metallic mercury glass style Christmas trees, eucalyptus vine, evergreen pine branches, white neutral holiday decor, cozy mantle for the h… </td><td>1</td><td>83k</td><td>https://i.pinimg.com/originals/9d/82/1a/9d821a80acd8f90c16454e978bd9b115.jpg</td><td>6145</td><td>image</td><td>Stylin by Aylin</td><td>Local save in /data/home-decor</td><td>Winter Home Decor,Christmas Living Room Decor,Living Room Decor Cozy,Christmas Decor,Cozy Fireplace,Rustic Fireplace Decor,Fireplace Decorations,Rustic Room,House Decorations</td><td>HOLIDAY MANTLE DECOR - @AMAZON & @TARGET FINDS</td><td>82e13a07-db99-43a3-b1c0-89a4b75821da</td></tr><tr><td>art</td><td>Easy to follow steps for this easy DIY wall art. Acrylic Paint Pouring with a blow dryer, Dutch paint pour. Written steps and full step by step video to help you do it too! 👍</td><td>1</td><td>52k</td><td>https://i.pinimg.com/videos/thumbnails/originals/d5/5e/fa/d55efa6ef50d35dac425cea935f39c89.0000001.jpg</td><td>427</td><td>video</td><td>Abbotts At Home</td><td>Local save in /data/art</td><td>Acrylic Pouring Art,Acrylic Wall Art,Acrylic Pouring Techniques,Acrylic Paintings,Art Paintings,Marble Art,Marble Painting,Pour Painting,Large Canvas Art</td><td>DIY Acrylic Paint Pouring Wall Art - Abbotts At Home</td><td>4a455340-09a2-4370-ad86-73d7964603db</td></tr><tr><td>travel</td><td>One week may feel too short, but with this New Zealand North Island 7 Day Itinerary you can cover a lot of ground! Plus, read about where to stay, self-driving, flights, and more!</td><td>1</td><td>1k</td><td>https://i.pinimg.com/originals/2e/0d/fc/2e0dfc4293e6d413d18d601248bbe041.jpg</td><td>9475</td><td>image</td><td>Alanna | Periodic Adventures</td><td>Local save in /data/travel</td><td>Adventure Aesthetic,Travel Aesthetic,Best Places To Vacation,Places To See,North Island New Zealand,New Zealand Adventure,New Zealand Travel Guide,Bali,Beautiful Places To Travel</td><td>New Zealand North Island 7 Day Itinerary</td><td>5f389774-c116-4b5d-bd81-763d1e729773</td></tr><tr><td>christmas</td><td>Christmas Trees From Pallet Wood | Holiday DIY: Deck the yard with some fun outdoor Christmas Trees! We made these merry and bright decorations from two old pallets we had lying… </td><td>1</td><td>3M</td><td>https://i.pinimg.com/originals/64/7b/ca/647bca35169b7c144604116c64bcba8a.png</td><td>1704</td><td>image</td><td>Instructables</td><td>Local save in /data/christmas</td><td>Pallet Wood Christmas Tree,Wooden Christmas Crafts,Diy Christmas Tree,Christmas Projects,Holiday Crafts,Wooden Xmas Trees,Different Christmas Trees,Pallet Tree,Christmas Kitchen</td><td>Christmas Trees From Pallet Wood | Holiday DIY</td><td>5fbf9863-fb79-477c-a5b6-540c3020a55f</td></tr><tr><td>tattoos</td><td>Although in the past, finger tattoos were not chosen by most people. However, as the trend of tattoos continues to change, we have found that in recent years more and more peopl… </td><td>1</td><td>47k</td><td>https://i.pinimg.com/originals/06/16/a7/0616a7915ce4bb0125906778ba979fe0.png</td><td>9268</td><td>image</td><td>IdeasDonuts</td><td>Local save in /data/tattoos</td><td>Wedding Finger Tattoos,Arrow Tattoo Finger,Flower Finger Tattoos,Hand And Finger Tattoos,Simple Finger Tattoo,Finger Tattoos For Couples,Hand Tattoos For Girls,Finger Tattoo For Women,Small Hand Tattoos</td><td>40 Hot Finger Tattoo Ideas</td><td>eaadbbf7-06aa-49cb-bf9b-1205118deb9c</td></tr><tr><td>education</td><td>Podcasts for Teachers or Parents of Teenagers: Teaching teens middle school and high school can feel joyful and rewarding most days, but can also frustrate you with one challeng… </td><td>1</td><td>25k</td><td>https://i.pinimg.com/originals/50/19/31/501931a27ee4d076658980851b995b2c.jpg</td><td>4315</td><td>image</td><td>Math Giraffe</td><td>Local save in /data/education</td><td>Middle School Classroom,High School Students,High School Teachers,Middle School Tips,High School Counseling,Ela Classroom,High School Science,Future Classroom,Google Classroom</td><td>Podcasts for Teachers or Parents of Teenagers</td><td>21b59ba9-829d-4c33-8c27-4cd4c56d26b8</td></tr><tr><td>education</td><td>This book presents 10 inspirational case studies of how centre leaders, principals and leadership teams in high-needs New Zealand educational settings have enacted leadership to… </td><td>1</td><td>2M</td><td>https://i.pinimg.com/originals/0e/ea/c4/0eeac457780bbe43fcc5e9eaabd80f62.jpg</td><td>3599</td><td>image</td><td>Walmart</td><td>Local save in /data/education</td><td>Research Studies,Educational Leadership,Education System,Secondary School,Try It Free,Book Format,Social Justice,Young People,Paperback Books</td><td>Educational Leadership in Aotearoa New Zealand : Issues of Context and Social Justice</td><td>ff0dd945-dafa-411c-8cef-eb43e374e815</td></tr><tr><td>event-planning</td><td>Sacramento California Wedding 2 Chic Events & Design Jodi Yorston Photography Wilson Vineyards Barn Miosa Couture Yellow Barn Vineyard Outdoor Candles DIY</td><td>1</td><td>6M</td><td>https://i.pinimg.com/originals/7e/45/90/7e45905fefa36347e83333fd6d091140.jpg</td><td>5069</td><td>image</td><td>Style Me Pretty</td><td>Local save in /data/event-planning</td><td>60th Anniversary Parties,Anniversary Decorations,Golden Anniversary,25th Wedding Anniversary,Anniversary Pictures,Anniversary Ideas,Birthday Decorations,Event Planning Design,Event Design</td><td>The Vault: Curated & Refined Wedding Inspiration</td><td>b75b6f87-deb3-444f-b29e-ce9161b2df49</td></tr><tr><td>mens-fashion</td><td>Black And Brown Outfits You Need To Try This Fall Season. The trick with black and brown outfits is to know how to combine colors, fabrics, and shapes to get a cohesive look. So… </td><td>1</td><td>1M</td><td>https://i.pinimg.com/originals/3e/49/09/3e4909c0ccc4dbba3cad83d97eab4a61.png</td><td>7343</td><td>image</td><td>Cultura Colectiva</td><td>Local save in /data/mens-fashion</td><td>Winter Outfits Men,Stylish Mens Outfits,Casual Outfits,Men Casual,Smart Casual,Outfits For Men,Fall Outfits,Mens Winter Boots,Business Casual Men</td><td>This Fashion Rule Is Nonsense, And We Should All Forget About It</td><td>b8c63a95-6fe8-4d7f-9455-1eef3462fee0</td></tr><tr><td>tattoos</td><td>summcoco gives you inspiration for the women fashion trends you want. Thinking about a new look or lifestyle? This is your ultimate resource to get the hottest trends. 30+ Eagle… </td><td>1</td><td>306k</td><td>https://i.pinimg.com/originals/8d/c6/ed/8dc6ed0b212393187a14c7d07a88060f.png</td><td>8606</td><td>image</td><td>Sumcoco | Decor Ideas, Hairstyles, Nails Fashion Advice</td><td>Local save in /data/tattoos</td><td>White Bird Tattoos,Rose Tattoos,Flower Tattoos,Tattoo Black,Bird And Flower Tattoo,Tattoo Floral,Mini Tattoos,Flower Art,Girls With Sleeve Tattoos</td><td>30+ Eagle Tattoos Ideas for Women</td><td>71757040-bfc8-4631-9cac-22801e61d9e3</td></tr><tr><td>tattoos</td><td>Disney characters never go out with time. From small to bold, here are the best Disney tattoos that both adults and children will adore.</td><td>1</td><td>190k</td><td>https://i.pinimg.com/originals/29/1d/13/291d1361e275358df53c1db02b63d3a4.jpg</td><td>9074</td><td>image</td><td>Our Mindful Life</td><td>Local save in /data/tattoos</td><td>Small Disney Tattoos,Disney Thigh Tattoo,Matching Disney Tattoos,Disney Couple Tattoos,Disney Inspired Tattoos,Disney Sleeve Tattoos,Matching Best Friend Tattoos,Small Tattoos,3 Best Friend Tattoos</td><td>77 Disney Tattoos To Unleash Your Magic Power - Our Mindful Life</td><td>2adede06-7fb0-4b5f-8cf9-ce8e6d6fa6a1</td></tr><tr><td>home-decor</td><td>Beautiful and easy ways to update every room in your home with fall decor. Plus, my favorite finds in fall decor for 2020!</td><td>1</td><td>92k</td><td>https://i.pinimg.com/originals/e5/ae/dc/e5aedc14ce557e3a69f672e0f8c88f6e.png</td><td>6063</td><td>image</td><td>Kristen | Lifestyle, Mom Tips & Teacher Stuff Blog</td><td>Local save in /data/home-decor</td><td>Fall Home Decor,Autumn Home,Fall Decor Outdoor,Front Porch Fall Decor,Home Decor Ideas,Porch Ideas For Fall,Fall Outdoor Decorating,Decorating Ideas For Fall,Fall Front Doors</td><td>41 Gorgeous Fall Decor Ideas For Your Home - Chaylor & Mads</td><td>60693727-4927-4bd6-a8c5-096a392d63e6</td></tr><tr><td>event-planning</td><td>So you're thinking of getting your event planner certification, but how much do you REALLY know about event planning? Event planners need to be knowledgeable and able to answer… </td><td>1</td><td>5k</td><td>https://i.pinimg.com/originals/6f/19/bc/6f19bce24921bf843540fc04da9eb6bf.jpg</td><td>5076</td><td>image</td><td>QC Career School</td><td>Local save in /data/event-planning</td><td>Diy Wedding Food,Best Wedding Makeup,Wedding Events,Wedding Tips,Wedding Stuff,Weddings,Event Planning Business,Business Events,Wedding Makeup Tutorial</td><td>Quiz: Test Your Event IQ! - Pointers For Planners</td><td>fa3af29c-dc78-4eed-a4c5-52a407ea04c0</td></tr><tr><td>quotes</td><td>Who needs anyone else? not me. I deserve the world so I'm gonna give it to myself. | Being You | Inspirational Quotes | #beinspired #beyourself #inspirationalquote | www.unsoshl… </td><td>1</td><td>942k</td><td>https://i.pinimg.com/originals/24/8e/64/248e64a976d22570453b252fdcb96396.jpg</td><td>7874</td><td>image</td><td>YourTango</td><td>Local save in /data/quotes</td><td>Good Quotes,Motivacional Quotes,Quotes Thoughts,Great Inspirational Quotes,Life Quotes Love,Self Love Quotes,Change Quotes,Quotes To Live By,Best Quotes</td><td>35 Happiness Quotes Will Remind You To Freaking ROCK Your Day Today</td><td>5343b4fb-36a8-4f38-a71d-48c5eaabb57f</td></tr><tr><td>mens-fashion</td><td>Hamilton Khaki Aviation Pilot Chrono H76712151 Movement: ETA 251.274 quartz chronograph Case: Polished and brushed stainless steel. 44mm in diameter. Water resistant to 100 mete… </td><td>1</td><td>265</td><td>https://i.pinimg.com/originals/13/cb/d6/13cbd63c3b2582b9ba4ec027d62e91c2.png</td><td>7167</td><td>image</td><td>Midwest Jewelers & Estate Buyers</td><td>Local save in /data/mens-fashion</td><td>Swiss Army Watches,Seiko Watches,Luxury Watches For Men,Silver Man,Breitling,Fashion Watches,Men's Fashion,Fashion Tips,Cool Watches</td><td>Hamilton Khaki Aviation Pilot Chrono Watch H76712151</td><td>922425d2-16dc-465e-8fe4-e3c081a0299f</td></tr><tr><td>art</td><td>Nike trainers sprout plants and French perfumiers inspire by mysterious scientific icons in Katie Scott’s visions that take botanical illustration into the digital age</td><td>1</td><td>908k</td><td>https://i.pinimg.com/originals/16/8a/fa/168afae02d5ffc71da10cdb312de2cb1.jpg</td><td>552</td><td>image</td><td>The Guardian</td><td>Local save in /data/art</td><td>Art And Illustration,Illustration Inspiration,Botanical Illustration,Vintage Illustrations,Botanical Drawings,Botanical Prints,Arte Inspo,Insect Art,Psychedelic</td><td>The herbal bed: Katie Scott's psychedelic flora and fauna – in pictures</td><td>b82602a9-e434-42cf-9481-22f3f41d82ce</td></tr><tr><td>tattoos</td><td>Snake temporary tattoo for collarbone. Spooky 3D tattoo for Halloween Includes 2 copies, 1 for the right side and 1 for the left side Apply with water and remove anytime with ba… </td><td>1</td><td>0</td><td>https://i.pinimg.com/originals/d8/b7/a1/d8b7a11a3fe64e7fab91d3afb1536537.jpg</td><td>8578</td><td>image</td><td>Livitrevisani</td><td>Local save in /data/tattoos</td><td>Finger Tattoo Designs,Small Tattoo Designs,Finger Tattoos,Small 3d Tattoos,Cool Tattoos,Line Work Tattoo,Back Tattoo,Collarbone Tattoo,Tattoo Neck</td><td>Snake Collarbone Temporary Tattoo. Halloween Tattoos  Spooky | Etsy</td><td>036ec267-658b-4dad-a097-8ef0b4f30c0d</td></tr><tr><td>travel</td><td>From practical travel tips to tips for inner travel peace, the following is a long list of everything we think every female traveler should know in order to get the most out of… </td><td>1</td><td>41k</td><td>https://i.pinimg.com/originals/cd/66/6d/cd666dbe0791e67881586f0c85495f88.jpg</td><td>10245</td><td>image</td><td>Her Packing List | Minimalist Travel Essentials & Tips for Women</td><td>Local save in /data/travel</td><td>Travel To Do,Travel Blog,Travel Info,Future Travel,Travel Advice,Solo Travel,Time Travel,Travel Guides,Places To Travel</td><td>99 Things Every Female Traveler Should Know</td><td>cb3aee98-8171-44ce-bc47-9275b2d2c731</td></tr><tr><td>beauty</td><td>It can be used as a pre-cleansing or pre-makeup step, a toner (that mildly hydrates and exfoliates), or a midday refresher. The possibilities!Get it from Soko Glam for $30.</td><td>1</td><td>5M</td><td>https://i.pinimg.com/originals/08/68/cb/0868cb65f447b9b165544f72fd05cbce.jpg</td><td>1450</td><td>image</td><td>BuzzFeed</td><td>Local save in /data/beauty</td><td>Face Care,Body Care,Beauty Skin,Beauty Makeup,K Beauty,Beauty Water,Tips Belleza,Aesthetic Makeup,All Things Beauty</td><td>A multitasking cleanser/toner that feels incredibly light on the skin and smells ever so faintly of rose petals.</td><td>be11eb0e-bf1d-4558-979c-5daf59454439</td></tr><tr><td>education</td><td>15 Essential Classroom Items For First Year Teachers / First Year Teacher Must Haves</td><td>1</td><td>5k</td><td>https://i.pinimg.com/originals/4b/b9/a8/4bb9a85f609a8384ed9c9ab14e7bcea0.jpg</td><td>4137</td><td>image</td><td>Write Your Story | Budgeting, Healthy Lifestyle, Faith</td><td>Local save in /data/education</td><td>1st Year Teachers,First Year Teaching,First Grade Teachers,Elementary Teacher,Montessori Elementary,Teaching Reading,History Teachers,High School Classroom,First Grade Classroom</td><td>15 Essential Classroom Items For First Year Teachers / First Year Teacher Must Haves</td><td>bf275054-4464-448b-9143-1bf101aa366d</td></tr><tr><td>home-decor</td><td>Celebrate fall with a neutral color palette with natural elements. This Navy and Neutral Fall Living Room + Kitchen Tour will make you rethink fall decor.</td><td>1</td><td>178k</td><td>https://i.pinimg.com/originals/f1/be/b6/f1beb6d3414f1c52929df39a83d8da9f.jpg</td><td>6566</td><td>image</td><td>Sand and Sisal</td><td>Local save in /data/home-decor</td><td>Fall Living Room,Coastal Living Rooms,Living Room Paint,Living Room Kitchen,Living Room Interior,Living Room Furniture,Living Room Decor,Living Area,Small Living</td><td>Navy and Neutral Fall Living Room + Kitchen Tour - Sand and Sisal</td><td>6d8848f8-f515-4935-8dae-5dd02304d76e</td></tr><tr><td>travel</td><td>Are you looking for the cheapest country to visit? Here are the cheapest countries to visit in the world! These are affordable destinations that offer the most value for an unfo… </td><td>1</td><td>7k</td><td>https://i.pinimg.com/originals/56/10/37/561037138bcc9c20e88a8e66ae0cb658.png</td><td>9487</td><td>image</td><td>Diana's Healthy Living | Luxury Adventure Travel Blog</td><td>Local save in /data/travel</td><td>Travel Advice,Travel Guides,Travel Tips,Travel Goals,Travel Info,Travel Essentials,Travel Stuff,Travel Hacks,Cheap Travel</td><td>The Cheapest Countries to Visit Around the World</td><td>3bccb05e-f031-477f-9ca4-9be28e5bd542</td></tr><tr><td>christmas</td><td>Transform mini terra cotta pots into the sweetest gingerbread house ornaments! Kids will love making this adorable Christmas craft to hang on the tree.</td><td>1</td><td>20k</td><td>https://i.pinimg.com/originals/13/28/09/1328097d7c290d1bf8642b01a6ba1c6c.jpg</td><td>2411</td><td>image</td><td>Projects with Kids</td><td>Local save in /data/christmas</td><td>Noel Christmas,Diy Christmas Ornaments,Homemade Christmas,Simple Christmas,Gingerbread Ornaments,Christmas Gingerbread,Gingerbread Houses,Preschool Christmas,Ornaments Ideas</td><td>The Sweetest Gingerbread House Ornaments Kids Can Make</td><td>4e11801e-7a64-4f1e-90dd-e900677595c5</td></tr><tr><td>diy-and-crafts</td><td>Painting pasta to thread - this was so much fun and the cool fluro pasta made great necklaces!</td><td>1</td><td>130k</td><td>https://i.pinimg.com/originals/a1/3d/0a/a13d0a596937d745809c21d68de1ab92.jpg</td><td>2788</td><td>image</td><td>Katepickle - picklebums - fun ideas for families</td><td>Local save in /data/diy-and-crafts</td><td>Craft Activities For Kids,Toddler Activities,Easy Toddler Crafts,Time Activities,Activities For 4 Year Olds,At Home Crafts For Kids,Arts And Crafts For Kids Toddlers,Back To School Crafts For Kids,Spring Toddler Crafts</td><td>Painting Pasta to Thread</td><td>caf2fab1-bca6-49ff-8084-98094c945143</td></tr><tr><td>mens-fashion</td><td>Women's T-shirt. Design inspired by the rock band The Killers' hit \"Mr. Brightside\". One of the greatest song from the album Hot Fuss released in 2004. Soft and light, 100% cott… </td><td>1</td><td>27</td><td>https://i.pinimg.com/originals/8c/42/39/8c42391d35fcad51a4a79f7cd81bf26d.jpg</td><td>7166</td><td>image</td><td>Mala Rock | Rock T-shirts</td><td>Local save in /data/mens-fashion</td><td>Mr Brightside,Rock T Shirts,Greatest Songs,Timeless Classic,Rock Bands,Album,T Shirts For Women,Inspired,Hot</td><td>The Killers - Mr. Brightside - Women's T-Shirt - Heather Dark Grey / S</td><td>4a844b03-e161-47a1-904b-591eb5dc4fb1</td></tr><tr><td>tattoos</td><td>We have put together the Ultimative Sunflower Tattoo Collection in 2020. Check out our highest rated handpicked Sunflower designs here!</td><td>1</td><td>800k</td><td>https://i.pinimg.com/originals/18/de/6c/18de6c81a8637e224c7d63dce1414ceb.jpg</td><td>8930</td><td>image</td><td>Next Luxury</td><td>Local save in /data/tattoos</td><td>Sunflower Tattoo Sleeve,Sunflower Tattoo Shoulder,Sunflower Tattoo Small,Sunflower Tattoos,Sunflower Tattoo Design,Shoulder Tattoo,Sunflower Mandala Tattoo,Sunflower Tattoo Meaning,Form Tattoo</td><td>135 Sunflower Tattoo Ideas - [Best Rated Designs in 2021]</td><td>a2999c28-f7b2-4577-af87-49d21d6d8a18</td></tr><tr><td>travel</td><td>On our Calgary to Vancouver road trip we got to spend time in Banff, Canada. We visited the stunning Lake Moraine as well as Lake Louise and plenty of other of Canada's natural… </td><td>1</td><td>7k</td><td>https://i.pinimg.com/videos/thumbnails/originals/57/9d/52/579d52242ae5609978c754d393e44e81.0000001.jpg</td><td>9672</td><td>video</td><td>Travel Mad Mum</td><td>Local save in /data/travel</td><td>Beautiful Places To Travel,Cool Places To Visit,Beautiful Roads,Beautiful Scenery,Wonderful Places,Lac Moraine,Moraine Lake,Lac Louise,Natur Wallpaper</td><td>Lake Moraine, Banff, Canada</td><td>1a5050a4-ac82-472c-aeff-3457de8bbee9</td></tr><tr><td>education</td><td>Our family would rather spend time outdoors than indoors. We love nature! That said, sometimes mother nature is uncooperative. On these days, it can be fun to pull out some natu… </td><td>1</td><td>9k</td><td>https://i.pinimg.com/originals/d6/3b/1a/d63b1a2a36534ecac5d1fbd0d932403a.jpg</td><td>3729</td><td>image</td><td>My Little Poppies (Cait Curley, MA/CAGS)</td><td>Local save in /data/education</td><td>Diy Nature,Theme Nature,Nature Study,Science And Nature,Summer Science,Earth Science,Nature Crafts,Outdoor Education,Outdoor Learning</td><td>5 + Nature Games for Your Homeschool</td><td>ac90f1d2-dc9e-438c-b073-dd48511b80b0</td></tr><tr><td>mens-fashion</td><td>Looking for the coolest fall fashion for men this season? Click to read this article on fall fashion for men to look sharp on LLEGANCE.</td><td>1</td><td>28k</td><td>https://i.pinimg.com/originals/4c/bf/2d/4cbf2d6e04d2502612169220553f4cef.jpg</td><td>7294</td><td>image</td><td>LLEGANCE | Workwear Fashion Woman Advice For Driven Professionals</td><td>Local save in /data/mens-fashion</td><td>Fashion 90s,Autumn Fashion,Fashion Ideas,Trendy Fashion,Fashion Photo,Fashion Outfits,Fashion Trends,Urban Fashion Men,Men's Casual Fashion</td><td>Foolproof Fall Fashion For Men You'll Love</td><td>9d8409ef-bea7-4133-a021-c58b9c042210</td></tr><tr><td>christmas</td><td>Take a look at this new collection of Christmas decor featuring 16 Blissful Christmas Table Decor Ideas That You Must See. Happy holidays!</td><td>1</td><td>616k</td><td>https://i.pinimg.com/originals/5f/70/30/5f7030a35bb8a1491e915fb0ae29bcf5.jpg</td><td>2015</td><td>image</td><td>ArchitectureArtDesigns</td><td>Local save in /data/christmas</td><td>Kids Crafts,Christmas Crafts For Kids,Homemade Christmas,Christmas Projects,Holiday Crafts,Christmas Gift Ideas,Preschool Christmas,Tree Crafts,Christmas Inspiration</td><td>16 Blissful Christmas Table Decor Ideas That You Must See</td><td>72359164-4419-452c-81cb-74f30a5a26b7</td></tr><tr><td>event-planning</td><td>Do you love planning parties? Do you want to work-at-home? This post covers everything you need to know about becoming a home-based event planner!</td><td>1</td><td>110k</td><td>https://i.pinimg.com/originals/4d/a3/a4/4da3a4730418239f1b43ce81fb032c15.jpg</td><td>4913</td><td>image</td><td>The Work at Home Woman</td><td>Local save in /data/event-planning</td><td>Event Planning Tips,Event Planning Business,Party Planning,Business Ideas,Craft Business,Business Chic,Business Inspiration,Business Goals,Business Opportunities</td><td>How to Work From Home as an Event Planner</td><td>4d2d79c6-9ca8-46c9-a38e-931c5d967804</td></tr><tr><td>beauty</td><td>Electroporation + LED + Low-Frequency Exercising muscles you never use in daily life, this product works like an electroporation that you can only get in a medical skin care cli… </td><td>1</td><td>18</td><td>https://i.pinimg.com/originals/05/61/89/056189f29c6898f2db14af0b526adf52.png</td><td>1137</td><td>image</td><td>Awesthetics by Amy Wong</td><td>Local save in /data/beauty</td><td>Cream For Oily Skin,Moisturizer For Oily Skin,Oily Skin Care,Face Skin Care,Face Care Tips,Beauty Tips For Face,Beauty Tricks,Skin Care Clinic,Skin Treatments</td><td>Epus-PRO Treatment Device</td><td>c0549191-51c3-4fb3-bcd3-824a9c46cfd7</td></tr><tr><td>diy-and-crafts</td><td>One thing I love about Crafts is how the evolve! These toilet paper rolls are adorable and modern. I love that something as simple as a recycled toilet paper roll can be taken t… </td><td>1</td><td>502k</td><td>https://i.pinimg.com/originals/c6/cd/0d/c6cd0d04da9cfc11566cfd34eeb1f918.jpg</td><td>2959</td><td>image</td><td>CraftGossip.com</td><td>Local save in /data/diy-and-crafts</td><td>Toilet Paper Roll Crafts,Cardboard Crafts,Diy Paper,Paper Crafting,Toilet Paper Rolls,Cardboard Playhouse,Paper Art,Kids Crafts,Toddler Crafts</td><td>The Cutest Toilet Paper Crafts</td><td>439cac4b-18e8-4aaa-88c5-edb26a701111</td></tr><tr><td>art</td><td>Looking for a complete post on how to watercolor? This guide shows you step-by-step how to learn how to watercolor on your own!</td><td>1</td><td>85k</td><td>https://i.pinimg.com/originals/d9/bf/31/d9bf3191828e8a4d145db739d5fac53e.jpg</td><td>778</td><td>image</td><td>Menucha - Moms and Crafters</td><td>Local save in /data/art</td><td>Watercolor Beginner,Watercolor Paintings For Beginners,Step By Step Watercolor,Watercolor Tips,Watercolour Tutorials,Watercolor Techniques,Art Techniques,Simple Watercolor,Tattoo Watercolor</td><td>Your complete guide to watercolors for beginners!</td><td>f82fe1cc-22ce-4c4d-82cc-2e8c9325701d</td></tr><tr><td>travel</td><td>35 European bucket list destinations for any traveler heading to Europe. From Cinque Terre, Italy to Iceland - there are so many amazing sites to see in Europe.</td><td>1</td><td>28k</td><td>https://i.pinimg.com/originals/71/04/1a/71041ad83ede43d9665741e719c58a86.jpg</td><td>9875</td><td>image</td><td>Nicki </td><td>Local save in /data/travel</td><td>Backpacking Europe,Europe Travel Guide,Travel Guides,Travel Packing,Traveling Europe,Travelling,Travel Backpack,Budget Travel,2 Week Europe Itinerary</td><td>European Bucket List: 35 Things NOT To Miss When Traveling Europe</td><td>782dcbad-ff91-40a6-ba60-216efe29adb7</td></tr><tr><td>art</td><td>Fashion designer Issac Mizrahi’s Greenwich Village home is an amalgamation of three apartments that was 20 years in the making</td><td>1</td><td>3M</td><td>https://i.pinimg.com/originals/f4/6c/54/f46c546a2e480022a42d842b7dca157e.jpg</td><td>428</td><td>image</td><td>Architectural Digest</td><td>Local save in /data/art</td><td>Modern Art,Contemporary Art,Contemporary Kitchens,Contemporary Bedroom,New York City Apartment,Manhattan Apartment,Art Moderne,Architectural Digest,Painting Inspiration</td><td>Fashion Designer Isaac Mizrahi’s Updated 1930s New York City Apartment</td><td>610b3f83-9fe0-469d-946c-d16b577fca71</td></tr><tr><td>beauty</td><td>What are the basic things you need for makeup? Let’s be honest, ladies; all women can do makeup, yet not all women know how to do makeup right. The good news is, this post can t… </td><td>1</td><td>799k</td><td>https://i.pinimg.com/originals/2c/1a/d4/2c1ad45b5c54034a2dbc73c84a89f5e4.jpg</td><td>1371</td><td>image</td><td>Glaminati</td><td>Local save in /data/beauty</td><td>Contouring Makeup,Skin Makeup,Beauty Makeup,Makeup Brushes,Eyeliner Makeup,Makeup Tips Lips,Makeup 101,Cheap Makeup,Rosa Eyeliner</td><td>How To Do Makeup - Step By Step Tips For The Perfect Look</td><td>33e92ac1-73d1-4c31-9892-d5e633060790</td></tr><tr><td>art</td><td>Everyone loves flowers for their beautiful shapes and color, but confronting all that colorful splendor can be daunting. Artist Jude Tolar shows how to make color decoding easy… </td><td>1</td><td>227k</td><td>https://i.pinimg.com/originals/e1/eb/e8/e1ebe8d2f201d92109b1b12bf6e2c1ac.jpg</td><td>772</td><td>image</td><td>Artists Network</td><td>Local save in /data/art</td><td>Chalk Pastel Art,Soft Pastel Art,Pastel Artwork,Oil Pastel Paintings,Chalk Pastels,Pastel Drawing,Oil Pastels,Horse Paintings,Flower Paintings</td><td>5 Pastel Color Palettes for 5 Floral Favorites</td><td>49a12516-2c77-445f-b656-4b55b4a69608</td></tr><tr><td>art</td><td>These up-and-coming influencers share amazing ideas for teaching our children through art, nature, and play. Also, their ideas are educational and fun!</td><td>1</td><td>2k</td><td>https://i.pinimg.com/originals/82/c1/1c/82c11cdbc4adcbccf8db68187f45abe3.jpg</td><td>327</td><td>image</td><td>Learn Play Read</td><td>Local save in /data/art</td><td>Classe D'art,Preschool Arts And Crafts,Preschool Christmas,Christmas Crafts,Ecole Art,Beginning Of School,Art Classroom,Flipped Classroom,Art Plastique</td><td>10 Creative Influencers to Follow for Preschool Arts and Crafts Ideas</td><td>549e1cf5-2301-478b-9e41-af3f618bdc5b</td></tr><tr><td>education</td><td>behavior, special education, token boards, when token boards don't work, money token systems</td><td>1</td><td>11k</td><td>https://i.pinimg.com/originals/24/f9/e2/24f9e22ada4a79c61432ef6c8fe1d0f9.jpg</td><td>3800</td><td>image</td><td>Traci Bender - The Bender Bunch</td><td>Local save in /data/education</td><td>Special Education Behavior,Classroom Behavior Management,Behavior Plans,Behaviour Management,Behavior Charts,Behavior Board,Behavior Report,Behavior Analyst,Preschool Special Education</td><td>Reinforcing the Difficult Child When Token Boards Don't Work!</td><td>d2c367ed-9287-4ea3-b173-198b292d9981</td></tr><tr><td>diy-and-crafts</td><td>HELPFUL RESOURCES – Check out my resin colorants resources page here with links to all the products mentioned in this article (and more). Let me know if you have any that you lo… </td><td>1</td><td>6k</td><td>https://i.pinimg.com/originals/d4/12/78/d4127833023ca32600571ddca16f1556.jpg</td><td>3454</td><td>image</td><td>Mixed Media Crafts</td><td>Local save in /data/diy-and-crafts</td><td>Epoxy Resin Art,Diy Resin Art,Diy Resin Crafts,Resin Molds,Ice Resin,Resin Pour,Diy Epoxy,Diy Resin Painting,Diy Resin Dice</td><td>What can you use to color resin?</td><td>46bd3f86-b09d-4e29-9033-7ff2df595e51</td></tr><tr><td>home-decor</td><td>No description available Story format</td><td>1</td><td>117k</td><td>https://i.pinimg.com/videos/thumbnails/originals/75/48/3b/75483b74822855519ec8b40df4c670ef.0000001.jpg</td><td>6398</td><td>multi-video(story page format)</td><td>MojisStyle</td><td>Local save in /data/home-decor</td><td>Decor Home Living Room,Home And Living,Diy Bedroom Decor,Home Decor,Bathroom Interior Design,Interior Design Living Room,Dream Home Design,House Design,Beautiful Bathrooms</td><td>My master bathroom makeover with @flooranddecor ! Follow me on Instagram @Mojisstyle for more</td><td>ea44d318-2ced-4cf8-a66f-a6a036b84faa</td></tr><tr><td>christmas</td><td>A gorgeous fragranced soy candle in a stoneware pot. Scent notes: • Top: Apple Cider, Cinnamon • Middle: Fresh Cut Christmas Tree • Base: Cookies, Orange Peels, Cloves Burn time… </td><td>1</td><td>13</td><td>https://i.pinimg.com/originals/fc/a0/6e/fca06e8a43ed4c867a58acbb1b6a5e6e.jpg</td><td>2301</td><td>image</td><td>Home Etc</td><td>Local save in /data/christmas</td><td>Christmas Tree Base,Fresh Cut Christmas Trees,Christmas Morning,Christmas Scents,Christmas Candles,Holiday Tree,Rustic Christmas,Fall Candles,Soy Candles</td><td>Christmas Candle</td><td>d502bdc4-103c-47db-832b-4a42a1ae9e0e</td></tr><tr><td>finance</td><td>Description Coupon Organizer in a fun colorful fabric -island oasis, Great Size for the \"basic\" couponer - holds up to 500 coupons with ease, and is made long enough so that you… </td><td>1</td><td>0</td><td>https://i.pinimg.com/originals/65/bb/ea/65bbeaf458907bb079317d8303c4fa0e.jpg</td><td>5730</td><td>image</td><td>Consuelo Aguirre</td><td>Local save in /data/finance</td><td>Grocery Items,Grocery Coupons,Care Organization,Coupon Organization,Extreme Couponing,Couponing 101,Life Binder,Save My Money,Love Coupons</td><td>Island Oasis Coupon Organizer</td><td>1e1f0c8b-9fcf-460b-9154-c775827206eb</td></tr><tr><td>vehicles</td><td>January 23, 2009 We can see emergency responders queueing up for this one. ATVCorp has created versions of its Prowler Light Tactical All Terrain Vehicle (LTATV) for fire-fighti… </td><td>1</td><td>314</td><td>https://i.pinimg.com/originals/14/6b/6b/146b6b1a1127773f7046e08550e68ed0.jpg</td><td>10552</td><td>image</td><td>p hump</td><td>Local save in /data/vehicles</td><td>Army Vehicles,Armored Vehicles,Go Kart Buggy,Atv Attachments,Aviation Fuel,Special Forces,Special Ops,Terrain Vehicle,Emergency Response</td><td>The Prowler Emergency Response Vehicle</td><td>17301b8c-ccbb-42ad-b2df-3876df35b1cd</td></tr><tr><td>art</td><td>Learn to create alcohol ink rings for gorgeous pieces of art. Each ring sits on top of another, giving a multilayered appearance</td><td>1</td><td>7k</td><td>https://i.pinimg.com/originals/03/03/1f/03031fdc9775d0c06f61d68e51362379.png</td><td>603</td><td>image</td><td>Kim Cook-Thirteen Chairs-Slates Mugs And Tees</td><td>Local save in /data/art</td><td>Alcohol Ink Tiles,Alcohol Ink Glass,Alcohol Ink Crafts,Alcohol Ink Painting,Pour Painting,Zealand Tattoo,Copics,Types Of Art,Art Techniques</td><td>How to Create Alcohol Ink Rings For Gorgeous Pieces of Art -</td><td>78e21a64-53b0-4745-8294-e8c456f0ccc1</td></tr><tr><td>art</td><td>Lines can depict any shape; they can create tridimensional effects and give the perception of movement. I did this drawing with 6th grade students, in order to create a mountain… </td><td>1</td><td>26</td><td>https://i.pinimg.com/originals/ad/e2/af/ade2af2b4ad1419a8d13b12a7969be16.jpg</td><td>232</td><td>image</td><td>mj</td><td>Local save in /data/art</td><td>Line Art Projects,School Art Projects,Art School,Art Education Projects,Garden Projects,Doodle Art,Elements Of Art Line,4th Grade Art,Art Lessons Elementary</td><td>Mountains made up of lines</td><td>4b3a299c-b202-44c3-8e54-bedce8f35429</td></tr><tr><td>art</td><td>10 art sub lessons that only need a pencil. Cover lessons for art teachers. Make the perfect art sub lessson folder with this amazing resources.</td><td>1</td><td>25k</td><td>https://i.pinimg.com/originals/ee/a8/78/eea878911033897d981a69d9f6b2fb7c.png</td><td>719</td><td>image</td><td>The Arty Teacher</td><td>Local save in /data/art</td><td>Art Lessons For Kids,Art Lessons Elementary,Art For Kids,Art Sub Plans,Art Lesson Plans,Art Substitute Plans,High School Art,Middle School Art,Primary School Art</td><td>10 Art Sub Lessons that only need a Pencil</td><td>d7c53e34-9540-4f48-a31b-89b6ed1852bb</td></tr><tr><td>education</td><td>Giant list of companies offering FREE services for schools and teachers during school closures</td><td>1</td><td>196k</td><td>https://i.pinimg.com/originals/05/df/76/05df76296994a6d9f5830eee642ff296.jpg</td><td>3750</td><td>image</td><td>Becky Mansfield - YourModernFamily </td><td>Local save in /data/education</td><td>Teacher Websites,Teacher Tools,Teacher Hacks,Teacher Resources,Free Teaching Resources,Teacher Binder,Teacher Stuff,Teaching Strategies,Teaching Tips</td><td>FREE FOR TEACHERS! List of Companies offering free subscriptions now!</td><td>011f8a14-ffab-4eee-a180-2c9154af430d</td></tr><tr><td>tattoos</td><td>Attractive Geometric Elephant Tattoo Female Will Love Today elephant tattoo for women are popular for…</td><td>1</td><td>6k</td><td>https://i.pinimg.com/originals/f9/14/11/f9141167d060e6a949e585f1b877a949.jpg</td><td>8978</td><td>image</td><td> Travel Pins Design Ideas</td><td>Local save in /data/tattoos</td><td>Cute Elephant Tattoo,Elephant Tattoo Design,Small Elephant Tattoos,Elephant Thigh Tattoo,Elephant Tattoo Meaning,Elephant Outline,Tattoo Oma,Tigh Tattoo,Small Thigh Tattoos</td><td>50 Elephant Tattoo Designs for Women Stylish Picture</td><td>b98e5485-de15-45e7-b4b1-c45351d84f30</td></tr><tr><td>christmas</td><td>20 Christmas Decorating Ideas We Bet You Haven't Thought Of via @PureWow</td><td>1</td><td>868k</td><td>https://i.pinimg.com/originals/e9/b9/f0/e9b9f01cc3b2cf41948b45854335396c.jpg</td><td>2074</td><td>image</td><td>PureWow</td><td>Local save in /data/christmas</td><td>Holiday Centerpieces,Xmas Decorations,Centerpiece Ideas,Table Centerpieces,Valentine Decorations,Wedding Centerpieces,Outdoor Decorations,Christmas Centerpieces With Candles,Christmas Dining Table Decorations</td><td>35 Christmas Decorating Ideas We Bet You Haven't Thought Of</td><td>86ed09a7-842d-496d-9501-010c654eb340</td></tr><tr><td>vehicles</td><td>After a week with my Sunrider . . LOVE!! I've opened it more in a week than I've had my freedom panels off in 1.5 years. Now, who has a sun-visor mod so...</td><td>1</td><td>11k</td><td>https://i.pinimg.com/originals/54/30/88/5430889d469677d563eaa2251711015f.jpg</td><td>10337</td><td>image</td><td>WranglerForum.com</td><td>Local save in /data/vehicles</td><td>Cj Jeep,Jeep Mods,Jeep Suv,Jeep Truck,Jeep Wrangler Forum,Jeep Wrangler Unlimited,Jeep Wrangler Accessories,Jeep Accessories,Jeep Photos</td><td>New Bestop Sunrider for Hardtop Review/s</td><td>104c2394-368c-425a-9625-a116b59da94d</td></tr><tr><td>art</td><td>Free quick inspirational video on creating a mixed media face with acrylic, collage, stenciling and simple techniques. Come on over to watch</td><td>1</td><td>27k</td><td>https://i.pinimg.com/videos/thumbnails/originals/05/86/a4/0586a4116e1fc34efc25e064ccd123e8.0000001.jpg</td><td>831</td><td>video</td><td>Shawn Petite</td><td>Local save in /data/art</td><td>Collage Kunst,Paper Collage Art,Collage Art Mixed Media,Mixed Media Painting,Mixed Media Canvas,Canvas Collage,Art Collages,Wall Canvas,Canvas Art</td><td>creating mixed-media faces tutorial</td><td>5e65914d-9f58-4ff1-9676-658e426e8ce5</td></tr><tr><td>vehicles</td><td>Aimee Song of the blog Song of Style shares a photo diary of her weekend in the Joshua Tree desert with Faithfull the Brand. Photos by Grant Legan.</td><td>1</td><td>1k</td><td>https://i.pinimg.com/originals/11/1e/c3/111ec37eed198cb432f71b20afd0e770.jpg</td><td>10370</td><td>image</td><td>Maggie Panning</td><td>Local save in /data/vehicles</td><td>Pretty Cars,Cute Cars,Classy Cars,Sexy Cars,Dream Cars,My Dream Car,Carros Retro,Ford Classic Cars,Ford Mustang Classic</td><td>Joshua Tree - A Weekend in the Desert with Faithfull | Song of Style</td><td>746948e7-a216-456b-8de7-7fee7312012c</td></tr><tr><td>quotes</td><td>No description available Story format</td><td>1</td><td>3k</td><td>https://i.pinimg.com/videos/thumbnails/originals/2b/20/ac/2b20ace41dfc29087005a3df9fe1dd6d.0000001.jpg</td><td>7832</td><td>multi-video(story page format)</td><td>LISA MASLYK / VOICE OVER TALENT /ACTOR</td><td>Local save in /data/quotes</td><td>Motivacional Quotes,Doodle Quotes,Wisdom Quotes,Words Quotes,Year Quotes,Positive Quotes For Life,Good Life Quotes,Self Love Quotes,Self Healing Quotes</td><td>You either win or you learn❤️ #inspirationalquote #quote #positive #hope</td><td>a549938a-786e-4a94-a473-403e8e3a15ad</td></tr><tr><td>beauty</td><td>The oil cleansing method is a simple, natural way to have clean skin without using toxic chemicals. It will leave your face radiant and soft!</td><td>1</td><td>85k</td><td>https://i.pinimg.com/originals/2c/1c/da/2c1cda7da86ee711536bbacfe89c75c9.jpg</td><td>1545</td><td>image</td><td>Thank Your Body</td><td>Local save in /data/beauty</td><td>Beauty Care,Diy Beauty,Beauty Hacks,Beauty Shop,Oil Cleansing Method,Goji,Korean Skincare Routine,Homemade Beauty Products,Organic Beauty</td><td>Oil Cleansing Method: What it is and why you should do it.</td><td>0c629541-cc5b-4b61-bd3f-613346893258</td></tr><tr><td>art</td><td>Use our easy step by step tutorial to create a DIY abstract heart painting on any canvas size. Lots of inspiration to help you choose colors.</td><td>1</td><td>410k</td><td>https://i.pinimg.com/originals/33/85/f8/3385f82ee5e8ecdcccdf798bdcbee3d2.jpg</td><td>205</td><td>image</td><td>The Creativity Exchange</td><td>Local save in /data/art</td><td>Painting & Drawing,Watercolor Paintings,Original Paintings,Owl Watercolor,Acrylic Paintings,Owl Art,Bird Art,Beginner Painting,Animal Paintings</td><td>DIY Abstract Heart Painting and a Fun Paint Party</td><td>f4afd543-b9fe-44c3-8064-f2198faa1372</td></tr><tr><td>home-decor</td><td>BOHEMIAN TRENDING TEXTURES FOR THE HOME ~ ROUNDED UP MY FAVORITE RATTAN & CANE HOME DECOR FINDS</td><td>1</td><td>13k</td><td>https://i.pinimg.com/originals/24/89/f7/2489f76f98cb3c1189848ddc42f2ec52.jpg</td><td>6261</td><td>image</td><td>Dashing Darlin' </td><td>Local save in /data/home-decor</td><td>Boho Chic Living Room,Boho Chic Entryway,Living Room Decor With White Couch,Rustic Living Rooms,Diy Living Room,Living Room Upstairs,Rustic Room,Bohemian Living,Living Room Inspiration</td><td>DECORATING WITH RATTAN & CANE - Dashing Darlin'</td><td>308c5c1c-1ebd-4649-be78-14424ee346b1</td></tr><tr><td>quotes</td><td>A feminist? More like a warrior. These bad bitch quotes might be the perfect slap-in-the-face you'll need to fight self-doubts.</td><td>1</td><td>190k</td><td>https://i.pinimg.com/originals/43/91/f5/4391f5ce5501ded201706022572514ae.png</td><td>7586</td><td>image</td><td>Our Mindful Life</td><td>Local save in /data/quotes</td><td>Bitch Quotes,Sarcastic Quotes,True Quotes,Funny Quotes,Girls Attitude Quotes,Sassy Quotes Bitchy,Bad Words Quotes,Bad Girl Quotes,Girl Qoutes</td><td>64 Bad Bitch Quotes To Awaken Your Inner Savage -Our Mindful Life</td><td>28525ffe-fb38-4e4b-90be-55464575cc3b</td></tr><tr><td>art</td><td>Kids will use chalk pastels and black paper to create this bold and bright hot chocolate art project! Easy to follow tutorial included.</td><td>1</td><td>20k</td><td>https://i.pinimg.com/originals/5a/d3/82/5ad38202cf8acb022cb8f46ce2a78ad6.jpg</td><td>808</td><td>image</td><td>Projects with Kids</td><td>Local save in /data/art</td><td>Hot Chocolate Art,Chocolate Crafts,Art Activities For Kids,Preschool Art,Preschool Winter,Christmas Activities,Winter Art Projects,Clay Art Projects,Chalk Pastel Art</td><td>Chalk Pastel Hot Chocolate Art Project</td><td>23f67e42-db9f-4aae-8b82-cbec64ad9f4d</td></tr><tr><td>beauty</td><td>Skin Purging sorgt für die reinste Haut, die du jemals hattest #skin äpurging #skinpurging #skincare #hautpflege #schönehaut #haut #beauty #tips</td><td>1</td><td>326k</td><td>https://i.pinimg.com/originals/93/b2/7b/93b27be044b2fd2f227f30a7f2c2faf2.jpg</td><td>1555</td><td>image</td><td>ELLE Germany</td><td>Local save in /data/beauty</td><td>Natural Hair Mask,Natural Hair Styles,Natural Beauty,Skin Tag,How To Apply Makeup,Pimples,Beauty Routines,Skincare Routine,Glowing Skin</td><td>Skin Purging: Die Pflegemethode für reine Haut | ELLE</td><td>1f20551b-a21c-4ff0-b20d-49e95fdc50d3</td></tr><tr><td>finance</td><td>Don't fight about budgets and money with your spouse! Here are a few tips that we've found that make it work in our marriage!</td><td>1</td><td>313</td><td>https://i.pinimg.com/originals/37/d5/82/37d58296bcef3471a633c76b89d8625e.jpg</td><td>5468</td><td>image</td><td>Annamarie Hilton</td><td>Local save in /data/finance</td><td>Ways To Save Money,Money Tips,Money Saving Tips,How To Make Money,Managing Money,Saving Time,College Fund,Scholarships For College,Education College</td><td>Budgets, Spouses & Making It Work! - Tshanina Peterson</td><td>91ee49f6-0070-4270-ba19-fde88ba51c91</td></tr><tr><td>quotes</td><td>Are you looking for some heart touching sad quotes and sayings; Here we have collected for you 50 best heart touching sad quotes..</td><td>1</td><td>112</td><td>https://i.pinimg.com/originals/0c/0f/40/0c0f408d96458080e0c82adb50be8e8f.jpg</td><td>7790</td><td>image</td><td>AnnaLee Kick</td><td>Local save in /data/quotes</td><td>Crush Quotes For Girls,Sad Crush Quotes,Hurt Quotes,Love Me Quotes,Mood Quotes,Quotes To Live By,Life Quotes,Quotes Quotes,Sad Quotes That Make You Cry</td><td>50 Heart Touching Sad Quotes That Will Make You Cry</td><td>9cd89fb9-d1af-4e66-85ca-c9d656c918b4</td></tr><tr><td>beauty</td><td>Might try this... I'm generally skeptical about at-home remedies, but I know baking soda and lemons both do wonders. More</td><td>1</td><td>5M</td><td>https://i.pinimg.com/originals/c8/ab/af/c8abaffc56050f674eef8e65ad684929.jpg</td><td>1422</td><td>image</td><td>BuzzFeed</td><td>Local save in /data/beauty</td><td>Baking Soda Lemon Juice,Diy Beauté,Tips Belleza,Belleza Natural,Health And Beauty Tips,Beauty Secrets,Beauty Advice,Diy Beauty Tips,Beauty Life Hacks</td><td>41 Life-Saving Beauty Hacks Every Girl Should Have In Her Arsenal</td><td>7bbe860c-a739-4ba9-babd-feb24bb6e4d9</td></tr><tr><td>vehicles</td><td>There are a lot of options of places to stay so you probably only have to book the initial one so you know the best place to land from the airport</td><td>1</td><td>171k</td><td>https://i.pinimg.com/originals/e9/01/4d/e9014d537dd2b81c606e8466cef3904c.jpg</td><td>10663</td><td>image</td><td>vintagetopia</td><td>Local save in /data/vehicles</td><td>Old Classic Cars,Classic Trucks,Old Vintage Cars,Antique Cars,Vintage Trucks,Antique Trucks,Cadillac,Convertible,Mustang</td><td>21+ Classic Car Picture of the 1950s - Vintagetopia</td><td>d5208c16-82ae-4fd1-87f0-36e5ef789412</td></tr><tr><td>diy-and-crafts</td><td>Keep the kids busy this summer with these easy diy crafts and projects. Creative and…</td><td>1</td><td>124k</td><td>https://i.pinimg.com/originals/b3/bc/e2/b3bce2964e8c8975387b39660eed5f16.jpg</td><td>2863</td><td>image</td><td>Of Life & Lisa | Lifestyle Blog</td><td>Local save in /data/diy-and-crafts</td><td>Summer Crafts For Kids,Fun Crafts For Kids,Summer Kids,Toddler Crafts,Crafts To Do,Diy For Kids,Summer Snow,Diys For Summer,Craft Ideas For Girls</td><td>25 Super Fun Summer Crafts for Kids - Of Life and Lisa</td><td>9bf39437-42a6-4f02-99a0-9a0383d8cd70</td></tr><tr><td>tattoos</td><td>We welcome you to our latest collection of Beautiful Tattoo Ideas For Women. Check out and get inspired by the most beautiful design for yourself.</td><td>1</td><td>21k</td><td>https://i.pinimg.com/originals/fa/cf/7c/facf7cd752a4bc7c09faaa8925ab80b1.jpg</td><td>8653</td><td>image</td><td>ALL FOR WOMAN</td><td>Local save in /data/tattoos</td><td>Small Back Tattoos,Small Girl Tattoos,Little Tattoos,Tattoo Girls,Mini Tattoos,Tattoo Small,Back Tattoo Women,Tattoo On Back,Girl Back Tattoos</td><td>Unique Women Tattoos Ideas 2020</td><td>24b1343c-4d86-4705-8ec9-7f1f2df2d77e</td></tr><tr><td>diy-and-crafts</td><td>A fun space activity for kids. Preshoolers and kindergartners will love making their own alien spacecraft!</td><td>1</td><td>192k</td><td>https://i.pinimg.com/originals/6f/e8/aa/6fe8aa405513c6d2f77b5f47d17cdce8.jpg</td><td>2923</td><td>image</td><td>The Crafting Chicks</td><td>Local save in /data/diy-and-crafts</td><td>Paper Plate Crafts For Kids,Fun Crafts For Kids,Summer Crafts,Toddler Crafts,Art For Kids,Outer Space Crafts For Kids,Kid Crafts,Space Kids,Back To School Crafts For Kids</td><td>UFO Paper Plate Craft</td><td>52fa3af5-24a4-4ccb-8f17-9c3eb12327ee</td></tr><tr><td>travel</td><td>Volcanoes, hikes, and hot springs in Costa Rica! The ultimate 5 day travel itinerary. - #costarica #travel #blogging #blog #bucketlist</td><td>1</td><td>22k</td><td>https://i.pinimg.com/originals/60/fe/4c/60fe4c3602e8e50e2e9f787ed27d2aba.jpg</td><td>9936</td><td>image</td><td>Jess Wandering</td><td>Local save in /data/travel</td><td>Costa Rica Reisen,Costa Rica Travel,Vacation Places,Dream Vacations,Vacation Spots,Vacation Food,Vacation Ideas,Voyage Dubai,Beautiful Places To Travel</td><td>Chasing Waterfalls in Costa Rica</td><td>1f3154a6-13f0-4049-8d5c-faea15b9f07c</td></tr><tr><td>quotes</td><td>motivation quotes</td><td>1</td><td>45k</td><td>https://i.pinimg.com/originals/ee/b4/bc/eeb4bccdb074edb787ea61711e0c4dfd.jpg</td><td>7768</td><td>image</td><td>Boss Babe Chronicles | Personal Development, Finances, Self Care</td><td>Local save in /data/quotes</td><td>Motivacional Quotes,Motivational Quotes For Life,Uplifting Quotes,True Quotes,Words Quotes,Empowering Quotes,Boss Up Quotes,Inspirational Success Quotes,Boss Babe Quotes Work Hard</td><td>16 Motivational Quotes Get You Inspired Today - Boss Babe Chronicles</td><td>ae1a61f6-d958-40fe-ba93-6a78b3a73178</td></tr><tr><td>beauty</td><td>Here’s how to get long-lasting makeup, so you can do your face in the morning and be set for the entire day. Follow these makeup tips for foundation, lipstick and more using pro… </td><td>1</td><td>3k</td><td>https://i.pinimg.com/originals/d9/d1/3b/d9d13b9ac47d54940f05a75345a873d4.jpg</td><td>1268</td><td>image</td><td>Tony</td><td>Local save in /data/beauty</td><td>Beauty Makeup,Eye Makeup,Diy Beauty,Beauty Ideas,Beauty Skin,Homemade Beauty,Wolf Makeup,Oily Skin Makeup,Face Beauty</td><td>Janet on Twitter</td><td>e2f2cec5-cda5-42b2-ab9d-6dddf863e94e</td></tr><tr><td>finance</td><td>Need to organize your finances? Create a filing system that works for you. Learn how to organize your finances and give all your documents a home with</td><td>1</td><td>14k</td><td>https://i.pinimg.com/originals/e6/46/a3/e646a3462219ed0f6f752bcad93fd5a5.png</td><td>5758</td><td>image</td><td>Esavingsblog</td><td>Local save in /data/finance</td><td>Ways To Save Money,Money Tips,Money Saving Tips,Managing Money,Money Hacks,Saving Ideas,Finance Bank,Personal Finance,Finance Degree</td><td>Robot Challenge Screen</td><td>af602075-7bea-4aa0-adf4-a1a89952e92e</td></tr><tr><td>beauty</td><td>In the face of a pandemic, economic collapse, and climate change, Instagram photos of shelves crowded with skin-care products appear out of</td><td>1</td><td>20</td><td>https://i.pinimg.com/originals/a3/d0/29/a3d029500020cc9c9c44f97c60dbc515.png</td><td>1198</td><td>image</td><td>Mccready-romero</td><td>Local save in /data/beauty</td><td>Care Organization,Bathroom Organisation,Medicine Organization,Beauty Care,Beauty Skin,Elle Ferguson,Shelfie,Makeup Storage,Beauty Room</td><td>The End of the Skin-Care Craze</td><td>1a90caac-f5df-4a27-821b-0fb4be678542</td></tr><tr><td>art</td><td>Mountain monologue watercolor</td><td>1</td><td>27k</td><td>https://i.pinimg.com/originals/fd/54/89/fd548935dcb13545120a2115baaa41d9.jpg</td><td>46</td><td>image</td><td>It's me, JD | DIY, Crafts, Home & Organization</td><td>Local save in /data/art</td><td>Arte Inspo,Kunst Inspo,Watercolor Artists,Watercolor Ideas,Simple Watercolor,Tattoo Watercolor,Watercolor Techniques,Watercolor Animals,Watercolor Illustration</td><td>10 Watercolor Hacks For Beginners | Tips and Tricks to Making Watercolor Painting Easier</td><td>19234073-8905-4885-b0d5-98e0b84cbf27</td></tr><tr><td>finance</td><td>How to Get Rid of Cable and Still Watch all of your favorite shows! Saving Money Tips for TV & Cable!</td><td>1</td><td>330k</td><td>https://i.pinimg.com/originals/c9/18/be/c918be2784382dc49010719bf1742a61.jpg</td><td>5309</td><td>image</td><td>Passion For Savings</td><td>Local save in /data/finance</td><td>Ways To Save Money,Money Tips,Money Saving Tips,Money Hacks,Managing Money,Cable Tv Alternatives,Budget Planer,Financial Tips,Financial Planning</td><td>How to Watch Your Favorite Shows Without Cable</td><td>c38bb47b-9584-4fc4-af0d-a31e1061df41</td></tr><tr><td>diy-and-crafts</td><td>No description available Story format</td><td>1</td><td>60k</td><td>https://i.pinimg.com/videos/thumbnails/originals/39/29/48/392948e8d63ec699260decb0fc9647c1.0000001.jpg</td><td>3334</td><td>multi-video(story page format)</td><td>Girl Crafts</td><td>Local save in /data/diy-and-crafts</td><td>Diy Crafts For Teens,Diy Crafts To Do,Diy Crafts Hacks,Diy Crafts Jewelry,Diy Arts And Crafts,Cute Crafts,Creative Crafts,Easy Crafts,Cute Diy Crafts For Your Room</td><td>DIY - GUMBALL MACHINE FROM BOTTLE</td><td>35a5460b-412c-4135-8122-e4461866018a</td></tr><tr><td>travel</td><td>The best trips to take when you are young!</td><td>1</td><td>89k</td><td>https://i.pinimg.com/videos/thumbnails/originals/81/97/c1/8197c1beef8bcb19bea5d8b422211f34.0000001.jpg</td><td>9546</td><td>video</td><td>The World Pursuit Travel Website</td><td>Local save in /data/travel</td><td>Fun Places To Go,Beautiful Places To Travel,Best Places To Travel,Travel Jobs,Holiday Places,Future Travel,Travel Around The World,Adventure Travel,Travel Photos</td><td>20 Amazing Trips to Take in Your Twenties!</td><td>efd5b2d6-2f69-40cd-bb59-41f18c089e52</td></tr><tr><td>finance</td><td>Get your personal finance in order with these 8 fr…</td><td>1</td><td>46k</td><td>https://i.pinimg.com/originals/f1/4f/cc/f14fcc75ee73ff22c983bdce70c022e2.jpg</td><td>5630</td><td>image</td><td>R.J. Weiss at The Ways To Wealth | Personal Finance | Debt Payoff</td><td>Local save in /data/finance</td><td>Ways To Save Money,Money Tips,Money Saving Tips,Money Budget,Saving Ideas,Budgeting Finances,Budgeting Tips,Planning Budget,Budget Planer</td><td>7 Insanely Useful Money Management Worksheets</td><td>d41e703c-c97c-4c5a-9f9c-338982ca7504</td></tr><tr><td>christmas</td><td>All I want for Christmas is a beautifully decorated home.</td><td>1</td><td>1M</td><td>https://i.pinimg.com/originals/92/65/29/926529446fc63379a274a946aa85f9b8.jpg</td><td>2048</td><td>image</td><td>Country Living Magazine</td><td>Local save in /data/christmas</td><td>Noel Christmas,Winter Christmas,Magical Christmas,Christmas Garlands,Christmas 2019,Christmas Displays,Office Christmas,Christmas Vacation,Christmas Movies</td><td>Outdoor Christmas Decorations to Give Your Yard Holiday Cheer</td><td>18574885-466a-45b5-acd8-131467643d3c</td></tr><tr><td>tattoos</td><td>Koi fish tattoos are a popular choice for men who want to make a statement, thanks to their rich symbolism and bold design.</td><td>1</td><td>211k</td><td>https://i.pinimg.com/originals/8a/0c/0a/8a0c0a7b6236565c519acd41ad1a52c0.jpg</td><td>8731</td><td>image</td><td>TheTrendSpotter</td><td>Local save in /data/tattoos</td><td>Dr Tattoo,Wörter Tattoos,Pisces Tattoos,Tatoo Art,Dream Tattoos,Dope Tattoos,Mini Tattoos,Finger Tattoos,Body Art Tattoos</td><td>20 Koi Fish Tattoos For Lucky Men</td><td>ea760f71-febf-4023-b592-d17396659039</td></tr><tr><td>christmas</td><td>You'll feel extra merry during your holiday dinner!</td><td>1</td><td>254</td><td>https://i.pinimg.com/originals/1a/e4/e0/1ae4e03602fb20a77cb53e623547d317.png</td><td>2060</td><td>image</td><td>Syndi Mulcahy</td><td>Local save in /data/christmas</td><td>Christmas Place Cards,Christmas Names,Christmas Napkins,Christmas Mantels,Christmas Diy,Christmas Wreaths,Christmas Place Setting,Thanksgiving Place Cards,Christmas Favors</td><td>50 DIY Decorations for a Jolly Christmas Table Setting</td><td>177dde1a-3409-4865-a533-9f50efaedcd8</td></tr><tr><td>quotes</td><td>#lovequotes #matchmaker #matchmadeinheaven #loveyourself #respectyourself</td><td>1</td><td>51k</td><td>https://i.pinimg.com/originals/c6/64/ee/c664ee71524fb5a6e7b7b49233f93b43.png</td><td>8304</td><td>image</td><td>Commitment Connection</td><td>Local save in /data/quotes</td><td>Wise Quotes,Quotable Quotes,Words Quotes,Wise Words,Quotes To Live By,Great Quotes,Motivational Quotes,Inspirational Quotes,Funny Quotes</td><td>The #1 Reason You’re Not His Priority Anymore - Matthew Coast</td><td>5b6d0913-25e4-43ab-839d-85d5516f78a4</td></tr><tr><td>art</td><td>No description available Story format</td><td>1</td><td>29k</td><td>https://i.pinimg.com/videos/thumbnails/originals/17/49/16/1749164b93866d4eac32a52a3ccfd40a.0000001.jpg</td><td>223</td><td>multi-video(story page format)</td><td>Jasminxg</td><td>Local save in /data/art</td><td>Simple Canvas Paintings,Easy Nature Paintings,Tree Paintings,Cool Paintings,Watercolor Art Lessons,Watercolor Paintings For Beginners,Gouache Painting,Painting Art,Mandala Art Lesson</td><td>Easy Gouache painting</td><td>8672f996-6ce9-403e-9599-2c4df668f1e0</td></tr><tr><td>diy-and-crafts</td><td>Kid's String Art Craft for Every Holiday</td><td>1</td><td>63k</td><td>https://i.pinimg.com/originals/bd/86/74/bd867450a3588b0ce1712f83fb5a58a4.jpg</td><td>3011</td><td>image</td><td>JDaniel4's Mom</td><td>Local save in /data/diy-and-crafts</td><td>Kids Crafts,Preschool Crafts,Easter Crafts,Projects For Kids,Craft Projects,Craft Ideas,Paper Plate Crafts For Kids,Preschool Christmas,Christmas Crafts</td><td>Kids paper plate string art for every holiday - My Silly Squirts</td><td>8d5339e6-ba89-412a-bc61-4d5205fe32f8</td></tr><tr><td>quotes</td><td>40 Best Inspirational Quotes To Encourage You To Not Give Up | YourTango</td><td>1</td><td>942k</td><td>https://i.pinimg.com/originals/07/eb/16/07eb163de430de579cedf9ed92eba33c.jpg</td><td>7733</td><td>image</td><td>YourTango</td><td>Local save in /data/quotes</td><td>Proud Quotes,Now Quotes,Words Quotes,Life Quotes,Sayings,Leader Quotes,Quotes About Being Proud,Try Again Quotes,Relationship Quotes</td><td>40 Pick-Me-Up Quotes For When You Feel Like You're About To Give Up</td><td>4345edf6-abc4-4fc6-9230-660280ef149b</td></tr><tr><td>mens-fashion</td><td>imgentleboss: “ - More about men’s fashion at @Gentleboss - GB’s Facebook - ”</td><td>1</td><td>940</td><td>https://i.pinimg.com/originals/e7/6e/8e/e76e8ed6cc838b84a934c6948a5caff7.jpg</td><td>7554</td><td>image</td><td>iElylike ..✿◕‿◕✿ஐ✿◕‿◕✿</td><td>Local save in /data/mens-fashion</td><td>Mens Fashion Blog,Look Fashion,Autumn Fashion,Fashion News,Fashion Sale,80s Fashion,Paris Fashion,Runway Fashion,Fashion Trends</td><td>Craig Style</td><td>c6fa12f4-0d4a-4b07-a335-5bf9f37f8281</td></tr><tr><td>quotes</td><td>Be Brave Enough to Set the Sun. Motivation Quotes.</td><td>1</td><td>1k</td><td>https://i.pinimg.com/originals/d3/41/91/d341916b119a3df2836d2079367f7b20.jpg</td><td>8366</td><td>image</td><td>Vinyl Written</td><td>Local save in /data/quotes</td><td>Quotes Wolf,Motivacional Quotes,Poetry Quotes,Words Quotes,Funny Quotes,Sun Qoutes,Quotes On Sun,More To Life Quotes,Take Me Back Quotes</td><td>'Quote - You don't have to be perfect to be amazing' iPhone Case by HelenDesignXO</td><td>046e2c32-1061-42d3-8017-1fc93865edb9</td></tr><tr><td>tattoos</td><td>Tattoos are one of the most efficient ways through which one decides to express themselves…</td><td>1</td><td>4k</td><td>https://i.pinimg.com/originals/ab/8e/50/ab8e505b04d4abc8f23e273c15f8a65d.jpg</td><td>8887</td><td>image</td><td>RapidLeaks</td><td>Local save in /data/tattoos</td><td>Dream Tattoos,Body Art Tattoos,New Tattoos,Small Tattoos,Cross Tattoos,Random Tattoos,Fashion Tattoos,Bird Tattoos,Fitness Tattoos</td><td>25 Ultra Sexy Back Tattoo Ideas For Girls</td><td>5df9f6e5-07f5-4ce8-a82e-96586bbc05d8</td></tr><tr><td>diy-and-crafts</td><td>No description available Story format</td><td>1</td><td>66k</td><td>https://i.pinimg.com/videos/thumbnails/originals/b6/ab/28/b6ab28752f2804d71a3993565ba89308.0000001.jpg</td><td>2637</td><td>multi-video(story page format)</td><td>El blog amarillo</td><td>Local save in /data/diy-and-crafts</td><td>Diy Craft Projects,Diy Crafts For Home Decor,Diy And Crafts Sewing,Diy Wall Decor,Creative Crafts,Fun Crafts,Paper Crafts,Sewing Diy,Diy Wall Art</td><td>Marco Boho</td><td>b18e8d38-eb45-40c0-b443-4fca250df850</td></tr><tr><td>vehicles</td><td>No description available Story format</td><td>1</td><td>89k</td><td>https://i.pinimg.com/videos/thumbnails/originals/4a/d4/96/4ad4961606179854f1141a90f50f002c.0000001.jpg</td><td>10509</td><td>multi-video(story page format)</td><td>TheSuperBOO!</td><td>Local save in /data/vehicles</td><td>Electric Off Road Vehicle,Cool Illusions,Flying Vehicles,Wow Video,Art And Craft Videos,Top Luxury Cars,Chevy Muscle Cars,Street Racing Cars,Funny Videos Clean</td><td>Flying Car</td><td>6a5f0e7e-1389-4e54-942f-4cb69f09f140</td></tr><tr><td>mens-fashion</td><td>10 guys with great style at the spring 2016 shows.</td><td>1</td><td>874k</td><td>https://i.pinimg.com/originals/45/3c/fb/453cfb4859d0b6730422c75f7b8918ec.jpg</td><td>7510</td><td>image</td><td>GQ Magazine</td><td>Local save in /data/mens-fashion</td><td>Nyc Mens Fashion,Fashion Mode,Mens Fashion Suits,New York Fashion,Fashion Fashion,Fashion Check,Paris Fashion,Latex Fashion,Fashion Outlet</td><td>See the Most Stylish Men of New York Fashion Week</td><td>e09fddda-1cc2-41c8-b799-d238fe90b937</td></tr><tr><td>beauty</td><td>Instantly create the look of lash extensions with this award-winning, best-selling mascara that won't clump, flake or smudge. Available in 3 shades!</td><td>1</td><td>43k</td><td>https://i.pinimg.com/videos/thumbnails/originals/69/84/e2/6984e20f3e262098fa9c0614c3453254.0000001.jpg</td><td>1313</td><td>video</td><td>Thrive Causemetics</td><td>Local save in /data/beauty</td><td>N,o, ,T,a,g,s, ,A,v,a,i,l,a,b,l,e</td><td>Liquid Lash Extensions Mascara</td><td>44662045-e891-4821-8a19-ebe7eedd371a</td></tr><tr><td>mens-fashion</td><td>Your spring summer wardrobe inspiration..</td><td>1</td><td>613k</td><td>https://i.pinimg.com/originals/0e/cf/eb/0ecfeb441e7a3559aa41f11b94cdd6ef.jpg</td><td>7234</td><td>image</td><td>Mens Fashion - LIFESTYLE BY PS </td><td>Local save in /data/mens-fashion</td><td>Mode Outfits,Casual Outfits,Men Casual,Fashion Outfits,Fashion Clothes,Hijab Casual,Gentleman Mode,Gentleman Style,Mode Masculine</td><td>16 Amazing Casual Outfit Grids For Guys</td><td>c05f564d-2783-4bec-b205-d3f756276296</td></tr><tr><td>vehicles</td><td>Shadow Velar</td><td>1</td><td>9k</td><td>https://i.pinimg.com/originals/5d/c8/87/5dc887a26bd47598867f3576cfe1ace7.jpg</td><td>10673</td><td>image</td><td>Land Rover USA</td><td>Local save in /data/vehicles</td><td>Range Rover Negro,Range Rover Preto,Range Rover Schwarz,Range Rover Black,Range Rover Evoque,Range Rover Car,Pink Range Rovers,The New Range Rover,Luxury Sports Cars</td><td>Discover the new Range Rover luxury performance SUV</td><td>ede73169-5b9f-4906-b02e-9db1bee203a4</td></tr><tr><td>vehicles</td><td>1937 Jaguar SS100 - 2 1/2 Litre Roadster, one of the most sought after pre-war sports cars</td><td>1</td><td>8k</td><td>https://i.pinimg.com/originals/26/81/a7/2681a71bd0c8f7fd0ab79c455338a49a.jpg</td><td>10625</td><td>image</td><td>hobbyDB</td><td>Local save in /data/vehicles</td><td>Jaguar Type E,Jaguar Xk,Jaguar Cars,Jaguar Roadster,Jaguar Sport,Retro Cars,Vintage Cars,Antique Cars,British Sports Cars</td><td>Jaguar Type E</td><td>d31885b7-742a-4e2a-bbb7-ac5f9d334340</td></tr><tr><td>event-planning</td><td>Fun Book Page Crafts - MomAdvice</td><td>1</td><td>112k</td><td>https://i.pinimg.com/originals/17/55/87/175587b334e71c12300453b8b4b4c6aa.jpg</td><td>4988</td><td>image</td><td>MomAdvice</td><td>Local save in /data/event-planning</td><td>Harry Potter Wedding,Harry Potter Theme,Wedding Book,Wedding Table,Wedding Ideas,Wedding Vintage,Garden Wedding,Vintage Party,Wedding Paper</td><td>Fun Book Page Crafts - MomAdvice</td><td>fbdfd355-a356-46c2-a251-301869ae2674</td></tr><tr><td>travel</td><td>Best spots to see for travel through Ireland!</td><td>1</td><td>130k</td><td>https://i.pinimg.com/originals/c7/50/d3/c750d36524856873d64406652d69b4fb.png</td><td>9590</td><td>image</td><td>Fun Life Crisis</td><td>Local save in /data/travel</td><td>Vacation Ideas,Vacation Spots,Emerald Isle,London England,Travel Guides,Travel Tips,Travel Hacks,Travel Packing,Places To Travel</td><td>Top 20 Things To See And Do In Ireland</td><td>b849e976-52f6-45d7-8b25-51559318f167</td></tr><tr><td>diy-and-crafts</td><td>Marla Meridith - DIY Pom Pom Letters for MOM!</td><td>1</td><td>671k</td><td>https://i.pinimg.com/originals/db/c6/98/dbc69818c531e28ee514aaaec377257d.jpg</td><td>3201</td><td>image</td><td>Marla Meridith</td><td>Local save in /data/diy-and-crafts</td><td>Kids Crafts,Crafts To Make,Craft Projects,Arts And Crafts,Craft Ideas,Pom Pom Crafts,Yarn Crafts,Flower Crafts,Diy Flower</td><td>DIY Pom Pom Letters for MOM!</td><td>6370f096-f344-49c3-a6b1-3072c537a953</td></tr><tr><td>mens-fashion</td><td>billy-george: “Summer styles ”</td><td>1</td><td>377</td><td>https://i.pinimg.com/originals/3c/8c/53/3c8c534cd02334c50047bd3a4feccce9.jpg</td><td>6844</td><td>image</td><td>Au'vey Smith</td><td>Local save in /data/mens-fashion</td><td>Fashion Week Hommes,La Fashion Week,Fashion Moda,Urban Fashion,Trendy Fashion,Fashion Spring,Fashion 2017,New Mens Fashion,Trendy Clothing</td><td>♔the-fashman♔</td><td>69c3f268-274f-44bd-9cb4-427e64fefc44</td></tr><tr><td>beauty</td><td>Untitled</td><td>1</td><td>0</td><td>https://i.pinimg.com/originals/af/c4/59/afc459bd6e1fd8f9aef212504afebf3a.jpg</td><td>1014</td><td>image</td><td>Grecia Perales</td><td>Local save in /data/beauty</td><td>Hair Inspo,Hair Inspiration,Motivation Inspiration,Cl Rapper,Foto Glamour,Kreative Portraits,Classy Aesthetic,Pretty Hairstyles,Hair Looks</td><td>Hairstyles & Beauty</td><td>9ac94307-bb27-410e-b554-0a0ab6c19847</td></tr><tr><td>art</td><td>No description available</td><td>1</td><td>6k</td><td>https://i.pinimg.com/originals/05/ed/11/05ed1128fe3a8784ad68900d310654d6.jpg</td><td>480</td><td>image</td><td>Ovetta Jackson</td><td>Local save in /data/art</td><td>Abstract Portrait,Portrait Art,Arte Black,African Art Paintings,Black Art Painting,Afro Art,Arte Pop,African American Art,Love Art</td><td>Abstract Portrait</td><td>f5dfee8f-1b62-417d-966c-8cf205418c68</td></tr><tr><td>vehicles</td><td>Nissan GT-R. Sick.</td><td>1</td><td>437</td><td>https://i.pinimg.com/originals/0d/29/9f/0d299f3df020395aa7ce8387f40fbeed.jpg</td><td>10794</td><td>image</td><td>Ray Uyemura</td><td>Local save in /data/vehicles</td><td>Lowrider,Old Vintage Cars,Antique Cars,Austin Martin,Nissan Gtr Black,Jaguar,1959 Cadillac,Cadillac Ct6,Old School Cars</td><td>TireBuyer</td><td>c4bd2577-a7bb-4409-bb7a-17d5ed7e1cf1</td></tr><tr><td>beauty</td><td>9 colors lazy lipstick</td><td>1</td><td>8k</td><td>https://i.pinimg.com/originals/25/cf/8c/25cf8cb74b43ab95591342c2bbe4ecd8.jpg</td><td>1094</td><td>image</td><td>Jiew82633</td><td>Local save in /data/beauty</td><td>Nail Inspo,Lazy,Lipstick,How To Apply,Makeup,Colors,Products,Make Up,Lipsticks</td><td>9 colors lazy lipstick - 9 colors lazy lipstick4</td><td>6deacdcd-75ed-4dd8-8951-9b77453f38e0</td></tr><tr><td>diy-and-crafts</td><td>No description available Story format</td><td>0</td><td>User Info Error</td><td>Image src error.</td><td>3089</td><td>multi-video(story page format)</td><td>User Info Error</td><td>Local save in /data/diy-and-crafts</td><td>N,o, ,T,a,g,s, ,A,v,a,i,l,a,b,l,e</td><td>No Title Data Available</td><td>88f9227e-88d0-4b1c-b0be-bcfc3028b8e2</td></tr><tr><td>mens-fashion</td><td>No description available Story format</td><td>0</td><td>User Info Error</td><td>Image src error.</td><td>7528</td><td>multi-video(story page format)</td><td>User Info Error</td><td>Local save in /data/mens-fashion</td><td>N,o, ,T,a,g,s, ,A,v,a,i,l,a,b,l,e</td><td>No Title Data Available</td><td>fbe53c66-3442-4773-b19e-d3ec6f54dddf</td></tr></tbody></table></div>"
      ]
     },
     "metadata": {
      "application/vnd.databricks.v1+output": {
       "addedWidgets": {},
       "aggData": [],
       "aggError": "",
       "aggOverflow": false,
       "aggSchema": [],
       "aggSeriesLimitReached": false,
       "aggType": "",
       "arguments": {},
       "columnCustomDisplayInfos": {},
       "data": [
        [
         "christmas",
         "Features: Material:Lint Size:48ｘ18cm Quantity:1 pc Shape:Santa Claus, snowman. Elk Occasion:Christmas Description: 1. Fashion design, high quality 2. Santa Claus, snowman. Elk C… ",
         1,
         "5k",
         "https://i.pinimg.com/originals/b5/7f/21/b57f219fa89c1165b57525b8eae711da.jpg",
         1706,
         "image",
         "Wear24-7",
         "Local save in /data/christmas",
         "Merry Christmas To You,Christmas Toys,Great Christmas Gifts,Christmas Snowman,Christmas Ornaments,Holiday,Christmas Party Decorations,Christmas Themes,Decoration Party",
         "Standing Figurine Toys Xmas Santa Claus Snowman Reindeer Figure Plush Dolls Christmas Decorations Ornaments Home Indoor Table Ornaments Christmas Party Tree Hanging Decor Toys Gifts for Kids Friends…",
         "b5c8a1b5-9e90-4522-9bec-2477b698d5b7"
        ],
        [
         "christmas",
         "Christmas decorating ideas for porches. Beautiful holiday decor ideas for front porches both small and large. Outdoor decorations like sleds, lanterns, Christmas trees, wreaths,… ",
         1,
         "46k",
         "https://i.pinimg.com/videos/thumbnails/originals/40/83/f5/4083f5b4971bf235f89a4784ab87271e.0000001.jpg",
         2482,
         "video",
         "Life on Summerhill | Home, Holiday Decor & DIY Website",
         "Local save in /data/christmas",
         "Diy Christmas Decorations For Home,Farmhouse Christmas Decor,Christmas Home,Christmas Holidays,Christmas Front Porches,How To Decorate For Christmas,Christmas Porch Ideas,Christmas Decorating Ideas,Large Outdoor Christmas Decorations",
         "FORNT PORCH CHRISTMAS DECORATING IDEAS",
         "08604f20-fa17-4b9a-9949-781717eca6cd"
        ],
        [
         "travel",
         "This Costa Rica itinerary is the ultimate guide to spending two weeks in Costa Rica. Find out about visiting La Fortuna, Arenal, Monteverde, Naranjo, Corcovado National Park, Or… ",
         1,
         "10k",
         "https://i.pinimg.com/originals/30/93/cb/3093cb01d9de2d125fda8ba5e3e41946.jpg",
         10138,
         "image",
         "Wanderlust Chloe ✈️ Travel guides, inspo and adventure travel ✈️",
         "Local save in /data/travel",
         "Costa Rica Travel,Rio Celeste Costa Rica,Dream Vacations,Vacation Spots,Vacation Travel,Travel Pictures,Travel Photos,Fortuna Costa Rica,Costa Rica Pictures",
         "14 Amazing Things To Do In Costa Rica | Volcanoes, Waterfalls, Wildlife And More",
         "927c4658-cc3f-4b92-9b5c-70743d0c238d"
        ],
        [
         "christmas",
         "My favorite 75+ Neutral Christmas Home Decor for decorating your house during the Holiday Season in earth tones and a farmhouse, rustic style all winter. I love this modern, sim… ",
         1,
         "31k",
         "https://i.pinimg.com/originals/86/84/39/868439dd894969e3abd6a2a8a9fe1e9c.jpg",
         2604,
         "image",
         "Everyday Wholesome",
         "Local save in /data/christmas",
         "Colorful Christmas Decorations,Colorful Christmas Tree,Christmas Centerpieces,Christmas Colors,Xmas Colors,Winter Decorations,Christmas Trends,Christmas Inspiration,Christmas Home",
         "75+ Neutral Christmas Home Decor for the Holiday Season in Farmhouse Style using Earth Tones Modern",
         "087b0fa9-f901-4262-aa0a-6caf234d1b35"
        ],
        [
         "diy-and-crafts",
         "This post may contain affiliate links, read our Disclosure Policy for more information. As an Amazon Associate I earn from qualifying purchases, thank you! Make some cute handpr… ",
         1,
         "892k",
         "https://i.pinimg.com/originals/ff/fe/38/fffe384f3ec18a0d87cb2d80cc8c1499.jpg",
         3156,
         "image",
         "Michelle {CraftyMorning.com}",
         "Local save in /data/diy-and-crafts",
         "Christmas Gifts For Parents,Christmas Decorations For Kids,Christmas Crafts For Toddlers,Preschool Christmas,Christmas Crafts For Gifts,Christmas Activities,Toddler Crafts,Kids Christmas,Christmas Feeling",
         "Handprint Reindeer Ornaments - Crafty Morning",
         "fa6e31a4-18c2-4eca-a6d8-e903eee2c2a4"
        ],
        [
         "christmas",
         "Love Christmas decorations but hate spending a lot bunch of money? Check out some of these budget DIY decorations you can easily make from the dollar store!",
         1,
         "42k",
         "https://i.pinimg.com/originals/30/85/21/3085215db77e55770202724268465490.jpg",
         1864,
         "image",
         "Caroline|CarolineVencil.com | Saving & Making Money | Pro Blogger",
         "Local save in /data/christmas",
         "Diy Snowman Decorations,Christmas Candle Decorations,Diy Christmas Ornaments,Christmas Ideas,Christmas Christmas,Snowman Ornaments,Christmas Diy Gifts,Vase Decorations,Diy Christmas Decorations For Home",
         "120 Christmas Decorations from the Dollar Store",
         "6f1951f0-63be-4c4f-8d21-e4995217f69e"
        ],
        [
         "home-decor",
         "Grab these coffee table decor ideas for a cozy living room. This post is awesome, it has a list of must have elements for cozy coffee table styling plus a list of supply ideas f… ",
         1,
         "40k",
         "https://i.pinimg.com/originals/77/b2/bb/77b2bb477d1164908048dabcd78cabd5.jpg",
         6014,
         "image",
         "Salvaged Living",
         "Local save in /data/home-decor",
         "Coffee Table Decor Living Room,Coffee Table Vignettes,Coffee Table Centerpieces,Coffee Table Styling,Diy Coffee Table,Decorating Coffee Tables,Cozy Living Rooms,Livingroom Table Decor,Living Room Candles",
         "Coffee Table Decor Ideas for a Cozy Living Room - Salvaged Living",
         "d4c57afb-4775-4482-89c8-71d1bf85b488"
        ],
        [
         "travel",
         "See families traveling all the time and wonder, \"how the heck do they afford this?\" Read 10 mistakes you might be making, and what you should do instead.",
         1,
         "9k",
         "https://i.pinimg.com/originals/0a/49/fb/0a49fbcec746c4219d3a6f30834f378e.jpg",
         10119,
         "image",
         "OUR NEXT ADVENTURE | family travel blog",
         "Local save in /data/travel",
         "Family Vacation Destinations,Vacation Trips,Travel Destinations,Vacation Ideas,Cheap Family Vacations,Vacation Travel,Best Family Vacation Spots,Vacation Quotes,Vacation Memories",
         "How to Afford Family Travel: 10 Mistakes You're Making (and what to do instead) | Our Next Adventure",
         "40eab9ba-7812-4f26-baca-35a6bed95a9f"
        ],
        [
         "diy-and-crafts",
         "Easy Christmas tree Craft Ideas for toddlers and preschoolers. Engage your kids in these DIY",
         1,
         "3k",
         "https://i.pinimg.com/originals/69/f0/75/69f075939d4449dffa69519756c30e26.png",
         3419,
         "image",
         "Kids Crafts & Free Preschool Printables- Sharing Our Experiences",
         "Local save in /data/diy-and-crafts",
         "Christmas Crafts For Kids To Make,Christmas Tree Painting,Christmas Activities For Kids,Easy Christmas Crafts For Toddlers,Kid Activities,Christmas Handprint Crafts,Christmas Tree Crafts,Christmas Baby,Xmas Tree",
         "Easy Christmas Tree Crafts Ideas for toddlers and preschoolers | Sharing Our Experiences",
         "d0b80187-0171-49b2-8ee4-572984244f65"
        ],
        [
         "education",
         "Here, you will find four projects that involve crime as a means of targeting essential skills for reading and writing. These projects are sure to capture student interest and en… ",
         1,
         "10k",
         "https://i.pinimg.com/originals/78/5e/2a/785e2afc1f0ca538109b1eb6b517076b.jpg",
         3716,
         "image",
         "The Bespoke ELA Classroom",
         "Local save in /data/education",
         "Middle School Reading,Middle School English,Middle School Teachers,Ela Classroom,English Classroom,English Teachers,8th Grade Ela,Mystery,Teaching Reading",
         "Engaging Secondary Students with Crime Stories — Bespoke ELA:  Essay Writing Tips + Lesson Plans",
         "74f878f3-6f1b-4b41-8e71-67a68a0ae76a"
        ],
        [
         "tattoos",
         "\"Minimalist Tattoos\" Discover how less is more with the best minimalist tattoo designs for women. Explore cool conservative simplicity with super simple ink ideas. See more idea… ",
         1,
         "54k",
         "https://i.pinimg.com/originals/c2/82/7d/c2827d11633b11c11a3da17b024264b0.jpg",
         9093,
         "image",
         "Beautyholo | Latest Hairstyles, Nail Design Ideas, Home Décor DIY, Women Fashion Ideas",
         "Local save in /data/tattoos",
         "Small Tattoos Men,Tatoos Men,Cool Tattoos For Guys,Cool Tatoos For Women,Cool Simple Tattoos,Unique Tattoos,Diy Tattoo,Tattoo Fonts,Tattoo Quotes",
         "51 Unique Minimalist Tattoos Designs For Women",
         "8e478adb-0e3f-4045-83ce-79f155a63722"
        ],
        [
         "finance",
         "If you love budgeting, make sure to give Dave Ramsey's 7 Baby Steps a try. Follow these steps to begin your debt snowball, build an emergency fund, invest and reach riches. I ca… ",
         1,
         "26k",
         "https://i.pinimg.com/originals/1e/9d/90/1e9d906e4e150e3b95187f3b76ea7c71.png",
         5494,
         "image",
         "Living Low Key | Save Money, Make Money, & Frugal Living",
         "Local save in /data/finance",
         "Financial Peace,Financial Tips,Saving Money Quotes,Total Money Makeover,Budgeting Finances,Money Management,Wealth Management,Personal Finance,Making Ideas",
         "Dave Ramsey's 7 Baby Steps: What Are They And Will They Work For You",
         "8fb2af68-543b-4639-8119-de33d28706ed"
        ],
        [
         "diy-and-crafts",
         "Celebrate warmer weather & spring blooms with these 50 delightful spring crafts for kids. Bright, cheerful & fun to make these crafts are a guaranteed hit.",
         1,
         "108k",
         "https://i.pinimg.com/originals/f0/ca/c3/f0cac3e3b0c2ebf5f2d2e4f70455e794.jpg",
         2858,
         "image",
         "This Tiny  Blue House",
         "Local save in /data/diy-and-crafts",
         "Spring Crafts For Kids,Diy For Kids,Arts And Crafts For Kids Toddlers,Spring Crafts For Preschoolers,Spring Craft Preschool,Simple Kids Crafts,Summer Crafts For Toddlers,Easy Preschool Crafts,Garden Crafts For Kids",
         "50 Popular Spring Crafts For Kids You Need To Make",
         "26f81da4-26a9-465b-b819-6099bc66e1c0"
        ],
        [
         "christmas",
         "Here are the best DIY Christmas Centerpieces ideas perfect for your Christmas & holiday season home decor. From Christmas Vignettes to Table Centerpieces.",
         1,
         "500k",
         "https://i.pinimg.com/originals/aa/6d/0f/aa6d0f44d7c1c96b998cb9aa6c4446b8.png",
         2418,
         "image",
         "HikenDip",
         "Local save in /data/christmas",
         "Farmhouse Christmas Decor,Rustic Christmas,Christmas Time,Vintage Christmas,Xmas,Primitive Christmas Crafts,Christmas Vignette,Indoor Christmas Decorations,Diy Christmas Ornaments",
         "100 DIY Christmas Centerpieces You'll Love To Decorate Your Home With For The Christmas Season - Hike n Dip",
         "da8745a6-5160-46c4-877d-181d50a729fd"
        ],
        [
         "quotes",
         "Trying to create your dream life but don't know where to start?! These vision board ideas are a great way to manifest a new you this year",
         1,
         "42k",
         "https://i.pinimg.com/originals/36/d1/be/36d1be632cbf9b6c8e377a052b31d064.jpg",
         8312,
         "image",
         "TheFab20s | Travel+Food+DIY+Listicles",
         "Local save in /data/quotes",
         "Positive Self Affirmations,Positive Affirmations Quotes,Affirmation Quotes,Quotes Positive,Motivational Quotes For Success Positivity,Business Success Quotes,Positive Vibes,Motivational Quotes For Women,Affirmations For Love",
         "8 Vision Board Ideas To Manifest Your Dreams - TheFab20s",
         "ca3c9bb0-7281-4b9b-8abf-201da0b68d62"
        ],
        [
         "quotes",
         "Quotes and Sayings that inspire, motivate, encourage women. Quotes to use on social media. Content ideas for bloggers.",
         1,
         "19k",
         "https://i.pinimg.com/originals/e9/83/44/e983446f2c08cc6da883b9d777f3369f.jpg",
         8300,
         "image",
         "Amber Strong - The Maker’s Map | DIY’s, Crafts & Home Decor",
         "Local save in /data/quotes",
         "Positive Quotes For Life Encouragement,Positive Quotes For Life Happiness,Good Happy Quotes,Quotes Positive,Being Happy Quotes,Happy Sayings,Happy Life Quotes To Live By,Self Happiness Quotes,Positive Thoughts Quotes",
         "The Maker's Map - Quotes and Sayings that inspire",
         "7ddd23cf-68a5-4b5a-a800-1d985cbc69b4"
        ],
        [
         "quotes",
         "summcoco gives you inspiration for the women fashion trends you want. Thinking about a new look or lifestyle? This is your ultimate resource to get the hottest trends. 45 Top Li… ",
         1,
         "306k",
         "https://i.pinimg.com/originals/bb/c0/e6/bbc0e6a797079505f11ac12bcb0b8c66.jpg",
         7922,
         "image",
         "Sumcoco | Decor Ideas, Hairstyles, Nails Fashion Advice",
         "Local save in /data/quotes",
         "Life Quotes Love,Inspirational Quotes About Love,Mood Quotes,Motivational Quotes,Tears Quotes,Quotes About Sadness,Deep Quotes About Life,Quotes Quotes,Quote Life",
         "45 Top Life Quotes School Did Not Teach You",
         "a584581c-1b38-4731-a1cc-f36115ecf229"
        ],
        [
         "art",
         "Use your mini world figures to create this beautiful African sunset. Your kids will love learning about shadows, angles and distortion in this fun art and STEM activity for kids.",
         1,
         "4k",
         "https://i.pinimg.com/originals/e3/aa/35/e3aa350f8f104d0e59f26d7f17ea7461.png",
         771,
         "image",
         "Taming Little Monsters - Fun Activities for Kids",
         "Local save in /data/art",
         "African Art Projects,Cool Art Projects,Projects For Kids,African Art For Kids,African Crafts Kids,Art Club Projects,Art Education Projects,Tracing Art,African Sunset",
         "African Sunset Shadow Tracing Art - Taming Little Monsters",
         "a5021766-a8aa-4dc7-9857-4da6b8e3dc1a"
        ],
        [
         "event-planning",
         "Personalize your event or shop with a customized neon sign. Make a statement with your own custom vibes! This light is 32 -40 inches (80cm-100cm) if you need something bigger, p… ",
         1,
         "111",
         "https://i.pinimg.com/originals/e9/c0/7c/e9c07cf0cf16cab23764a36718ab76c1.jpg",
         4508,
         "image",
         "Life of Neon | Custom Neon Light Signs | Home Decor Wall Art",
         "Local save in /data/event-planning",
         "Our Wedding,Wedding Venues,Dream Wedding,Wedding Cakes,Church Wedding,Wedding Flowers,Lace Wedding,Wedding Rings,Wedding Dresses",
         "Custom Event and Shop Neon Sign Lights - Event & Shop",
         "9064f4a2-2753-476c-815e-db360f45a93e"
        ],
        [
         "education",
         "Hi everyone! As a teacher using the Orton-Gillingham approach, I am constantly looking for phonics activities that my students will find fun and engaging. Using Orton-Gillingham… ",
         1,
         "22k",
         "https://i.pinimg.com/originals/58/8e/38/588e380b19942a71a86a69d9c9973d25.png",
         4076,
         "image",
         "The Literacy Nest",
         "Local save in /data/education",
         "Literacy Games,Kindergarten Activities,Literacy Centers,Fun Phonics Activities,Listening Activities,Vocabulary Games,Literacy Stations,Letter Activities,Montessori Activities",
         "Phonics Activities Your Kids Will Love - The Literacy Nest",
         "3a52d364-7c04-47cb-a3e5-56d9e2b77528"
        ],
        [
         "christmas",
         "Over 40 of the BEST Homemade Christmas Ornaments...these easy Holiday crafts are so fun to make for Kids and Adults! Lots of great class party ideas!",
         1,
         "245k",
         "https://i.pinimg.com/originals/d0/d3/a3/d0d3a31e87296224d5ba8896904b5b88.jpg",
         2293,
         "image",
         "Kitchen Fun With My 3 Sons",
         "Local save in /data/christmas",
         "Diy Christmas Lights,Homemade Christmas Decorations,Christmas Crafts For Gifts,Mini Christmas Tree,Christmas Ornament Crafts,Homemade Christmas Gifts,Xmas Decorations,Simple Christmas,Handmade Christmas",
         "Over 40 of the BEST Homemade Christmas Ornament Ideas",
         "1fd7d4cc-54c1-4542-9c1f-449cb4c875f4"
        ],
        [
         "art",
         "This bee directed drawing and associated pages will help you create a fun and creative Valentine's Day Directed Drawing Art Project activity for your class.Choose to do a painti… ",
         1,
         "1M",
         "https://i.pinimg.com/originals/49/ff/2e/49ff2e83c0cefdd37213f6084c6f0566.jpg",
         159,
         "image",
         "Teachers Pay Teachers",
         "Local save in /data/art",
         "Classroom Art Projects,School Art Projects,Art Classroom,Art Projects For Kindergarteners,Spring Art Projects,Classroom Posters,Valentines Art Lessons,Valentines Day Activities,Grade 1 Art",
         "Valentine's Day Bee Directed Drawing {Art Project}",
         "841a161a-47b8-4161-884d-adeb67a28b1e"
        ],
        [
         "travel",
         "Are you traveling to Paris during the summer? Find out what to do in Paris, France during the summer. Fun summertime activities in Paris. Enjoy the incredible outdoors when trav… ",
         1,
         "3k",
         "https://i.pinimg.com/originals/6c/4c/90/6c4c90bba27ebf8c8bfe4c1acfb9f07a.jpg",
         9979,
         "image",
         "Petite in Paris",
         "Local save in /data/travel",
         "Torre Eiffel Paris,Tour Eiffel,Picnic In Paris,Hello France,Voyage Europe,Destination Voyage,Beautiful Places To Travel,Travel Aesthetic,Paris Travel",
         "Paris in the Summer. 10 fun things to do in Paris in the Summertime • Petite in Paris",
         "2b2abc85-fc51-481f-8ae6-17681993da28"
        ],
        [
         "travel",
         "Although you'd think Greek islands are fairly similar, you'd be completely wrong! Each island has it's own personality and appeal. Here are the 8 Best Greek Islands to visit, es… ",
         1,
         "42k",
         "https://i.pinimg.com/originals/06/1d/ce/061dce38929dec8e74844442116bea4a.jpg",
         9759,
         "image",
         "TheFab20s | Travel+Food+DIY+Listicles",
         "Local save in /data/travel",
         "Greek Islands To Visit,Best Greek Islands,Greece Islands,Cool Places To Visit,Places To Go,Best Places In Portugal,Copenhagen Travel,Paros Island,Santorini Island",
         "8 Best Greek Islands You Have To Visit - TheFab20s",
         "d105eb6e-0f9f-46e7-8d02-d24b62f6ae90"
        ],
        [
         "finance",
         "The groundbreaking NEW YORK TIMES and WALL STREET JOURNAL BESTSELLER that taught a generation how to earn more, save more, and live a rich life--now in a revised 2nd edition. Bu… ",
         1,
         "793",
         "https://i.pinimg.com/originals/5f/53/c9/5f53c9406ddaf6449dc1c6b93c7f8e31.jpg",
         5293,
         "image",
         "Bookmarks Retail",
         "Local save in /data/finance",
         "Seth Godin,Wall Street Journal,Good Books,Books To Read,Money Makeover,Finance Books,Finance Tips,Words To Use,Dale Carnegie",
         "I Will Teach You to Be Rich, Second Edition: No Guilt. No Excuses. No Bs. Just a 6-Week Program That Works",
         "cf33a9ea-788b-4440-bbff-19939cd49d36"
        ],
        [
         "diy-and-crafts",
         "DIY Dollar Store Valentine’s Day Heart Wreath Decoration. There are so many great Valentine crafts at the Dollar Tree right now! During our last trip, we picked up a few supplie… ",
         1,
         "9k",
         "https://i.pinimg.com/originals/dc/f6/8a/dcf68adcc63c339c24fa5664f1115994.png",
         2698,
         "image",
         "South Lumina Style",
         "Local save in /data/diy-and-crafts",
         "Valentine Day Wreaths,Valentines Day Hearts,Valentines Day Decorations,Valentine Day Crafts,Holiday Crafts,Diy Christmas,Christmas Wreaths,Valentine Tree,Printable Valentine",
         "DIY Dollar Tree Valentine's Day Wreath",
         "73f16302-4871-486a-8836-947530526337"
        ],
        [
         "home-decor",
         "Holiday mantle decor, Christmas decor, metallic mercury glass style Christmas trees, eucalyptus vine, evergreen pine branches, white neutral holiday decor, cozy mantle for the h… ",
         1,
         "83k",
         "https://i.pinimg.com/originals/9d/82/1a/9d821a80acd8f90c16454e978bd9b115.jpg",
         6145,
         "image",
         "Stylin by Aylin",
         "Local save in /data/home-decor",
         "Winter Home Decor,Christmas Living Room Decor,Living Room Decor Cozy,Christmas Decor,Cozy Fireplace,Rustic Fireplace Decor,Fireplace Decorations,Rustic Room,House Decorations",
         "HOLIDAY MANTLE DECOR - @AMAZON & @TARGET FINDS",
         "82e13a07-db99-43a3-b1c0-89a4b75821da"
        ],
        [
         "art",
         "Easy to follow steps for this easy DIY wall art. Acrylic Paint Pouring with a blow dryer, Dutch paint pour. Written steps and full step by step video to help you do it too! 👍",
         1,
         "52k",
         "https://i.pinimg.com/videos/thumbnails/originals/d5/5e/fa/d55efa6ef50d35dac425cea935f39c89.0000001.jpg",
         427,
         "video",
         "Abbotts At Home",
         "Local save in /data/art",
         "Acrylic Pouring Art,Acrylic Wall Art,Acrylic Pouring Techniques,Acrylic Paintings,Art Paintings,Marble Art,Marble Painting,Pour Painting,Large Canvas Art",
         "DIY Acrylic Paint Pouring Wall Art - Abbotts At Home",
         "4a455340-09a2-4370-ad86-73d7964603db"
        ],
        [
         "travel",
         "One week may feel too short, but with this New Zealand North Island 7 Day Itinerary you can cover a lot of ground! Plus, read about where to stay, self-driving, flights, and more!",
         1,
         "1k",
         "https://i.pinimg.com/originals/2e/0d/fc/2e0dfc4293e6d413d18d601248bbe041.jpg",
         9475,
         "image",
         "Alanna | Periodic Adventures",
         "Local save in /data/travel",
         "Adventure Aesthetic,Travel Aesthetic,Best Places To Vacation,Places To See,North Island New Zealand,New Zealand Adventure,New Zealand Travel Guide,Bali,Beautiful Places To Travel",
         "New Zealand North Island 7 Day Itinerary",
         "5f389774-c116-4b5d-bd81-763d1e729773"
        ],
        [
         "christmas",
         "Christmas Trees From Pallet Wood | Holiday DIY: Deck the yard with some fun outdoor Christmas Trees! We made these merry and bright decorations from two old pallets we had lying… ",
         1,
         "3M",
         "https://i.pinimg.com/originals/64/7b/ca/647bca35169b7c144604116c64bcba8a.png",
         1704,
         "image",
         "Instructables",
         "Local save in /data/christmas",
         "Pallet Wood Christmas Tree,Wooden Christmas Crafts,Diy Christmas Tree,Christmas Projects,Holiday Crafts,Wooden Xmas Trees,Different Christmas Trees,Pallet Tree,Christmas Kitchen",
         "Christmas Trees From Pallet Wood | Holiday DIY",
         "5fbf9863-fb79-477c-a5b6-540c3020a55f"
        ],
        [
         "tattoos",
         "Although in the past, finger tattoos were not chosen by most people. However, as the trend of tattoos continues to change, we have found that in recent years more and more peopl… ",
         1,
         "47k",
         "https://i.pinimg.com/originals/06/16/a7/0616a7915ce4bb0125906778ba979fe0.png",
         9268,
         "image",
         "IdeasDonuts",
         "Local save in /data/tattoos",
         "Wedding Finger Tattoos,Arrow Tattoo Finger,Flower Finger Tattoos,Hand And Finger Tattoos,Simple Finger Tattoo,Finger Tattoos For Couples,Hand Tattoos For Girls,Finger Tattoo For Women,Small Hand Tattoos",
         "40 Hot Finger Tattoo Ideas",
         "eaadbbf7-06aa-49cb-bf9b-1205118deb9c"
        ],
        [
         "education",
         "Podcasts for Teachers or Parents of Teenagers: Teaching teens middle school and high school can feel joyful and rewarding most days, but can also frustrate you with one challeng… ",
         1,
         "25k",
         "https://i.pinimg.com/originals/50/19/31/501931a27ee4d076658980851b995b2c.jpg",
         4315,
         "image",
         "Math Giraffe",
         "Local save in /data/education",
         "Middle School Classroom,High School Students,High School Teachers,Middle School Tips,High School Counseling,Ela Classroom,High School Science,Future Classroom,Google Classroom",
         "Podcasts for Teachers or Parents of Teenagers",
         "21b59ba9-829d-4c33-8c27-4cd4c56d26b8"
        ],
        [
         "education",
         "This book presents 10 inspirational case studies of how centre leaders, principals and leadership teams in high-needs New Zealand educational settings have enacted leadership to… ",
         1,
         "2M",
         "https://i.pinimg.com/originals/0e/ea/c4/0eeac457780bbe43fcc5e9eaabd80f62.jpg",
         3599,
         "image",
         "Walmart",
         "Local save in /data/education",
         "Research Studies,Educational Leadership,Education System,Secondary School,Try It Free,Book Format,Social Justice,Young People,Paperback Books",
         "Educational Leadership in Aotearoa New Zealand : Issues of Context and Social Justice",
         "ff0dd945-dafa-411c-8cef-eb43e374e815"
        ],
        [
         "event-planning",
         "Sacramento California Wedding 2 Chic Events & Design Jodi Yorston Photography Wilson Vineyards Barn Miosa Couture Yellow Barn Vineyard Outdoor Candles DIY",
         1,
         "6M",
         "https://i.pinimg.com/originals/7e/45/90/7e45905fefa36347e83333fd6d091140.jpg",
         5069,
         "image",
         "Style Me Pretty",
         "Local save in /data/event-planning",
         "60th Anniversary Parties,Anniversary Decorations,Golden Anniversary,25th Wedding Anniversary,Anniversary Pictures,Anniversary Ideas,Birthday Decorations,Event Planning Design,Event Design",
         "The Vault: Curated & Refined Wedding Inspiration",
         "b75b6f87-deb3-444f-b29e-ce9161b2df49"
        ],
        [
         "mens-fashion",
         "Black And Brown Outfits You Need To Try This Fall Season. The trick with black and brown outfits is to know how to combine colors, fabrics, and shapes to get a cohesive look. So… ",
         1,
         "1M",
         "https://i.pinimg.com/originals/3e/49/09/3e4909c0ccc4dbba3cad83d97eab4a61.png",
         7343,
         "image",
         "Cultura Colectiva",
         "Local save in /data/mens-fashion",
         "Winter Outfits Men,Stylish Mens Outfits,Casual Outfits,Men Casual,Smart Casual,Outfits For Men,Fall Outfits,Mens Winter Boots,Business Casual Men",
         "This Fashion Rule Is Nonsense, And We Should All Forget About It",
         "b8c63a95-6fe8-4d7f-9455-1eef3462fee0"
        ],
        [
         "tattoos",
         "summcoco gives you inspiration for the women fashion trends you want. Thinking about a new look or lifestyle? This is your ultimate resource to get the hottest trends. 30+ Eagle… ",
         1,
         "306k",
         "https://i.pinimg.com/originals/8d/c6/ed/8dc6ed0b212393187a14c7d07a88060f.png",
         8606,
         "image",
         "Sumcoco | Decor Ideas, Hairstyles, Nails Fashion Advice",
         "Local save in /data/tattoos",
         "White Bird Tattoos,Rose Tattoos,Flower Tattoos,Tattoo Black,Bird And Flower Tattoo,Tattoo Floral,Mini Tattoos,Flower Art,Girls With Sleeve Tattoos",
         "30+ Eagle Tattoos Ideas for Women",
         "71757040-bfc8-4631-9cac-22801e61d9e3"
        ],
        [
         "tattoos",
         "Disney characters never go out with time. From small to bold, here are the best Disney tattoos that both adults and children will adore.",
         1,
         "190k",
         "https://i.pinimg.com/originals/29/1d/13/291d1361e275358df53c1db02b63d3a4.jpg",
         9074,
         "image",
         "Our Mindful Life",
         "Local save in /data/tattoos",
         "Small Disney Tattoos,Disney Thigh Tattoo,Matching Disney Tattoos,Disney Couple Tattoos,Disney Inspired Tattoos,Disney Sleeve Tattoos,Matching Best Friend Tattoos,Small Tattoos,3 Best Friend Tattoos",
         "77 Disney Tattoos To Unleash Your Magic Power - Our Mindful Life",
         "2adede06-7fb0-4b5f-8cf9-ce8e6d6fa6a1"
        ],
        [
         "home-decor",
         "Beautiful and easy ways to update every room in your home with fall decor. Plus, my favorite finds in fall decor for 2020!",
         1,
         "92k",
         "https://i.pinimg.com/originals/e5/ae/dc/e5aedc14ce557e3a69f672e0f8c88f6e.png",
         6063,
         "image",
         "Kristen | Lifestyle, Mom Tips & Teacher Stuff Blog",
         "Local save in /data/home-decor",
         "Fall Home Decor,Autumn Home,Fall Decor Outdoor,Front Porch Fall Decor,Home Decor Ideas,Porch Ideas For Fall,Fall Outdoor Decorating,Decorating Ideas For Fall,Fall Front Doors",
         "41 Gorgeous Fall Decor Ideas For Your Home - Chaylor & Mads",
         "60693727-4927-4bd6-a8c5-096a392d63e6"
        ],
        [
         "event-planning",
         "So you're thinking of getting your event planner certification, but how much do you REALLY know about event planning? Event planners need to be knowledgeable and able to answer… ",
         1,
         "5k",
         "https://i.pinimg.com/originals/6f/19/bc/6f19bce24921bf843540fc04da9eb6bf.jpg",
         5076,
         "image",
         "QC Career School",
         "Local save in /data/event-planning",
         "Diy Wedding Food,Best Wedding Makeup,Wedding Events,Wedding Tips,Wedding Stuff,Weddings,Event Planning Business,Business Events,Wedding Makeup Tutorial",
         "Quiz: Test Your Event IQ! - Pointers For Planners",
         "fa3af29c-dc78-4eed-a4c5-52a407ea04c0"
        ],
        [
         "quotes",
         "Who needs anyone else? not me. I deserve the world so I'm gonna give it to myself. | Being You | Inspirational Quotes | #beinspired #beyourself #inspirationalquote | www.unsoshl… ",
         1,
         "942k",
         "https://i.pinimg.com/originals/24/8e/64/248e64a976d22570453b252fdcb96396.jpg",
         7874,
         "image",
         "YourTango",
         "Local save in /data/quotes",
         "Good Quotes,Motivacional Quotes,Quotes Thoughts,Great Inspirational Quotes,Life Quotes Love,Self Love Quotes,Change Quotes,Quotes To Live By,Best Quotes",
         "35 Happiness Quotes Will Remind You To Freaking ROCK Your Day Today",
         "5343b4fb-36a8-4f38-a71d-48c5eaabb57f"
        ],
        [
         "mens-fashion",
         "Hamilton Khaki Aviation Pilot Chrono H76712151 Movement: ETA 251.274 quartz chronograph Case: Polished and brushed stainless steel. 44mm in diameter. Water resistant to 100 mete… ",
         1,
         "265",
         "https://i.pinimg.com/originals/13/cb/d6/13cbd63c3b2582b9ba4ec027d62e91c2.png",
         7167,
         "image",
         "Midwest Jewelers & Estate Buyers",
         "Local save in /data/mens-fashion",
         "Swiss Army Watches,Seiko Watches,Luxury Watches For Men,Silver Man,Breitling,Fashion Watches,Men's Fashion,Fashion Tips,Cool Watches",
         "Hamilton Khaki Aviation Pilot Chrono Watch H76712151",
         "922425d2-16dc-465e-8fe4-e3c081a0299f"
        ],
        [
         "art",
         "Nike trainers sprout plants and French perfumiers inspire by mysterious scientific icons in Katie Scott’s visions that take botanical illustration into the digital age",
         1,
         "908k",
         "https://i.pinimg.com/originals/16/8a/fa/168afae02d5ffc71da10cdb312de2cb1.jpg",
         552,
         "image",
         "The Guardian",
         "Local save in /data/art",
         "Art And Illustration,Illustration Inspiration,Botanical Illustration,Vintage Illustrations,Botanical Drawings,Botanical Prints,Arte Inspo,Insect Art,Psychedelic",
         "The herbal bed: Katie Scott's psychedelic flora and fauna – in pictures",
         "b82602a9-e434-42cf-9481-22f3f41d82ce"
        ],
        [
         "tattoos",
         "Snake temporary tattoo for collarbone. Spooky 3D tattoo for Halloween Includes 2 copies, 1 for the right side and 1 for the left side Apply with water and remove anytime with ba… ",
         1,
         "0",
         "https://i.pinimg.com/originals/d8/b7/a1/d8b7a11a3fe64e7fab91d3afb1536537.jpg",
         8578,
         "image",
         "Livitrevisani",
         "Local save in /data/tattoos",
         "Finger Tattoo Designs,Small Tattoo Designs,Finger Tattoos,Small 3d Tattoos,Cool Tattoos,Line Work Tattoo,Back Tattoo,Collarbone Tattoo,Tattoo Neck",
         "Snake Collarbone Temporary Tattoo. Halloween Tattoos  Spooky | Etsy",
         "036ec267-658b-4dad-a097-8ef0b4f30c0d"
        ],
        [
         "travel",
         "From practical travel tips to tips for inner travel peace, the following is a long list of everything we think every female traveler should know in order to get the most out of… ",
         1,
         "41k",
         "https://i.pinimg.com/originals/cd/66/6d/cd666dbe0791e67881586f0c85495f88.jpg",
         10245,
         "image",
         "Her Packing List | Minimalist Travel Essentials & Tips for Women",
         "Local save in /data/travel",
         "Travel To Do,Travel Blog,Travel Info,Future Travel,Travel Advice,Solo Travel,Time Travel,Travel Guides,Places To Travel",
         "99 Things Every Female Traveler Should Know",
         "cb3aee98-8171-44ce-bc47-9275b2d2c731"
        ],
        [
         "beauty",
         "It can be used as a pre-cleansing or pre-makeup step, a toner (that mildly hydrates and exfoliates), or a midday refresher. The possibilities!Get it from Soko Glam for $30.",
         1,
         "5M",
         "https://i.pinimg.com/originals/08/68/cb/0868cb65f447b9b165544f72fd05cbce.jpg",
         1450,
         "image",
         "BuzzFeed",
         "Local save in /data/beauty",
         "Face Care,Body Care,Beauty Skin,Beauty Makeup,K Beauty,Beauty Water,Tips Belleza,Aesthetic Makeup,All Things Beauty",
         "A multitasking cleanser/toner that feels incredibly light on the skin and smells ever so faintly of rose petals.",
         "be11eb0e-bf1d-4558-979c-5daf59454439"
        ],
        [
         "education",
         "15 Essential Classroom Items For First Year Teachers / First Year Teacher Must Haves",
         1,
         "5k",
         "https://i.pinimg.com/originals/4b/b9/a8/4bb9a85f609a8384ed9c9ab14e7bcea0.jpg",
         4137,
         "image",
         "Write Your Story | Budgeting, Healthy Lifestyle, Faith",
         "Local save in /data/education",
         "1st Year Teachers,First Year Teaching,First Grade Teachers,Elementary Teacher,Montessori Elementary,Teaching Reading,History Teachers,High School Classroom,First Grade Classroom",
         "15 Essential Classroom Items For First Year Teachers / First Year Teacher Must Haves",
         "bf275054-4464-448b-9143-1bf101aa366d"
        ],
        [
         "home-decor",
         "Celebrate fall with a neutral color palette with natural elements. This Navy and Neutral Fall Living Room + Kitchen Tour will make you rethink fall decor.",
         1,
         "178k",
         "https://i.pinimg.com/originals/f1/be/b6/f1beb6d3414f1c52929df39a83d8da9f.jpg",
         6566,
         "image",
         "Sand and Sisal",
         "Local save in /data/home-decor",
         "Fall Living Room,Coastal Living Rooms,Living Room Paint,Living Room Kitchen,Living Room Interior,Living Room Furniture,Living Room Decor,Living Area,Small Living",
         "Navy and Neutral Fall Living Room + Kitchen Tour - Sand and Sisal",
         "6d8848f8-f515-4935-8dae-5dd02304d76e"
        ],
        [
         "travel",
         "Are you looking for the cheapest country to visit? Here are the cheapest countries to visit in the world! These are affordable destinations that offer the most value for an unfo… ",
         1,
         "7k",
         "https://i.pinimg.com/originals/56/10/37/561037138bcc9c20e88a8e66ae0cb658.png",
         9487,
         "image",
         "Diana's Healthy Living | Luxury Adventure Travel Blog",
         "Local save in /data/travel",
         "Travel Advice,Travel Guides,Travel Tips,Travel Goals,Travel Info,Travel Essentials,Travel Stuff,Travel Hacks,Cheap Travel",
         "The Cheapest Countries to Visit Around the World",
         "3bccb05e-f031-477f-9ca4-9be28e5bd542"
        ],
        [
         "christmas",
         "Transform mini terra cotta pots into the sweetest gingerbread house ornaments! Kids will love making this adorable Christmas craft to hang on the tree.",
         1,
         "20k",
         "https://i.pinimg.com/originals/13/28/09/1328097d7c290d1bf8642b01a6ba1c6c.jpg",
         2411,
         "image",
         "Projects with Kids",
         "Local save in /data/christmas",
         "Noel Christmas,Diy Christmas Ornaments,Homemade Christmas,Simple Christmas,Gingerbread Ornaments,Christmas Gingerbread,Gingerbread Houses,Preschool Christmas,Ornaments Ideas",
         "The Sweetest Gingerbread House Ornaments Kids Can Make",
         "4e11801e-7a64-4f1e-90dd-e900677595c5"
        ],
        [
         "diy-and-crafts",
         "Painting pasta to thread - this was so much fun and the cool fluro pasta made great necklaces!",
         1,
         "130k",
         "https://i.pinimg.com/originals/a1/3d/0a/a13d0a596937d745809c21d68de1ab92.jpg",
         2788,
         "image",
         "Katepickle - picklebums - fun ideas for families",
         "Local save in /data/diy-and-crafts",
         "Craft Activities For Kids,Toddler Activities,Easy Toddler Crafts,Time Activities,Activities For 4 Year Olds,At Home Crafts For Kids,Arts And Crafts For Kids Toddlers,Back To School Crafts For Kids,Spring Toddler Crafts",
         "Painting Pasta to Thread",
         "caf2fab1-bca6-49ff-8084-98094c945143"
        ],
        [
         "mens-fashion",
         "Women's T-shirt. Design inspired by the rock band The Killers' hit \"Mr. Brightside\". One of the greatest song from the album Hot Fuss released in 2004. Soft and light, 100% cott… ",
         1,
         "27",
         "https://i.pinimg.com/originals/8c/42/39/8c42391d35fcad51a4a79f7cd81bf26d.jpg",
         7166,
         "image",
         "Mala Rock | Rock T-shirts",
         "Local save in /data/mens-fashion",
         "Mr Brightside,Rock T Shirts,Greatest Songs,Timeless Classic,Rock Bands,Album,T Shirts For Women,Inspired,Hot",
         "The Killers - Mr. Brightside - Women's T-Shirt - Heather Dark Grey / S",
         "4a844b03-e161-47a1-904b-591eb5dc4fb1"
        ],
        [
         "tattoos",
         "We have put together the Ultimative Sunflower Tattoo Collection in 2020. Check out our highest rated handpicked Sunflower designs here!",
         1,
         "800k",
         "https://i.pinimg.com/originals/18/de/6c/18de6c81a8637e224c7d63dce1414ceb.jpg",
         8930,
         "image",
         "Next Luxury",
         "Local save in /data/tattoos",
         "Sunflower Tattoo Sleeve,Sunflower Tattoo Shoulder,Sunflower Tattoo Small,Sunflower Tattoos,Sunflower Tattoo Design,Shoulder Tattoo,Sunflower Mandala Tattoo,Sunflower Tattoo Meaning,Form Tattoo",
         "135 Sunflower Tattoo Ideas - [Best Rated Designs in 2021]",
         "a2999c28-f7b2-4577-af87-49d21d6d8a18"
        ],
        [
         "travel",
         "On our Calgary to Vancouver road trip we got to spend time in Banff, Canada. We visited the stunning Lake Moraine as well as Lake Louise and plenty of other of Canada's natural… ",
         1,
         "7k",
         "https://i.pinimg.com/videos/thumbnails/originals/57/9d/52/579d52242ae5609978c754d393e44e81.0000001.jpg",
         9672,
         "video",
         "Travel Mad Mum",
         "Local save in /data/travel",
         "Beautiful Places To Travel,Cool Places To Visit,Beautiful Roads,Beautiful Scenery,Wonderful Places,Lac Moraine,Moraine Lake,Lac Louise,Natur Wallpaper",
         "Lake Moraine, Banff, Canada",
         "1a5050a4-ac82-472c-aeff-3457de8bbee9"
        ],
        [
         "education",
         "Our family would rather spend time outdoors than indoors. We love nature! That said, sometimes mother nature is uncooperative. On these days, it can be fun to pull out some natu… ",
         1,
         "9k",
         "https://i.pinimg.com/originals/d6/3b/1a/d63b1a2a36534ecac5d1fbd0d932403a.jpg",
         3729,
         "image",
         "My Little Poppies (Cait Curley, MA/CAGS)",
         "Local save in /data/education",
         "Diy Nature,Theme Nature,Nature Study,Science And Nature,Summer Science,Earth Science,Nature Crafts,Outdoor Education,Outdoor Learning",
         "5 + Nature Games for Your Homeschool",
         "ac90f1d2-dc9e-438c-b073-dd48511b80b0"
        ],
        [
         "mens-fashion",
         "Looking for the coolest fall fashion for men this season? Click to read this article on fall fashion for men to look sharp on LLEGANCE.",
         1,
         "28k",
         "https://i.pinimg.com/originals/4c/bf/2d/4cbf2d6e04d2502612169220553f4cef.jpg",
         7294,
         "image",
         "LLEGANCE | Workwear Fashion Woman Advice For Driven Professionals",
         "Local save in /data/mens-fashion",
         "Fashion 90s,Autumn Fashion,Fashion Ideas,Trendy Fashion,Fashion Photo,Fashion Outfits,Fashion Trends,Urban Fashion Men,Men's Casual Fashion",
         "Foolproof Fall Fashion For Men You'll Love",
         "9d8409ef-bea7-4133-a021-c58b9c042210"
        ],
        [
         "christmas",
         "Take a look at this new collection of Christmas decor featuring 16 Blissful Christmas Table Decor Ideas That You Must See. Happy holidays!",
         1,
         "616k",
         "https://i.pinimg.com/originals/5f/70/30/5f7030a35bb8a1491e915fb0ae29bcf5.jpg",
         2015,
         "image",
         "ArchitectureArtDesigns",
         "Local save in /data/christmas",
         "Kids Crafts,Christmas Crafts For Kids,Homemade Christmas,Christmas Projects,Holiday Crafts,Christmas Gift Ideas,Preschool Christmas,Tree Crafts,Christmas Inspiration",
         "16 Blissful Christmas Table Decor Ideas That You Must See",
         "72359164-4419-452c-81cb-74f30a5a26b7"
        ],
        [
         "event-planning",
         "Do you love planning parties? Do you want to work-at-home? This post covers everything you need to know about becoming a home-based event planner!",
         1,
         "110k",
         "https://i.pinimg.com/originals/4d/a3/a4/4da3a4730418239f1b43ce81fb032c15.jpg",
         4913,
         "image",
         "The Work at Home Woman",
         "Local save in /data/event-planning",
         "Event Planning Tips,Event Planning Business,Party Planning,Business Ideas,Craft Business,Business Chic,Business Inspiration,Business Goals,Business Opportunities",
         "How to Work From Home as an Event Planner",
         "4d2d79c6-9ca8-46c9-a38e-931c5d967804"
        ],
        [
         "beauty",
         "Electroporation + LED + Low-Frequency Exercising muscles you never use in daily life, this product works like an electroporation that you can only get in a medical skin care cli… ",
         1,
         "18",
         "https://i.pinimg.com/originals/05/61/89/056189f29c6898f2db14af0b526adf52.png",
         1137,
         "image",
         "Awesthetics by Amy Wong",
         "Local save in /data/beauty",
         "Cream For Oily Skin,Moisturizer For Oily Skin,Oily Skin Care,Face Skin Care,Face Care Tips,Beauty Tips For Face,Beauty Tricks,Skin Care Clinic,Skin Treatments",
         "Epus-PRO Treatment Device",
         "c0549191-51c3-4fb3-bcd3-824a9c46cfd7"
        ],
        [
         "diy-and-crafts",
         "One thing I love about Crafts is how the evolve! These toilet paper rolls are adorable and modern. I love that something as simple as a recycled toilet paper roll can be taken t… ",
         1,
         "502k",
         "https://i.pinimg.com/originals/c6/cd/0d/c6cd0d04da9cfc11566cfd34eeb1f918.jpg",
         2959,
         "image",
         "CraftGossip.com",
         "Local save in /data/diy-and-crafts",
         "Toilet Paper Roll Crafts,Cardboard Crafts,Diy Paper,Paper Crafting,Toilet Paper Rolls,Cardboard Playhouse,Paper Art,Kids Crafts,Toddler Crafts",
         "The Cutest Toilet Paper Crafts",
         "439cac4b-18e8-4aaa-88c5-edb26a701111"
        ],
        [
         "art",
         "Looking for a complete post on how to watercolor? This guide shows you step-by-step how to learn how to watercolor on your own!",
         1,
         "85k",
         "https://i.pinimg.com/originals/d9/bf/31/d9bf3191828e8a4d145db739d5fac53e.jpg",
         778,
         "image",
         "Menucha - Moms and Crafters",
         "Local save in /data/art",
         "Watercolor Beginner,Watercolor Paintings For Beginners,Step By Step Watercolor,Watercolor Tips,Watercolour Tutorials,Watercolor Techniques,Art Techniques,Simple Watercolor,Tattoo Watercolor",
         "Your complete guide to watercolors for beginners!",
         "f82fe1cc-22ce-4c4d-82cc-2e8c9325701d"
        ],
        [
         "travel",
         "35 European bucket list destinations for any traveler heading to Europe. From Cinque Terre, Italy to Iceland - there are so many amazing sites to see in Europe.",
         1,
         "28k",
         "https://i.pinimg.com/originals/71/04/1a/71041ad83ede43d9665741e719c58a86.jpg",
         9875,
         "image",
         "Nicki ",
         "Local save in /data/travel",
         "Backpacking Europe,Europe Travel Guide,Travel Guides,Travel Packing,Traveling Europe,Travelling,Travel Backpack,Budget Travel,2 Week Europe Itinerary",
         "European Bucket List: 35 Things NOT To Miss When Traveling Europe",
         "782dcbad-ff91-40a6-ba60-216efe29adb7"
        ],
        [
         "art",
         "Fashion designer Issac Mizrahi’s Greenwich Village home is an amalgamation of three apartments that was 20 years in the making",
         1,
         "3M",
         "https://i.pinimg.com/originals/f4/6c/54/f46c546a2e480022a42d842b7dca157e.jpg",
         428,
         "image",
         "Architectural Digest",
         "Local save in /data/art",
         "Modern Art,Contemporary Art,Contemporary Kitchens,Contemporary Bedroom,New York City Apartment,Manhattan Apartment,Art Moderne,Architectural Digest,Painting Inspiration",
         "Fashion Designer Isaac Mizrahi’s Updated 1930s New York City Apartment",
         "610b3f83-9fe0-469d-946c-d16b577fca71"
        ],
        [
         "beauty",
         "What are the basic things you need for makeup? Let’s be honest, ladies; all women can do makeup, yet not all women know how to do makeup right. The good news is, this post can t… ",
         1,
         "799k",
         "https://i.pinimg.com/originals/2c/1a/d4/2c1ad45b5c54034a2dbc73c84a89f5e4.jpg",
         1371,
         "image",
         "Glaminati",
         "Local save in /data/beauty",
         "Contouring Makeup,Skin Makeup,Beauty Makeup,Makeup Brushes,Eyeliner Makeup,Makeup Tips Lips,Makeup 101,Cheap Makeup,Rosa Eyeliner",
         "How To Do Makeup - Step By Step Tips For The Perfect Look",
         "33e92ac1-73d1-4c31-9892-d5e633060790"
        ],
        [
         "art",
         "Everyone loves flowers for their beautiful shapes and color, but confronting all that colorful splendor can be daunting. Artist Jude Tolar shows how to make color decoding easy… ",
         1,
         "227k",
         "https://i.pinimg.com/originals/e1/eb/e8/e1ebe8d2f201d92109b1b12bf6e2c1ac.jpg",
         772,
         "image",
         "Artists Network",
         "Local save in /data/art",
         "Chalk Pastel Art,Soft Pastel Art,Pastel Artwork,Oil Pastel Paintings,Chalk Pastels,Pastel Drawing,Oil Pastels,Horse Paintings,Flower Paintings",
         "5 Pastel Color Palettes for 5 Floral Favorites",
         "49a12516-2c77-445f-b656-4b55b4a69608"
        ],
        [
         "art",
         "These up-and-coming influencers share amazing ideas for teaching our children through art, nature, and play. Also, their ideas are educational and fun!",
         1,
         "2k",
         "https://i.pinimg.com/originals/82/c1/1c/82c11cdbc4adcbccf8db68187f45abe3.jpg",
         327,
         "image",
         "Learn Play Read",
         "Local save in /data/art",
         "Classe D'art,Preschool Arts And Crafts,Preschool Christmas,Christmas Crafts,Ecole Art,Beginning Of School,Art Classroom,Flipped Classroom,Art Plastique",
         "10 Creative Influencers to Follow for Preschool Arts and Crafts Ideas",
         "549e1cf5-2301-478b-9e41-af3f618bdc5b"
        ],
        [
         "education",
         "behavior, special education, token boards, when token boards don't work, money token systems",
         1,
         "11k",
         "https://i.pinimg.com/originals/24/f9/e2/24f9e22ada4a79c61432ef6c8fe1d0f9.jpg",
         3800,
         "image",
         "Traci Bender - The Bender Bunch",
         "Local save in /data/education",
         "Special Education Behavior,Classroom Behavior Management,Behavior Plans,Behaviour Management,Behavior Charts,Behavior Board,Behavior Report,Behavior Analyst,Preschool Special Education",
         "Reinforcing the Difficult Child When Token Boards Don't Work!",
         "d2c367ed-9287-4ea3-b173-198b292d9981"
        ],
        [
         "diy-and-crafts",
         "HELPFUL RESOURCES – Check out my resin colorants resources page here with links to all the products mentioned in this article (and more). Let me know if you have any that you lo… ",
         1,
         "6k",
         "https://i.pinimg.com/originals/d4/12/78/d4127833023ca32600571ddca16f1556.jpg",
         3454,
         "image",
         "Mixed Media Crafts",
         "Local save in /data/diy-and-crafts",
         "Epoxy Resin Art,Diy Resin Art,Diy Resin Crafts,Resin Molds,Ice Resin,Resin Pour,Diy Epoxy,Diy Resin Painting,Diy Resin Dice",
         "What can you use to color resin?",
         "46bd3f86-b09d-4e29-9033-7ff2df595e51"
        ],
        [
         "home-decor",
         "No description available Story format",
         1,
         "117k",
         "https://i.pinimg.com/videos/thumbnails/originals/75/48/3b/75483b74822855519ec8b40df4c670ef.0000001.jpg",
         6398,
         "multi-video(story page format)",
         "MojisStyle",
         "Local save in /data/home-decor",
         "Decor Home Living Room,Home And Living,Diy Bedroom Decor,Home Decor,Bathroom Interior Design,Interior Design Living Room,Dream Home Design,House Design,Beautiful Bathrooms",
         "My master bathroom makeover with @flooranddecor ! Follow me on Instagram @Mojisstyle for more",
         "ea44d318-2ced-4cf8-a66f-a6a036b84faa"
        ],
        [
         "christmas",
         "A gorgeous fragranced soy candle in a stoneware pot. Scent notes: • Top: Apple Cider, Cinnamon • Middle: Fresh Cut Christmas Tree • Base: Cookies, Orange Peels, Cloves Burn time… ",
         1,
         "13",
         "https://i.pinimg.com/originals/fc/a0/6e/fca06e8a43ed4c867a58acbb1b6a5e6e.jpg",
         2301,
         "image",
         "Home Etc",
         "Local save in /data/christmas",
         "Christmas Tree Base,Fresh Cut Christmas Trees,Christmas Morning,Christmas Scents,Christmas Candles,Holiday Tree,Rustic Christmas,Fall Candles,Soy Candles",
         "Christmas Candle",
         "d502bdc4-103c-47db-832b-4a42a1ae9e0e"
        ],
        [
         "finance",
         "Description Coupon Organizer in a fun colorful fabric -island oasis, Great Size for the \"basic\" couponer - holds up to 500 coupons with ease, and is made long enough so that you… ",
         1,
         "0",
         "https://i.pinimg.com/originals/65/bb/ea/65bbeaf458907bb079317d8303c4fa0e.jpg",
         5730,
         "image",
         "Consuelo Aguirre",
         "Local save in /data/finance",
         "Grocery Items,Grocery Coupons,Care Organization,Coupon Organization,Extreme Couponing,Couponing 101,Life Binder,Save My Money,Love Coupons",
         "Island Oasis Coupon Organizer",
         "1e1f0c8b-9fcf-460b-9154-c775827206eb"
        ],
        [
         "vehicles",
         "January 23, 2009 We can see emergency responders queueing up for this one. ATVCorp has created versions of its Prowler Light Tactical All Terrain Vehicle (LTATV) for fire-fighti… ",
         1,
         "314",
         "https://i.pinimg.com/originals/14/6b/6b/146b6b1a1127773f7046e08550e68ed0.jpg",
         10552,
         "image",
         "p hump",
         "Local save in /data/vehicles",
         "Army Vehicles,Armored Vehicles,Go Kart Buggy,Atv Attachments,Aviation Fuel,Special Forces,Special Ops,Terrain Vehicle,Emergency Response",
         "The Prowler Emergency Response Vehicle",
         "17301b8c-ccbb-42ad-b2df-3876df35b1cd"
        ],
        [
         "art",
         "Learn to create alcohol ink rings for gorgeous pieces of art. Each ring sits on top of another, giving a multilayered appearance",
         1,
         "7k",
         "https://i.pinimg.com/originals/03/03/1f/03031fdc9775d0c06f61d68e51362379.png",
         603,
         "image",
         "Kim Cook-Thirteen Chairs-Slates Mugs And Tees",
         "Local save in /data/art",
         "Alcohol Ink Tiles,Alcohol Ink Glass,Alcohol Ink Crafts,Alcohol Ink Painting,Pour Painting,Zealand Tattoo,Copics,Types Of Art,Art Techniques",
         "How to Create Alcohol Ink Rings For Gorgeous Pieces of Art -",
         "78e21a64-53b0-4745-8294-e8c456f0ccc1"
        ],
        [
         "art",
         "Lines can depict any shape; they can create tridimensional effects and give the perception of movement. I did this drawing with 6th grade students, in order to create a mountain… ",
         1,
         "26",
         "https://i.pinimg.com/originals/ad/e2/af/ade2af2b4ad1419a8d13b12a7969be16.jpg",
         232,
         "image",
         "mj",
         "Local save in /data/art",
         "Line Art Projects,School Art Projects,Art School,Art Education Projects,Garden Projects,Doodle Art,Elements Of Art Line,4th Grade Art,Art Lessons Elementary",
         "Mountains made up of lines",
         "4b3a299c-b202-44c3-8e54-bedce8f35429"
        ],
        [
         "art",
         "10 art sub lessons that only need a pencil. Cover lessons for art teachers. Make the perfect art sub lessson folder with this amazing resources.",
         1,
         "25k",
         "https://i.pinimg.com/originals/ee/a8/78/eea878911033897d981a69d9f6b2fb7c.png",
         719,
         "image",
         "The Arty Teacher",
         "Local save in /data/art",
         "Art Lessons For Kids,Art Lessons Elementary,Art For Kids,Art Sub Plans,Art Lesson Plans,Art Substitute Plans,High School Art,Middle School Art,Primary School Art",
         "10 Art Sub Lessons that only need a Pencil",
         "d7c53e34-9540-4f48-a31b-89b6ed1852bb"
        ],
        [
         "education",
         "Giant list of companies offering FREE services for schools and teachers during school closures",
         1,
         "196k",
         "https://i.pinimg.com/originals/05/df/76/05df76296994a6d9f5830eee642ff296.jpg",
         3750,
         "image",
         "Becky Mansfield - YourModernFamily ",
         "Local save in /data/education",
         "Teacher Websites,Teacher Tools,Teacher Hacks,Teacher Resources,Free Teaching Resources,Teacher Binder,Teacher Stuff,Teaching Strategies,Teaching Tips",
         "FREE FOR TEACHERS! List of Companies offering free subscriptions now!",
         "011f8a14-ffab-4eee-a180-2c9154af430d"
        ],
        [
         "tattoos",
         "Attractive Geometric Elephant Tattoo Female Will Love Today elephant tattoo for women are popular for…",
         1,
         "6k",
         "https://i.pinimg.com/originals/f9/14/11/f9141167d060e6a949e585f1b877a949.jpg",
         8978,
         "image",
         " Travel Pins Design Ideas",
         "Local save in /data/tattoos",
         "Cute Elephant Tattoo,Elephant Tattoo Design,Small Elephant Tattoos,Elephant Thigh Tattoo,Elephant Tattoo Meaning,Elephant Outline,Tattoo Oma,Tigh Tattoo,Small Thigh Tattoos",
         "50 Elephant Tattoo Designs for Women Stylish Picture",
         "b98e5485-de15-45e7-b4b1-c45351d84f30"
        ],
        [
         "christmas",
         "20 Christmas Decorating Ideas We Bet You Haven't Thought Of via @PureWow",
         1,
         "868k",
         "https://i.pinimg.com/originals/e9/b9/f0/e9b9f01cc3b2cf41948b45854335396c.jpg",
         2074,
         "image",
         "PureWow",
         "Local save in /data/christmas",
         "Holiday Centerpieces,Xmas Decorations,Centerpiece Ideas,Table Centerpieces,Valentine Decorations,Wedding Centerpieces,Outdoor Decorations,Christmas Centerpieces With Candles,Christmas Dining Table Decorations",
         "35 Christmas Decorating Ideas We Bet You Haven't Thought Of",
         "86ed09a7-842d-496d-9501-010c654eb340"
        ],
        [
         "vehicles",
         "After a week with my Sunrider . . LOVE!! I've opened it more in a week than I've had my freedom panels off in 1.5 years. Now, who has a sun-visor mod so...",
         1,
         "11k",
         "https://i.pinimg.com/originals/54/30/88/5430889d469677d563eaa2251711015f.jpg",
         10337,
         "image",
         "WranglerForum.com",
         "Local save in /data/vehicles",
         "Cj Jeep,Jeep Mods,Jeep Suv,Jeep Truck,Jeep Wrangler Forum,Jeep Wrangler Unlimited,Jeep Wrangler Accessories,Jeep Accessories,Jeep Photos",
         "New Bestop Sunrider for Hardtop Review/s",
         "104c2394-368c-425a-9625-a116b59da94d"
        ],
        [
         "art",
         "Free quick inspirational video on creating a mixed media face with acrylic, collage, stenciling and simple techniques. Come on over to watch",
         1,
         "27k",
         "https://i.pinimg.com/videos/thumbnails/originals/05/86/a4/0586a4116e1fc34efc25e064ccd123e8.0000001.jpg",
         831,
         "video",
         "Shawn Petite",
         "Local save in /data/art",
         "Collage Kunst,Paper Collage Art,Collage Art Mixed Media,Mixed Media Painting,Mixed Media Canvas,Canvas Collage,Art Collages,Wall Canvas,Canvas Art",
         "creating mixed-media faces tutorial",
         "5e65914d-9f58-4ff1-9676-658e426e8ce5"
        ],
        [
         "vehicles",
         "Aimee Song of the blog Song of Style shares a photo diary of her weekend in the Joshua Tree desert with Faithfull the Brand. Photos by Grant Legan.",
         1,
         "1k",
         "https://i.pinimg.com/originals/11/1e/c3/111ec37eed198cb432f71b20afd0e770.jpg",
         10370,
         "image",
         "Maggie Panning",
         "Local save in /data/vehicles",
         "Pretty Cars,Cute Cars,Classy Cars,Sexy Cars,Dream Cars,My Dream Car,Carros Retro,Ford Classic Cars,Ford Mustang Classic",
         "Joshua Tree - A Weekend in the Desert with Faithfull | Song of Style",
         "746948e7-a216-456b-8de7-7fee7312012c"
        ],
        [
         "quotes",
         "No description available Story format",
         1,
         "3k",
         "https://i.pinimg.com/videos/thumbnails/originals/2b/20/ac/2b20ace41dfc29087005a3df9fe1dd6d.0000001.jpg",
         7832,
         "multi-video(story page format)",
         "LISA MASLYK / VOICE OVER TALENT /ACTOR",
         "Local save in /data/quotes",
         "Motivacional Quotes,Doodle Quotes,Wisdom Quotes,Words Quotes,Year Quotes,Positive Quotes For Life,Good Life Quotes,Self Love Quotes,Self Healing Quotes",
         "You either win or you learn❤️ #inspirationalquote #quote #positive #hope",
         "a549938a-786e-4a94-a473-403e8e3a15ad"
        ],
        [
         "beauty",
         "The oil cleansing method is a simple, natural way to have clean skin without using toxic chemicals. It will leave your face radiant and soft!",
         1,
         "85k",
         "https://i.pinimg.com/originals/2c/1c/da/2c1cda7da86ee711536bbacfe89c75c9.jpg",
         1545,
         "image",
         "Thank Your Body",
         "Local save in /data/beauty",
         "Beauty Care,Diy Beauty,Beauty Hacks,Beauty Shop,Oil Cleansing Method,Goji,Korean Skincare Routine,Homemade Beauty Products,Organic Beauty",
         "Oil Cleansing Method: What it is and why you should do it.",
         "0c629541-cc5b-4b61-bd3f-613346893258"
        ],
        [
         "art",
         "Use our easy step by step tutorial to create a DIY abstract heart painting on any canvas size. Lots of inspiration to help you choose colors.",
         1,
         "410k",
         "https://i.pinimg.com/originals/33/85/f8/3385f82ee5e8ecdcccdf798bdcbee3d2.jpg",
         205,
         "image",
         "The Creativity Exchange",
         "Local save in /data/art",
         "Painting & Drawing,Watercolor Paintings,Original Paintings,Owl Watercolor,Acrylic Paintings,Owl Art,Bird Art,Beginner Painting,Animal Paintings",
         "DIY Abstract Heart Painting and a Fun Paint Party",
         "f4afd543-b9fe-44c3-8064-f2198faa1372"
        ],
        [
         "home-decor",
         "BOHEMIAN TRENDING TEXTURES FOR THE HOME ~ ROUNDED UP MY FAVORITE RATTAN & CANE HOME DECOR FINDS",
         1,
         "13k",
         "https://i.pinimg.com/originals/24/89/f7/2489f76f98cb3c1189848ddc42f2ec52.jpg",
         6261,
         "image",
         "Dashing Darlin' ",
         "Local save in /data/home-decor",
         "Boho Chic Living Room,Boho Chic Entryway,Living Room Decor With White Couch,Rustic Living Rooms,Diy Living Room,Living Room Upstairs,Rustic Room,Bohemian Living,Living Room Inspiration",
         "DECORATING WITH RATTAN & CANE - Dashing Darlin'",
         "308c5c1c-1ebd-4649-be78-14424ee346b1"
        ],
        [
         "quotes",
         "A feminist? More like a warrior. These bad bitch quotes might be the perfect slap-in-the-face you'll need to fight self-doubts.",
         1,
         "190k",
         "https://i.pinimg.com/originals/43/91/f5/4391f5ce5501ded201706022572514ae.png",
         7586,
         "image",
         "Our Mindful Life",
         "Local save in /data/quotes",
         "Bitch Quotes,Sarcastic Quotes,True Quotes,Funny Quotes,Girls Attitude Quotes,Sassy Quotes Bitchy,Bad Words Quotes,Bad Girl Quotes,Girl Qoutes",
         "64 Bad Bitch Quotes To Awaken Your Inner Savage -Our Mindful Life",
         "28525ffe-fb38-4e4b-90be-55464575cc3b"
        ],
        [
         "art",
         "Kids will use chalk pastels and black paper to create this bold and bright hot chocolate art project! Easy to follow tutorial included.",
         1,
         "20k",
         "https://i.pinimg.com/originals/5a/d3/82/5ad38202cf8acb022cb8f46ce2a78ad6.jpg",
         808,
         "image",
         "Projects with Kids",
         "Local save in /data/art",
         "Hot Chocolate Art,Chocolate Crafts,Art Activities For Kids,Preschool Art,Preschool Winter,Christmas Activities,Winter Art Projects,Clay Art Projects,Chalk Pastel Art",
         "Chalk Pastel Hot Chocolate Art Project",
         "23f67e42-db9f-4aae-8b82-cbec64ad9f4d"
        ],
        [
         "beauty",
         "Skin Purging sorgt für die reinste Haut, die du jemals hattest #skin äpurging #skinpurging #skincare #hautpflege #schönehaut #haut #beauty #tips",
         1,
         "326k",
         "https://i.pinimg.com/originals/93/b2/7b/93b27be044b2fd2f227f30a7f2c2faf2.jpg",
         1555,
         "image",
         "ELLE Germany",
         "Local save in /data/beauty",
         "Natural Hair Mask,Natural Hair Styles,Natural Beauty,Skin Tag,How To Apply Makeup,Pimples,Beauty Routines,Skincare Routine,Glowing Skin",
         "Skin Purging: Die Pflegemethode für reine Haut | ELLE",
         "1f20551b-a21c-4ff0-b20d-49e95fdc50d3"
        ],
        [
         "finance",
         "Don't fight about budgets and money with your spouse! Here are a few tips that we've found that make it work in our marriage!",
         1,
         "313",
         "https://i.pinimg.com/originals/37/d5/82/37d58296bcef3471a633c76b89d8625e.jpg",
         5468,
         "image",
         "Annamarie Hilton",
         "Local save in /data/finance",
         "Ways To Save Money,Money Tips,Money Saving Tips,How To Make Money,Managing Money,Saving Time,College Fund,Scholarships For College,Education College",
         "Budgets, Spouses & Making It Work! - Tshanina Peterson",
         "91ee49f6-0070-4270-ba19-fde88ba51c91"
        ],
        [
         "quotes",
         "Are you looking for some heart touching sad quotes and sayings; Here we have collected for you 50 best heart touching sad quotes..",
         1,
         "112",
         "https://i.pinimg.com/originals/0c/0f/40/0c0f408d96458080e0c82adb50be8e8f.jpg",
         7790,
         "image",
         "AnnaLee Kick",
         "Local save in /data/quotes",
         "Crush Quotes For Girls,Sad Crush Quotes,Hurt Quotes,Love Me Quotes,Mood Quotes,Quotes To Live By,Life Quotes,Quotes Quotes,Sad Quotes That Make You Cry",
         "50 Heart Touching Sad Quotes That Will Make You Cry",
         "9cd89fb9-d1af-4e66-85ca-c9d656c918b4"
        ],
        [
         "beauty",
         "Might try this... I'm generally skeptical about at-home remedies, but I know baking soda and lemons both do wonders. More",
         1,
         "5M",
         "https://i.pinimg.com/originals/c8/ab/af/c8abaffc56050f674eef8e65ad684929.jpg",
         1422,
         "image",
         "BuzzFeed",
         "Local save in /data/beauty",
         "Baking Soda Lemon Juice,Diy Beauté,Tips Belleza,Belleza Natural,Health And Beauty Tips,Beauty Secrets,Beauty Advice,Diy Beauty Tips,Beauty Life Hacks",
         "41 Life-Saving Beauty Hacks Every Girl Should Have In Her Arsenal",
         "7bbe860c-a739-4ba9-babd-feb24bb6e4d9"
        ],
        [
         "vehicles",
         "There are a lot of options of places to stay so you probably only have to book the initial one so you know the best place to land from the airport",
         1,
         "171k",
         "https://i.pinimg.com/originals/e9/01/4d/e9014d537dd2b81c606e8466cef3904c.jpg",
         10663,
         "image",
         "vintagetopia",
         "Local save in /data/vehicles",
         "Old Classic Cars,Classic Trucks,Old Vintage Cars,Antique Cars,Vintage Trucks,Antique Trucks,Cadillac,Convertible,Mustang",
         "21+ Classic Car Picture of the 1950s - Vintagetopia",
         "d5208c16-82ae-4fd1-87f0-36e5ef789412"
        ],
        [
         "diy-and-crafts",
         "Keep the kids busy this summer with these easy diy crafts and projects. Creative and…",
         1,
         "124k",
         "https://i.pinimg.com/originals/b3/bc/e2/b3bce2964e8c8975387b39660eed5f16.jpg",
         2863,
         "image",
         "Of Life & Lisa | Lifestyle Blog",
         "Local save in /data/diy-and-crafts",
         "Summer Crafts For Kids,Fun Crafts For Kids,Summer Kids,Toddler Crafts,Crafts To Do,Diy For Kids,Summer Snow,Diys For Summer,Craft Ideas For Girls",
         "25 Super Fun Summer Crafts for Kids - Of Life and Lisa",
         "9bf39437-42a6-4f02-99a0-9a0383d8cd70"
        ],
        [
         "tattoos",
         "We welcome you to our latest collection of Beautiful Tattoo Ideas For Women. Check out and get inspired by the most beautiful design for yourself.",
         1,
         "21k",
         "https://i.pinimg.com/originals/fa/cf/7c/facf7cd752a4bc7c09faaa8925ab80b1.jpg",
         8653,
         "image",
         "ALL FOR WOMAN",
         "Local save in /data/tattoos",
         "Small Back Tattoos,Small Girl Tattoos,Little Tattoos,Tattoo Girls,Mini Tattoos,Tattoo Small,Back Tattoo Women,Tattoo On Back,Girl Back Tattoos",
         "Unique Women Tattoos Ideas 2020",
         "24b1343c-4d86-4705-8ec9-7f1f2df2d77e"
        ],
        [
         "diy-and-crafts",
         "A fun space activity for kids. Preshoolers and kindergartners will love making their own alien spacecraft!",
         1,
         "192k",
         "https://i.pinimg.com/originals/6f/e8/aa/6fe8aa405513c6d2f77b5f47d17cdce8.jpg",
         2923,
         "image",
         "The Crafting Chicks",
         "Local save in /data/diy-and-crafts",
         "Paper Plate Crafts For Kids,Fun Crafts For Kids,Summer Crafts,Toddler Crafts,Art For Kids,Outer Space Crafts For Kids,Kid Crafts,Space Kids,Back To School Crafts For Kids",
         "UFO Paper Plate Craft",
         "52fa3af5-24a4-4ccb-8f17-9c3eb12327ee"
        ],
        [
         "travel",
         "Volcanoes, hikes, and hot springs in Costa Rica! The ultimate 5 day travel itinerary. - #costarica #travel #blogging #blog #bucketlist",
         1,
         "22k",
         "https://i.pinimg.com/originals/60/fe/4c/60fe4c3602e8e50e2e9f787ed27d2aba.jpg",
         9936,
         "image",
         "Jess Wandering",
         "Local save in /data/travel",
         "Costa Rica Reisen,Costa Rica Travel,Vacation Places,Dream Vacations,Vacation Spots,Vacation Food,Vacation Ideas,Voyage Dubai,Beautiful Places To Travel",
         "Chasing Waterfalls in Costa Rica",
         "1f3154a6-13f0-4049-8d5c-faea15b9f07c"
        ],
        [
         "quotes",
         "motivation quotes",
         1,
         "45k",
         "https://i.pinimg.com/originals/ee/b4/bc/eeb4bccdb074edb787ea61711e0c4dfd.jpg",
         7768,
         "image",
         "Boss Babe Chronicles | Personal Development, Finances, Self Care",
         "Local save in /data/quotes",
         "Motivacional Quotes,Motivational Quotes For Life,Uplifting Quotes,True Quotes,Words Quotes,Empowering Quotes,Boss Up Quotes,Inspirational Success Quotes,Boss Babe Quotes Work Hard",
         "16 Motivational Quotes Get You Inspired Today - Boss Babe Chronicles",
         "ae1a61f6-d958-40fe-ba93-6a78b3a73178"
        ],
        [
         "beauty",
         "Here’s how to get long-lasting makeup, so you can do your face in the morning and be set for the entire day. Follow these makeup tips for foundation, lipstick and more using pro… ",
         1,
         "3k",
         "https://i.pinimg.com/originals/d9/d1/3b/d9d13b9ac47d54940f05a75345a873d4.jpg",
         1268,
         "image",
         "Tony",
         "Local save in /data/beauty",
         "Beauty Makeup,Eye Makeup,Diy Beauty,Beauty Ideas,Beauty Skin,Homemade Beauty,Wolf Makeup,Oily Skin Makeup,Face Beauty",
         "Janet on Twitter",
         "e2f2cec5-cda5-42b2-ab9d-6dddf863e94e"
        ],
        [
         "finance",
         "Need to organize your finances? Create a filing system that works for you. Learn how to organize your finances and give all your documents a home with",
         1,
         "14k",
         "https://i.pinimg.com/originals/e6/46/a3/e646a3462219ed0f6f752bcad93fd5a5.png",
         5758,
         "image",
         "Esavingsblog",
         "Local save in /data/finance",
         "Ways To Save Money,Money Tips,Money Saving Tips,Managing Money,Money Hacks,Saving Ideas,Finance Bank,Personal Finance,Finance Degree",
         "Robot Challenge Screen",
         "af602075-7bea-4aa0-adf4-a1a89952e92e"
        ],
        [
         "beauty",
         "In the face of a pandemic, economic collapse, and climate change, Instagram photos of shelves crowded with skin-care products appear out of",
         1,
         "20",
         "https://i.pinimg.com/originals/a3/d0/29/a3d029500020cc9c9c44f97c60dbc515.png",
         1198,
         "image",
         "Mccready-romero",
         "Local save in /data/beauty",
         "Care Organization,Bathroom Organisation,Medicine Organization,Beauty Care,Beauty Skin,Elle Ferguson,Shelfie,Makeup Storage,Beauty Room",
         "The End of the Skin-Care Craze",
         "1a90caac-f5df-4a27-821b-0fb4be678542"
        ],
        [
         "art",
         "Mountain monologue watercolor",
         1,
         "27k",
         "https://i.pinimg.com/originals/fd/54/89/fd548935dcb13545120a2115baaa41d9.jpg",
         46,
         "image",
         "It's me, JD | DIY, Crafts, Home & Organization",
         "Local save in /data/art",
         "Arte Inspo,Kunst Inspo,Watercolor Artists,Watercolor Ideas,Simple Watercolor,Tattoo Watercolor,Watercolor Techniques,Watercolor Animals,Watercolor Illustration",
         "10 Watercolor Hacks For Beginners | Tips and Tricks to Making Watercolor Painting Easier",
         "19234073-8905-4885-b0d5-98e0b84cbf27"
        ],
        [
         "finance",
         "How to Get Rid of Cable and Still Watch all of your favorite shows! Saving Money Tips for TV & Cable!",
         1,
         "330k",
         "https://i.pinimg.com/originals/c9/18/be/c918be2784382dc49010719bf1742a61.jpg",
         5309,
         "image",
         "Passion For Savings",
         "Local save in /data/finance",
         "Ways To Save Money,Money Tips,Money Saving Tips,Money Hacks,Managing Money,Cable Tv Alternatives,Budget Planer,Financial Tips,Financial Planning",
         "How to Watch Your Favorite Shows Without Cable",
         "c38bb47b-9584-4fc4-af0d-a31e1061df41"
        ],
        [
         "diy-and-crafts",
         "No description available Story format",
         1,
         "60k",
         "https://i.pinimg.com/videos/thumbnails/originals/39/29/48/392948e8d63ec699260decb0fc9647c1.0000001.jpg",
         3334,
         "multi-video(story page format)",
         "Girl Crafts",
         "Local save in /data/diy-and-crafts",
         "Diy Crafts For Teens,Diy Crafts To Do,Diy Crafts Hacks,Diy Crafts Jewelry,Diy Arts And Crafts,Cute Crafts,Creative Crafts,Easy Crafts,Cute Diy Crafts For Your Room",
         "DIY - GUMBALL MACHINE FROM BOTTLE",
         "35a5460b-412c-4135-8122-e4461866018a"
        ],
        [
         "travel",
         "The best trips to take when you are young!",
         1,
         "89k",
         "https://i.pinimg.com/videos/thumbnails/originals/81/97/c1/8197c1beef8bcb19bea5d8b422211f34.0000001.jpg",
         9546,
         "video",
         "The World Pursuit Travel Website",
         "Local save in /data/travel",
         "Fun Places To Go,Beautiful Places To Travel,Best Places To Travel,Travel Jobs,Holiday Places,Future Travel,Travel Around The World,Adventure Travel,Travel Photos",
         "20 Amazing Trips to Take in Your Twenties!",
         "efd5b2d6-2f69-40cd-bb59-41f18c089e52"
        ],
        [
         "finance",
         "Get your personal finance in order with these 8 fr…",
         1,
         "46k",
         "https://i.pinimg.com/originals/f1/4f/cc/f14fcc75ee73ff22c983bdce70c022e2.jpg",
         5630,
         "image",
         "R.J. Weiss at The Ways To Wealth | Personal Finance | Debt Payoff",
         "Local save in /data/finance",
         "Ways To Save Money,Money Tips,Money Saving Tips,Money Budget,Saving Ideas,Budgeting Finances,Budgeting Tips,Planning Budget,Budget Planer",
         "7 Insanely Useful Money Management Worksheets",
         "d41e703c-c97c-4c5a-9f9c-338982ca7504"
        ],
        [
         "christmas",
         "All I want for Christmas is a beautifully decorated home.",
         1,
         "1M",
         "https://i.pinimg.com/originals/92/65/29/926529446fc63379a274a946aa85f9b8.jpg",
         2048,
         "image",
         "Country Living Magazine",
         "Local save in /data/christmas",
         "Noel Christmas,Winter Christmas,Magical Christmas,Christmas Garlands,Christmas 2019,Christmas Displays,Office Christmas,Christmas Vacation,Christmas Movies",
         "Outdoor Christmas Decorations to Give Your Yard Holiday Cheer",
         "18574885-466a-45b5-acd8-131467643d3c"
        ],
        [
         "tattoos",
         "Koi fish tattoos are a popular choice for men who want to make a statement, thanks to their rich symbolism and bold design.",
         1,
         "211k",
         "https://i.pinimg.com/originals/8a/0c/0a/8a0c0a7b6236565c519acd41ad1a52c0.jpg",
         8731,
         "image",
         "TheTrendSpotter",
         "Local save in /data/tattoos",
         "Dr Tattoo,Wörter Tattoos,Pisces Tattoos,Tatoo Art,Dream Tattoos,Dope Tattoos,Mini Tattoos,Finger Tattoos,Body Art Tattoos",
         "20 Koi Fish Tattoos For Lucky Men",
         "ea760f71-febf-4023-b592-d17396659039"
        ],
        [
         "christmas",
         "You'll feel extra merry during your holiday dinner!",
         1,
         "254",
         "https://i.pinimg.com/originals/1a/e4/e0/1ae4e03602fb20a77cb53e623547d317.png",
         2060,
         "image",
         "Syndi Mulcahy",
         "Local save in /data/christmas",
         "Christmas Place Cards,Christmas Names,Christmas Napkins,Christmas Mantels,Christmas Diy,Christmas Wreaths,Christmas Place Setting,Thanksgiving Place Cards,Christmas Favors",
         "50 DIY Decorations for a Jolly Christmas Table Setting",
         "177dde1a-3409-4865-a533-9f50efaedcd8"
        ],
        [
         "quotes",
         "#lovequotes #matchmaker #matchmadeinheaven #loveyourself #respectyourself",
         1,
         "51k",
         "https://i.pinimg.com/originals/c6/64/ee/c664ee71524fb5a6e7b7b49233f93b43.png",
         8304,
         "image",
         "Commitment Connection",
         "Local save in /data/quotes",
         "Wise Quotes,Quotable Quotes,Words Quotes,Wise Words,Quotes To Live By,Great Quotes,Motivational Quotes,Inspirational Quotes,Funny Quotes",
         "The #1 Reason You’re Not His Priority Anymore - Matthew Coast",
         "5b6d0913-25e4-43ab-839d-85d5516f78a4"
        ],
        [
         "art",
         "No description available Story format",
         1,
         "29k",
         "https://i.pinimg.com/videos/thumbnails/originals/17/49/16/1749164b93866d4eac32a52a3ccfd40a.0000001.jpg",
         223,
         "multi-video(story page format)",
         "Jasminxg",
         "Local save in /data/art",
         "Simple Canvas Paintings,Easy Nature Paintings,Tree Paintings,Cool Paintings,Watercolor Art Lessons,Watercolor Paintings For Beginners,Gouache Painting,Painting Art,Mandala Art Lesson",
         "Easy Gouache painting",
         "8672f996-6ce9-403e-9599-2c4df668f1e0"
        ],
        [
         "diy-and-crafts",
         "Kid's String Art Craft for Every Holiday",
         1,
         "63k",
         "https://i.pinimg.com/originals/bd/86/74/bd867450a3588b0ce1712f83fb5a58a4.jpg",
         3011,
         "image",
         "JDaniel4's Mom",
         "Local save in /data/diy-and-crafts",
         "Kids Crafts,Preschool Crafts,Easter Crafts,Projects For Kids,Craft Projects,Craft Ideas,Paper Plate Crafts For Kids,Preschool Christmas,Christmas Crafts",
         "Kids paper plate string art for every holiday - My Silly Squirts",
         "8d5339e6-ba89-412a-bc61-4d5205fe32f8"
        ],
        [
         "quotes",
         "40 Best Inspirational Quotes To Encourage You To Not Give Up | YourTango",
         1,
         "942k",
         "https://i.pinimg.com/originals/07/eb/16/07eb163de430de579cedf9ed92eba33c.jpg",
         7733,
         "image",
         "YourTango",
         "Local save in /data/quotes",
         "Proud Quotes,Now Quotes,Words Quotes,Life Quotes,Sayings,Leader Quotes,Quotes About Being Proud,Try Again Quotes,Relationship Quotes",
         "40 Pick-Me-Up Quotes For When You Feel Like You're About To Give Up",
         "4345edf6-abc4-4fc6-9230-660280ef149b"
        ],
        [
         "mens-fashion",
         "imgentleboss: “ - More about men’s fashion at @Gentleboss - GB’s Facebook - ”",
         1,
         "940",
         "https://i.pinimg.com/originals/e7/6e/8e/e76e8ed6cc838b84a934c6948a5caff7.jpg",
         7554,
         "image",
         "iElylike ..✿◕‿◕✿ஐ✿◕‿◕✿",
         "Local save in /data/mens-fashion",
         "Mens Fashion Blog,Look Fashion,Autumn Fashion,Fashion News,Fashion Sale,80s Fashion,Paris Fashion,Runway Fashion,Fashion Trends",
         "Craig Style",
         "c6fa12f4-0d4a-4b07-a335-5bf9f37f8281"
        ],
        [
         "quotes",
         "Be Brave Enough to Set the Sun. Motivation Quotes.",
         1,
         "1k",
         "https://i.pinimg.com/originals/d3/41/91/d341916b119a3df2836d2079367f7b20.jpg",
         8366,
         "image",
         "Vinyl Written",
         "Local save in /data/quotes",
         "Quotes Wolf,Motivacional Quotes,Poetry Quotes,Words Quotes,Funny Quotes,Sun Qoutes,Quotes On Sun,More To Life Quotes,Take Me Back Quotes",
         "'Quote - You don't have to be perfect to be amazing' iPhone Case by HelenDesignXO",
         "046e2c32-1061-42d3-8017-1fc93865edb9"
        ],
        [
         "tattoos",
         "Tattoos are one of the most efficient ways through which one decides to express themselves…",
         1,
         "4k",
         "https://i.pinimg.com/originals/ab/8e/50/ab8e505b04d4abc8f23e273c15f8a65d.jpg",
         8887,
         "image",
         "RapidLeaks",
         "Local save in /data/tattoos",
         "Dream Tattoos,Body Art Tattoos,New Tattoos,Small Tattoos,Cross Tattoos,Random Tattoos,Fashion Tattoos,Bird Tattoos,Fitness Tattoos",
         "25 Ultra Sexy Back Tattoo Ideas For Girls",
         "5df9f6e5-07f5-4ce8-a82e-96586bbc05d8"
        ],
        [
         "diy-and-crafts",
         "No description available Story format",
         1,
         "66k",
         "https://i.pinimg.com/videos/thumbnails/originals/b6/ab/28/b6ab28752f2804d71a3993565ba89308.0000001.jpg",
         2637,
         "multi-video(story page format)",
         "El blog amarillo",
         "Local save in /data/diy-and-crafts",
         "Diy Craft Projects,Diy Crafts For Home Decor,Diy And Crafts Sewing,Diy Wall Decor,Creative Crafts,Fun Crafts,Paper Crafts,Sewing Diy,Diy Wall Art",
         "Marco Boho",
         "b18e8d38-eb45-40c0-b443-4fca250df850"
        ],
        [
         "vehicles",
         "No description available Story format",
         1,
         "89k",
         "https://i.pinimg.com/videos/thumbnails/originals/4a/d4/96/4ad4961606179854f1141a90f50f002c.0000001.jpg",
         10509,
         "multi-video(story page format)",
         "TheSuperBOO!",
         "Local save in /data/vehicles",
         "Electric Off Road Vehicle,Cool Illusions,Flying Vehicles,Wow Video,Art And Craft Videos,Top Luxury Cars,Chevy Muscle Cars,Street Racing Cars,Funny Videos Clean",
         "Flying Car",
         "6a5f0e7e-1389-4e54-942f-4cb69f09f140"
        ],
        [
         "mens-fashion",
         "10 guys with great style at the spring 2016 shows.",
         1,
         "874k",
         "https://i.pinimg.com/originals/45/3c/fb/453cfb4859d0b6730422c75f7b8918ec.jpg",
         7510,
         "image",
         "GQ Magazine",
         "Local save in /data/mens-fashion",
         "Nyc Mens Fashion,Fashion Mode,Mens Fashion Suits,New York Fashion,Fashion Fashion,Fashion Check,Paris Fashion,Latex Fashion,Fashion Outlet",
         "See the Most Stylish Men of New York Fashion Week",
         "e09fddda-1cc2-41c8-b799-d238fe90b937"
        ],
        [
         "beauty",
         "Instantly create the look of lash extensions with this award-winning, best-selling mascara that won't clump, flake or smudge. Available in 3 shades!",
         1,
         "43k",
         "https://i.pinimg.com/videos/thumbnails/originals/69/84/e2/6984e20f3e262098fa9c0614c3453254.0000001.jpg",
         1313,
         "video",
         "Thrive Causemetics",
         "Local save in /data/beauty",
         "N,o, ,T,a,g,s, ,A,v,a,i,l,a,b,l,e",
         "Liquid Lash Extensions Mascara",
         "44662045-e891-4821-8a19-ebe7eedd371a"
        ],
        [
         "mens-fashion",
         "Your spring summer wardrobe inspiration..",
         1,
         "613k",
         "https://i.pinimg.com/originals/0e/cf/eb/0ecfeb441e7a3559aa41f11b94cdd6ef.jpg",
         7234,
         "image",
         "Mens Fashion - LIFESTYLE BY PS ",
         "Local save in /data/mens-fashion",
         "Mode Outfits,Casual Outfits,Men Casual,Fashion Outfits,Fashion Clothes,Hijab Casual,Gentleman Mode,Gentleman Style,Mode Masculine",
         "16 Amazing Casual Outfit Grids For Guys",
         "c05f564d-2783-4bec-b205-d3f756276296"
        ],
        [
         "vehicles",
         "Shadow Velar",
         1,
         "9k",
         "https://i.pinimg.com/originals/5d/c8/87/5dc887a26bd47598867f3576cfe1ace7.jpg",
         10673,
         "image",
         "Land Rover USA",
         "Local save in /data/vehicles",
         "Range Rover Negro,Range Rover Preto,Range Rover Schwarz,Range Rover Black,Range Rover Evoque,Range Rover Car,Pink Range Rovers,The New Range Rover,Luxury Sports Cars",
         "Discover the new Range Rover luxury performance SUV",
         "ede73169-5b9f-4906-b02e-9db1bee203a4"
        ],
        [
         "vehicles",
         "1937 Jaguar SS100 - 2 1/2 Litre Roadster, one of the most sought after pre-war sports cars",
         1,
         "8k",
         "https://i.pinimg.com/originals/26/81/a7/2681a71bd0c8f7fd0ab79c455338a49a.jpg",
         10625,
         "image",
         "hobbyDB",
         "Local save in /data/vehicles",
         "Jaguar Type E,Jaguar Xk,Jaguar Cars,Jaguar Roadster,Jaguar Sport,Retro Cars,Vintage Cars,Antique Cars,British Sports Cars",
         "Jaguar Type E",
         "d31885b7-742a-4e2a-bbb7-ac5f9d334340"
        ],
        [
         "event-planning",
         "Fun Book Page Crafts - MomAdvice",
         1,
         "112k",
         "https://i.pinimg.com/originals/17/55/87/175587b334e71c12300453b8b4b4c6aa.jpg",
         4988,
         "image",
         "MomAdvice",
         "Local save in /data/event-planning",
         "Harry Potter Wedding,Harry Potter Theme,Wedding Book,Wedding Table,Wedding Ideas,Wedding Vintage,Garden Wedding,Vintage Party,Wedding Paper",
         "Fun Book Page Crafts - MomAdvice",
         "fbdfd355-a356-46c2-a251-301869ae2674"
        ],
        [
         "travel",
         "Best spots to see for travel through Ireland!",
         1,
         "130k",
         "https://i.pinimg.com/originals/c7/50/d3/c750d36524856873d64406652d69b4fb.png",
         9590,
         "image",
         "Fun Life Crisis",
         "Local save in /data/travel",
         "Vacation Ideas,Vacation Spots,Emerald Isle,London England,Travel Guides,Travel Tips,Travel Hacks,Travel Packing,Places To Travel",
         "Top 20 Things To See And Do In Ireland",
         "b849e976-52f6-45d7-8b25-51559318f167"
        ],
        [
         "diy-and-crafts",
         "Marla Meridith - DIY Pom Pom Letters for MOM!",
         1,
         "671k",
         "https://i.pinimg.com/originals/db/c6/98/dbc69818c531e28ee514aaaec377257d.jpg",
         3201,
         "image",
         "Marla Meridith",
         "Local save in /data/diy-and-crafts",
         "Kids Crafts,Crafts To Make,Craft Projects,Arts And Crafts,Craft Ideas,Pom Pom Crafts,Yarn Crafts,Flower Crafts,Diy Flower",
         "DIY Pom Pom Letters for MOM!",
         "6370f096-f344-49c3-a6b1-3072c537a953"
        ],
        [
         "mens-fashion",
         "billy-george: “Summer styles ”",
         1,
         "377",
         "https://i.pinimg.com/originals/3c/8c/53/3c8c534cd02334c50047bd3a4feccce9.jpg",
         6844,
         "image",
         "Au'vey Smith",
         "Local save in /data/mens-fashion",
         "Fashion Week Hommes,La Fashion Week,Fashion Moda,Urban Fashion,Trendy Fashion,Fashion Spring,Fashion 2017,New Mens Fashion,Trendy Clothing",
         "♔the-fashman♔",
         "69c3f268-274f-44bd-9cb4-427e64fefc44"
        ],
        [
         "beauty",
         "Untitled",
         1,
         "0",
         "https://i.pinimg.com/originals/af/c4/59/afc459bd6e1fd8f9aef212504afebf3a.jpg",
         1014,
         "image",
         "Grecia Perales",
         "Local save in /data/beauty",
         "Hair Inspo,Hair Inspiration,Motivation Inspiration,Cl Rapper,Foto Glamour,Kreative Portraits,Classy Aesthetic,Pretty Hairstyles,Hair Looks",
         "Hairstyles & Beauty",
         "9ac94307-bb27-410e-b554-0a0ab6c19847"
        ],
        [
         "art",
         "No description available",
         1,
         "6k",
         "https://i.pinimg.com/originals/05/ed/11/05ed1128fe3a8784ad68900d310654d6.jpg",
         480,
         "image",
         "Ovetta Jackson",
         "Local save in /data/art",
         "Abstract Portrait,Portrait Art,Arte Black,African Art Paintings,Black Art Painting,Afro Art,Arte Pop,African American Art,Love Art",
         "Abstract Portrait",
         "f5dfee8f-1b62-417d-966c-8cf205418c68"
        ],
        [
         "vehicles",
         "Nissan GT-R. Sick.",
         1,
         "437",
         "https://i.pinimg.com/originals/0d/29/9f/0d299f3df020395aa7ce8387f40fbeed.jpg",
         10794,
         "image",
         "Ray Uyemura",
         "Local save in /data/vehicles",
         "Lowrider,Old Vintage Cars,Antique Cars,Austin Martin,Nissan Gtr Black,Jaguar,1959 Cadillac,Cadillac Ct6,Old School Cars",
         "TireBuyer",
         "c4bd2577-a7bb-4409-bb7a-17d5ed7e1cf1"
        ],
        [
         "beauty",
         "9 colors lazy lipstick",
         1,
         "8k",
         "https://i.pinimg.com/originals/25/cf/8c/25cf8cb74b43ab95591342c2bbe4ecd8.jpg",
         1094,
         "image",
         "Jiew82633",
         "Local save in /data/beauty",
         "Nail Inspo,Lazy,Lipstick,How To Apply,Makeup,Colors,Products,Make Up,Lipsticks",
         "9 colors lazy lipstick - 9 colors lazy lipstick4",
         "6deacdcd-75ed-4dd8-8951-9b77453f38e0"
        ],
        [
         "diy-and-crafts",
         "No description available Story format",
         0,
         "User Info Error",
         "Image src error.",
         3089,
         "multi-video(story page format)",
         "User Info Error",
         "Local save in /data/diy-and-crafts",
         "N,o, ,T,a,g,s, ,A,v,a,i,l,a,b,l,e",
         "No Title Data Available",
         "88f9227e-88d0-4b1c-b0be-bcfc3028b8e2"
        ],
        [
         "mens-fashion",
         "No description available Story format",
         0,
         "User Info Error",
         "Image src error.",
         7528,
         "multi-video(story page format)",
         "User Info Error",
         "Local save in /data/mens-fashion",
         "N,o, ,T,a,g,s, ,A,v,a,i,l,a,b,l,e",
         "No Title Data Available",
         "fbe53c66-3442-4773-b19e-d3ec6f54dddf"
        ]
       ],
       "datasetInfos": [],
       "dbfsResultPath": null,
       "isJsonSchema": true,
       "metadata": {},
       "overflow": false,
       "plotOptions": {
        "customPlotOptions": {},
        "displayType": "table",
        "pivotAggregation": null,
        "pivotColumns": null,
        "xColumns": null,
        "yColumns": null
       },
       "removedWidgets": [],
       "schema": [
        {
         "metadata": "{}",
         "name": "category",
         "type": "\"string\""
        },
        {
         "metadata": "{}",
         "name": "description",
         "type": "\"string\""
        },
        {
         "metadata": "{}",
         "name": "downloaded",
         "type": "\"long\""
        },
        {
         "metadata": "{}",
         "name": "follower_count",
         "type": "\"string\""
        },
        {
         "metadata": "{}",
         "name": "image_src",
         "type": "\"string\""
        },
        {
         "metadata": "{}",
         "name": "index",
         "type": "\"long\""
        },
        {
         "metadata": "{}",
         "name": "is_image_or_video",
         "type": "\"string\""
        },
        {
         "metadata": "{}",
         "name": "poster_name",
         "type": "\"string\""
        },
        {
         "metadata": "{}",
         "name": "save_location",
         "type": "\"string\""
        },
        {
         "metadata": "{}",
         "name": "tag_list",
         "type": "\"string\""
        },
        {
         "metadata": "{}",
         "name": "title",
         "type": "\"string\""
        },
        {
         "metadata": "{}",
         "name": "unique_id",
         "type": "\"string\""
        }
       ],
       "type": "table"
      }
     },
     "output_type": "display_data"
    }
   ],
   "source": [
    "# pyspark functions\n",
    "from pyspark.sql.functions import *\n",
    "# URL processing\n",
    "import urllib\n",
    "\n",
    "# Disable format checks during the reading of Delta tables\n",
    "spark.conf.set(\"spark.databricks.delta.formatCheck.enabled\", \"false\")\n",
    "\n",
    "# File location and type\n",
    "file_location = \"/mnt/pinterest/topics/0eaa2e755d1f.pin/partition=0/*.json\" \n",
    "file_type = \"json\"\n",
    "# Ask Spark to infer the schema\n",
    "infer_schema = \"true\"\n",
    "# Read in JSONs from mounted S3 bucket\n",
    "df_pin = spark.read.format(file_type) \\\n",
    ".option(\"inferSchema\", infer_schema) \\\n",
    ".load(file_location)\n",
    "# Display Spark dataframe to check its content\n",
    "display(df_pin)\n",
    "\n"
   ]
  },
  {
   "cell_type": "code",
   "execution_count": 0,
   "metadata": {
    "application/vnd.databricks.v1+cell": {
     "cellMetadata": {
      "byteLimit": 2048000,
      "rowLimit": 10000
     },
     "inputWidgets": {},
     "nuid": "a8513d84-c772-4b90-928a-4ee4aaecb9d7",
     "showTitle": false,
     "title": ""
    }
   },
   "outputs": [
    {
     "output_type": "display_data",
     "data": {
      "text/html": [
       "<style scoped>\n",
       "  .table-result-container {\n",
       "    max-height: 300px;\n",
       "    overflow: auto;\n",
       "  }\n",
       "  table, th, td {\n",
       "    border: 1px solid black;\n",
       "    border-collapse: collapse;\n",
       "  }\n",
       "  th, td {\n",
       "    padding: 5px;\n",
       "  }\n",
       "  th {\n",
       "    text-align: left;\n",
       "  }\n",
       "</style><div class='table-result-container'><table class='table-result'><thead style='background-color: white'><tr><th>country</th><th>ind</th><th>latitude</th><th>longitude</th><th>timestamp</th></tr></thead><tbody><tr><td>Antarctica (the territory South of 60 deg S)</td><td>2418</td><td>-88.4642</td><td>-171.061</td><td>2022-05-27 11:30:59</td></tr><tr><td>Saint Vincent and the Grenadines</td><td>2301</td><td>13.4683</td><td>51.7244</td><td>2020-11-14 00:25:28</td></tr><tr><td>French Southern Territories</td><td>6014</td><td>-26.6026</td><td>155.206</td><td>2019-04-30 12:33:13</td></tr><tr><td>Cocos (Keeling) Islands</td><td>10794</td><td>-89.5236</td><td>-154.567</td><td>2022-01-01 02:26:50</td></tr><tr><td>Central African Republic</td><td>2074</td><td>-52.3213</td><td>-50.11</td><td>2019-11-03 05:41:59</td></tr><tr><td>British Virgin Islands</td><td>2293</td><td>-87.7946</td><td>-159.647</td><td>2022-03-21 10:46:53</td></tr><tr><td>Saint Kitts and Nevis</td><td>10663</td><td>-27.3474</td><td>-162.83</td><td>2019-07-25 18:53:51</td></tr><tr><td>Sao Tome and Principe</td><td>5293</td><td>-13.1463</td><td>-25.9649</td><td>2019-05-31 20:49:36</td></tr><tr><td>Antigua and Barbuda</td><td>7922</td><td>-88.0974</td><td>-172.052</td><td>2021-01-27 09:14:19</td></tr><tr><td>Antigua and Barbuda</td><td>8606</td><td>-88.0974</td><td>-172.052</td><td>2021-03-28 14:54:07</td></tr><tr><td>Antigua and Barbuda</td><td>2604</td><td>-80.8933</td><td>-104.972</td><td>2018-12-01 09:23:35</td></tr><tr><td>Antigua and Barbuda</td><td>2048</td><td>-89.4008</td><td>-142.186</td><td>2017-11-20 06:33:50</td></tr><tr><td>Netherlands Antilles</td><td>603</td><td>14.0083</td><td>-141.603</td><td>2019-06-25 05:13:01</td></tr><tr><td>Dominican Republic</td><td>9979</td><td>14.9967</td><td>-120.682</td><td>2018-07-18 19:01:46</td></tr><tr><td>Christmas Island</td><td>10119</td><td>-74.5431</td><td>-162.795</td><td>2020-10-22 01:59:58</td></tr><tr><td>Trinidad and Tobago</td><td>2060</td><td>52.4584</td><td>68.6527</td><td>2020-01-25 13:54:17</td></tr><tr><td>Christmas Island</td><td>1704</td><td>-56.8702</td><td>-93.6232</td><td>2018-11-29 04:46:39</td></tr><tr><td>Marshall Islands</td><td>6261</td><td>-10.3101</td><td>-109.763</td><td>2021-11-11 16:18:45</td></tr><tr><td>Christmas Island</td><td>10337</td><td>-42.3069</td><td>-109.17</td><td>2021-10-26 12:09:43</td></tr><tr><td>Pitcairn Islands</td><td>3201</td><td>34.0532</td><td>-68.4946</td><td>2019-06-25 08:31:37</td></tr><tr><td>Papua New Guinea</td><td>7790</td><td>-43.692</td><td>64.9839</td><td>2018-07-31 08:19:15</td></tr><tr><td>American Samoa</td><td>9759</td><td>-77.9744</td><td>-106.258</td><td>2017-12-30 13:05:49</td></tr><tr><td>American Samoa</td><td>1422</td><td>-88.5252</td><td>-172.436</td><td>2018-04-30 08:27:21</td></tr><tr><td>American Samoa</td><td>8312</td><td>-77.9744</td><td>-106.258</td><td>2021-04-25 15:56:29</td></tr><tr><td>American Samoa</td><td>1450</td><td>-88.5252</td><td>-172.436</td><td>2022-01-15 16:04:27</td></tr><tr><td>American Samoa</td><td>9268</td><td>-88.5255</td><td>-161.644</td><td>2020-03-16 23:13:51</td></tr><tr><td>Cote d'Ivoire</td><td>2923</td><td>-84.6302</td><td>-164.507</td><td>2019-09-08 22:53:09</td></tr><tr><td>French Guiana</td><td>8304</td><td>-28.8852</td><td>-164.87</td><td>2019-09-13 04:50:29</td></tr><tr><td>Cote d'Ivoire</td><td>4315</td><td>-45.8508</td><td>66.1003</td><td>2019-12-15 03:51:28</td></tr><tr><td>Guinea-Bissau</td><td>8578</td><td>34.6427</td><td>-161.397</td><td>2018-01-26 19:27:11</td></tr><tr><td>New Caledonia</td><td>6844</td><td>-22.6915</td><td>5.69245</td><td>2021-06-06 21:53:11</td></tr><tr><td>Faroe Islands</td><td>8978</td><td>-2.01499</td><td>3.78198</td><td>2017-12-01 13:26:06</td></tr><tr><td>Afghanistan</td><td>3599</td><td>-88.5478</td><td>-174.971</td><td>2019-03-03 06:13:41</td></tr><tr><td>Azerbaijan</td><td>5069</td><td>-63.0063</td><td>-157.474</td><td>2021-03-20 09:32:44</td></tr><tr><td>Mozambique</td><td>6145</td><td>-65.9079</td><td>-143.845</td><td>2019-12-05 02:09:44</td></tr><tr><td>Philippines</td><td>4508</td><td>69.1858</td><td>-76.0761</td><td>2019-01-04 11:15:27</td></tr><tr><td>Madagascar</td><td>4988</td><td>-32.1879</td><td>-35.2784</td><td>2020-07-11 11:01:12</td></tr><tr><td>Isle of Man</td><td>427</td><td>-66.9418</td><td>-30.0087</td><td>2020-04-22 03:08:50</td></tr><tr><td>Azerbaijan</td><td>5758</td><td>-79.3714</td><td>-145.242</td><td>2018-09-12 15:08:34</td></tr><tr><td>Bangladesh</td><td>428</td><td>-83.4105</td><td>-150.788</td><td>2020-09-27 18:46:41</td></tr><tr><td>Australia</td><td>7343</td><td>-65.4428</td><td>-161.684</td><td>2018-08-06 12:17:07</td></tr><tr><td>Seychelles</td><td>8653</td><td>48.4569</td><td>-139.658</td><td>2022-04-11 18:30:19</td></tr><tr><td>Isle of Man</td><td>5468</td><td>-83.544</td><td>33.9473</td><td>2020-05-16 23:17:50</td></tr><tr><td>Argentina</td><td>8930</td><td>-89.4739</td><td>-176.154</td><td>2021-09-29 13:25:49</td></tr><tr><td>Australia</td><td>7294</td><td>-76.2967</td><td>-136.501</td><td>2018-02-12 08:06:28</td></tr><tr><td>Montserrat</td><td>771</td><td>-29.1712</td><td>-107.111</td><td>2018-06-21 08:42:57</td></tr><tr><td>Mauritania</td><td>4076</td><td>-67.2157</td><td>27.8139</td><td>2019-06-07 20:13:50</td></tr><tr><td>Gibraltar</td><td>10509</td><td>-67.187</td><td>-24.2977</td><td>2019-03-06 12:21:56</td></tr><tr><td>Australia</td><td>9936</td><td>-82.1715</td><td>-147.691</td><td>2018-06-30 22:07:13</td></tr><tr><td>Cape Verde</td><td>6566</td><td>-39.225</td><td>-71.6593</td><td>2020-11-19 10:06:13</td></tr><tr><td>Isle of Man</td><td>223</td><td>1.15509</td><td>-118.397</td><td>2018-12-07 07:30:40</td></tr><tr><td>Argentina</td><td>2858</td><td>-65.1565</td><td>-166.807</td><td>2018-05-03 13:27:09</td></tr><tr><td>Nicaragua</td><td>10673</td><td>37.1991</td><td>-32.1713</td><td>2021-06-30 08:47:01</td></tr><tr><td>Mozambique</td><td>480</td><td>-30.7158</td><td>-167.461</td><td>2019-02-08 03:34:58</td></tr><tr><td>Bulgaria</td><td>5494</td><td>-82.6768</td><td>-129.202</td><td>2021-07-21 02:02:35</td></tr><tr><td>Anguilla</td><td>6063</td><td>-89.1797</td><td>-174.015</td><td>2021-07-20 09:02:47</td></tr><tr><td>Cambodia</td><td>3454</td><td>-0.375174</td><td>49.8106</td><td>2021-07-25 02:20:29</td></tr><tr><td>Jamaica</td><td>10625</td><td>-84.4944</td><td>-81.0613</td><td>2018-07-13 11:51:15</td></tr><tr><td>Barbados</td><td>9875</td><td>-74.3382</td><td>-110.484</td><td>2020-03-20 13:03:18</td></tr><tr><td>Botswana</td><td>8887</td><td>-28.0137</td><td>-160.708</td><td>2021-09-19 05:27:43</td></tr><tr><td>Australia</td><td>4137</td><td>-55.3079</td><td>108.918</td><td>2019-06-23 22:16:34</td></tr><tr><td>Argentina</td><td>1268</td><td>-41.7803</td><td>-177.23</td><td>2019-07-06 04:10:29</td></tr><tr><td>Maldives</td><td>5309</td><td>-89.4194</td><td>-84.2493</td><td>2020-05-04 22:00:32</td></tr><tr><td>Seychelles</td><td>1137</td><td>12.2544</td><td>10.7361</td><td>2020-12-26 00:56:04</td></tr><tr><td>Lithuania</td><td>3716</td><td>32.6648</td><td>-16.0578</td><td>2018-12-31 20:43:42</td></tr><tr><td>Anguilla</td><td>3334</td><td>-89.0609</td><td>-170.904</td><td>2019-09-26 20:13:48</td></tr><tr><td>Albania</td><td>7528</td><td>-89.9787</td><td>-173.293</td><td>2020-08-28 03:52:47</td></tr><tr><td>Armenia</td><td>2863</td><td>-5.34445</td><td>-177.924</td><td>2020-04-27 13:34:16</td></tr><tr><td>Colombia</td><td>5730</td><td>-77.015</td><td>-101.437</td><td>2021-04-19 17:37:03</td></tr><tr><td>Albania</td><td>3089</td><td>-89.9787</td><td>-173.293</td><td>2018-02-28 05:31:29</td></tr><tr><td>Austria</td><td>10138</td><td>-72.142</td><td>-74.3545</td><td>2019-08-03 00:59:29</td></tr><tr><td>Austria</td><td>9546</td><td>-70.0295</td><td>-155.428</td><td>2018-02-10 06:16:40</td></tr><tr><td>Albania</td><td>2411</td><td>-71.6856</td><td>-179.126</td><td>2020-11-15 17:10:07</td></tr><tr><td>Algeria</td><td>9590</td><td>-64.3876</td><td>-174.281</td><td>2019-05-20 19:48:48</td></tr><tr><td>Germany</td><td>5076</td><td>-70.7195</td><td>-91.1935</td><td>2019-05-05 16:22:23</td></tr><tr><td>Barbados</td><td>205</td><td>-75.8378</td><td>-163.945</td><td>2020-07-08 14:10:38</td></tr><tr><td>Armenia</td><td>1094</td><td>-46.7328</td><td>-124.445</td><td>2018-08-19 00:34:20</td></tr><tr><td>Bahrain</td><td>5630</td><td>-19.1403</td><td>-164.987</td><td>2019-05-12 14:43:19</td></tr><tr><td>Albania</td><td>6398</td><td>-3.29267</td><td>-179.726</td><td>2020-01-19 01:49:05</td></tr><tr><td>Afghanistan</td><td>46</td><td>4.21689</td><td>-145.82</td><td>2018-09-15 09:16:57</td></tr><tr><td>Grenada</td><td>10552</td><td>32.7568</td><td>-179.812</td><td>2020-08-24 11:39:32</td></tr><tr><td>Andorra</td><td>1371</td><td>-89.4584</td><td>-134.271</td><td>2018-08-08 04:41:17</td></tr><tr><td>Andorra</td><td>9074</td><td>-84.7363</td><td>-179.087</td><td>2022-04-10 17:06:13</td></tr><tr><td>Finland</td><td>10370</td><td>-81.9798</td><td>-71.932</td><td>2018-07-29 15:53:40</td></tr><tr><td>Algeria</td><td>7234</td><td>-86.4791</td><td>-169.547</td><td>2017-10-21 14:31:02</td></tr><tr><td>Algeria</td><td>7874</td><td>-89.5173</td><td>-179.689</td><td>2022-01-18 08:58:49</td></tr><tr><td>Bahamas</td><td>10245</td><td>-50.1835</td><td>146.776</td><td>2020-03-03 15:39:44</td></tr><tr><td>Austria</td><td>9093</td><td>-87.7764</td><td>-151.645</td><td>2021-07-24 23:07:06</td></tr><tr><td>Djibouti</td><td>2788</td><td>-36.076</td><td>-94.1779</td><td>2019-12-18 03:04:41</td></tr><tr><td>Algeria</td><td>7733</td><td>-89.5173</td><td>-179.689</td><td>2022-09-29 10:45:19</td></tr><tr><td>Comoros</td><td>3750</td><td>-73.8837</td><td>-159.054</td><td>2022-09-03 23:36:08</td></tr><tr><td>Guatemala</td><td>778</td><td>48.2704</td><td>-123.073</td><td>2018-10-19 14:43:39</td></tr><tr><td>Andorra</td><td>7586</td><td>-84.7363</td><td>-179.087</td><td>2021-02-07 22:17:31</td></tr><tr><td>Algeria</td><td>1864</td><td>-72.3958</td><td>-164.414</td><td>2020-04-24 17:08:13</td></tr><tr><td>Maldives</td><td>1313</td><td>77.0447</td><td>61.9119</td><td>2018-06-26 02:39:25</td></tr><tr><td>Angola</td><td>2959</td><td>-68.0095</td><td>-157.227</td><td>2019-08-19 08:22:02</td></tr><tr><td>Armenia</td><td>3156</td><td>-84.738</td><td>-160.795</td><td>2018-01-13 19:33:49</td></tr><tr><td>Armenia</td><td>719</td><td>-38.4062</td><td>-154.323</td><td>2018-10-29 04:05:12</td></tr><tr><td>Bermuda</td><td>2482</td><td>63.4563</td><td>-164.709</td><td>2019-09-13 08:20:13</td></tr><tr><td>Albania</td><td>808</td><td>-71.6856</td><td>-179.126</td><td>2019-01-03 15:43:12</td></tr><tr><td>Anguilla</td><td>1545</td><td>-30.18</td><td>-72.3784</td><td>2022-06-17 05:47:12</td></tr><tr><td>Armenia</td><td>2015</td><td>-17.629</td><td>-177.685</td><td>2018-09-22 13:52:19</td></tr><tr><td>Algeria</td><td>7768</td><td>-88.355</td><td>-96.0131</td><td>2018-05-25 21:34:19</td></tr><tr><td>Turkey</td><td>3729</td><td>-24.4793</td><td>-150.145</td><td>2018-01-17 03:43:38</td></tr><tr><td>Andorra</td><td>159</td><td>-88.0812</td><td>-166.603</td><td>2017-11-20 21:14:56</td></tr><tr><td>Ecuador</td><td>7167</td><td>-55.757</td><td>-157.572</td><td>2019-12-27 20:45:04</td></tr><tr><td>Canada</td><td>9487</td><td>-76.9532</td><td>-113.641</td><td>2018-12-18 11:16:52</td></tr><tr><td>Gibraltar</td><td>327</td><td>62.3674</td><td>100.972</td><td>2022-02-09 03:03:58</td></tr><tr><td>Tanzania</td><td>232</td><td>6.60912</td><td>-173.609</td><td>2019-02-18 03:38:47</td></tr><tr><td>Kuwait</td><td>8366</td><td>-38.5318</td><td>-139.215</td><td>2018-03-28 14:17:11</td></tr><tr><td>Sudan</td><td>7554</td><td>-51.2172</td><td>-77.9768</td><td>2019-03-20 03:15:07</td></tr><tr><td>Aruba</td><td>4913</td><td>-84.3768</td><td>-157.544</td><td>2019-03-08 06:45:39</td></tr><tr><td>Aruba</td><td>7166</td><td>-86.4063</td><td>-136.657</td><td>2022-07-25 03:07:37</td></tr><tr><td>Bhutan</td><td>3419</td><td>7.60293</td><td>-108.979</td><td>2021-12-20 05:01:54</td></tr><tr><td>Algeria</td><td>1555</td><td>-1.7046</td><td>-55.332</td><td>2017-12-24 18:41:23</td></tr><tr><td>Lesotho</td><td>552</td><td>-80.6043</td><td>31.9601</td><td>2022-03-14 05:12:07</td></tr><tr><td>Tunisia</td><td>2637</td><td>3.0033</td><td>-96.4904</td><td>2022-10-15 13:25:51</td></tr><tr><td>Finland</td><td>1198</td><td>6.37207</td><td>-150.73</td><td>2020-01-24 23:42:18</td></tr><tr><td>Aruba</td><td>7510</td><td>-79.9828</td><td>-172.235</td><td>2021-12-21 01:37:25</td></tr><tr><td>Aruba</td><td>1706</td><td>-71.5025</td><td>-179.257</td><td>2017-11-24 23:36:46</td></tr><tr><td>Israel</td><td>7832</td><td>-53.8629</td><td>91.8136</td><td>2022-02-14 13:47:24</td></tr><tr><td>Kuwait</td><td>3011</td><td>-76.4675</td><td>28.8054</td><td>2019-12-17 17:46:18</td></tr><tr><td>Panama</td><td>9475</td><td>-84.1953</td><td>164.362</td><td>2019-03-19 08:26:35</td></tr><tr><td>Aruba</td><td>8731</td><td>-83.104</td><td>-171.302</td><td>2020-07-17 04:39:09</td></tr><tr><td>India</td><td>9672</td><td>79.4658</td><td>-69.4133</td><td>2019-11-03 13:15:52</td></tr><tr><td>Congo</td><td>831</td><td>-43.7816</td><td>-66.1592</td><td>2021-06-23 23:16:10</td></tr><tr><td>Aruba</td><td>3800</td><td>-61.471</td><td>-154.912</td><td>2018-01-27 16:49:07</td></tr><tr><td>Monaco</td><td>772</td><td>25.0708</td><td>-97.1964</td><td>2022-09-22 05:59:55</td></tr><tr><td>Chile</td><td>8300</td><td>-64.5259</td><td>19.7049</td><td>2018-02-14 23:50:10</td></tr><tr><td>Tonga</td><td>1014</td><td>81.1477</td><td>69.3538</td><td>2022-02-03 22:05:34</td></tr><tr><td>Egypt</td><td>2698</td><td>-72.7174</td><td>24.169</td><td>2021-11-24 08:33:51</td></tr></tbody></table></div>"
      ]
     },
     "metadata": {
      "application/vnd.databricks.v1+output": {
       "addedWidgets": {},
       "aggData": [],
       "aggError": "",
       "aggOverflow": false,
       "aggSchema": [],
       "aggSeriesLimitReached": false,
       "aggType": "",
       "arguments": {},
       "columnCustomDisplayInfos": {},
       "data": [
        [
         "Antarctica (the territory South of 60 deg S)",
         2418,
         -88.4642,
         -171.061,
         "2022-05-27 11:30:59"
        ],
        [
         "Saint Vincent and the Grenadines",
         2301,
         13.4683,
         51.7244,
         "2020-11-14 00:25:28"
        ],
        [
         "French Southern Territories",
         6014,
         -26.6026,
         155.206,
         "2019-04-30 12:33:13"
        ],
        [
         "Cocos (Keeling) Islands",
         10794,
         -89.5236,
         -154.567,
         "2022-01-01 02:26:50"
        ],
        [
         "Central African Republic",
         2074,
         -52.3213,
         -50.11,
         "2019-11-03 05:41:59"
        ],
        [
         "British Virgin Islands",
         2293,
         -87.7946,
         -159.647,
         "2022-03-21 10:46:53"
        ],
        [
         "Saint Kitts and Nevis",
         10663,
         -27.3474,
         -162.83,
         "2019-07-25 18:53:51"
        ],
        [
         "Sao Tome and Principe",
         5293,
         -13.1463,
         -25.9649,
         "2019-05-31 20:49:36"
        ],
        [
         "Antigua and Barbuda",
         7922,
         -88.0974,
         -172.052,
         "2021-01-27 09:14:19"
        ],
        [
         "Antigua and Barbuda",
         8606,
         -88.0974,
         -172.052,
         "2021-03-28 14:54:07"
        ],
        [
         "Antigua and Barbuda",
         2604,
         -80.8933,
         -104.972,
         "2018-12-01 09:23:35"
        ],
        [
         "Antigua and Barbuda",
         2048,
         -89.4008,
         -142.186,
         "2017-11-20 06:33:50"
        ],
        [
         "Netherlands Antilles",
         603,
         14.0083,
         -141.603,
         "2019-06-25 05:13:01"
        ],
        [
         "Dominican Republic",
         9979,
         14.9967,
         -120.682,
         "2018-07-18 19:01:46"
        ],
        [
         "Christmas Island",
         10119,
         -74.5431,
         -162.795,
         "2020-10-22 01:59:58"
        ],
        [
         "Trinidad and Tobago",
         2060,
         52.4584,
         68.6527,
         "2020-01-25 13:54:17"
        ],
        [
         "Christmas Island",
         1704,
         -56.8702,
         -93.6232,
         "2018-11-29 04:46:39"
        ],
        [
         "Marshall Islands",
         6261,
         -10.3101,
         -109.763,
         "2021-11-11 16:18:45"
        ],
        [
         "Christmas Island",
         10337,
         -42.3069,
         -109.17,
         "2021-10-26 12:09:43"
        ],
        [
         "Pitcairn Islands",
         3201,
         34.0532,
         -68.4946,
         "2019-06-25 08:31:37"
        ],
        [
         "Papua New Guinea",
         7790,
         -43.692,
         64.9839,
         "2018-07-31 08:19:15"
        ],
        [
         "American Samoa",
         9759,
         -77.9744,
         -106.258,
         "2017-12-30 13:05:49"
        ],
        [
         "American Samoa",
         1422,
         -88.5252,
         -172.436,
         "2018-04-30 08:27:21"
        ],
        [
         "American Samoa",
         8312,
         -77.9744,
         -106.258,
         "2021-04-25 15:56:29"
        ],
        [
         "American Samoa",
         1450,
         -88.5252,
         -172.436,
         "2022-01-15 16:04:27"
        ],
        [
         "American Samoa",
         9268,
         -88.5255,
         -161.644,
         "2020-03-16 23:13:51"
        ],
        [
         "Cote d'Ivoire",
         2923,
         -84.6302,
         -164.507,
         "2019-09-08 22:53:09"
        ],
        [
         "French Guiana",
         8304,
         -28.8852,
         -164.87,
         "2019-09-13 04:50:29"
        ],
        [
         "Cote d'Ivoire",
         4315,
         -45.8508,
         66.1003,
         "2019-12-15 03:51:28"
        ],
        [
         "Guinea-Bissau",
         8578,
         34.6427,
         -161.397,
         "2018-01-26 19:27:11"
        ],
        [
         "New Caledonia",
         6844,
         -22.6915,
         5.69245,
         "2021-06-06 21:53:11"
        ],
        [
         "Faroe Islands",
         8978,
         -2.01499,
         3.78198,
         "2017-12-01 13:26:06"
        ],
        [
         "Afghanistan",
         3599,
         -88.5478,
         -174.971,
         "2019-03-03 06:13:41"
        ],
        [
         "Azerbaijan",
         5069,
         -63.0063,
         -157.474,
         "2021-03-20 09:32:44"
        ],
        [
         "Mozambique",
         6145,
         -65.9079,
         -143.845,
         "2019-12-05 02:09:44"
        ],
        [
         "Philippines",
         4508,
         69.1858,
         -76.0761,
         "2019-01-04 11:15:27"
        ],
        [
         "Madagascar",
         4988,
         -32.1879,
         -35.2784,
         "2020-07-11 11:01:12"
        ],
        [
         "Isle of Man",
         427,
         -66.9418,
         -30.0087,
         "2020-04-22 03:08:50"
        ],
        [
         "Azerbaijan",
         5758,
         -79.3714,
         -145.242,
         "2018-09-12 15:08:34"
        ],
        [
         "Bangladesh",
         428,
         -83.4105,
         -150.788,
         "2020-09-27 18:46:41"
        ],
        [
         "Australia",
         7343,
         -65.4428,
         -161.684,
         "2018-08-06 12:17:07"
        ],
        [
         "Seychelles",
         8653,
         48.4569,
         -139.658,
         "2022-04-11 18:30:19"
        ],
        [
         "Isle of Man",
         5468,
         -83.544,
         33.9473,
         "2020-05-16 23:17:50"
        ],
        [
         "Argentina",
         8930,
         -89.4739,
         -176.154,
         "2021-09-29 13:25:49"
        ],
        [
         "Australia",
         7294,
         -76.2967,
         -136.501,
         "2018-02-12 08:06:28"
        ],
        [
         "Montserrat",
         771,
         -29.1712,
         -107.111,
         "2018-06-21 08:42:57"
        ],
        [
         "Mauritania",
         4076,
         -67.2157,
         27.8139,
         "2019-06-07 20:13:50"
        ],
        [
         "Gibraltar",
         10509,
         -67.187,
         -24.2977,
         "2019-03-06 12:21:56"
        ],
        [
         "Australia",
         9936,
         -82.1715,
         -147.691,
         "2018-06-30 22:07:13"
        ],
        [
         "Cape Verde",
         6566,
         -39.225,
         -71.6593,
         "2020-11-19 10:06:13"
        ],
        [
         "Isle of Man",
         223,
         1.15509,
         -118.397,
         "2018-12-07 07:30:40"
        ],
        [
         "Argentina",
         2858,
         -65.1565,
         -166.807,
         "2018-05-03 13:27:09"
        ],
        [
         "Nicaragua",
         10673,
         37.1991,
         -32.1713,
         "2021-06-30 08:47:01"
        ],
        [
         "Mozambique",
         480,
         -30.7158,
         -167.461,
         "2019-02-08 03:34:58"
        ],
        [
         "Bulgaria",
         5494,
         -82.6768,
         -129.202,
         "2021-07-21 02:02:35"
        ],
        [
         "Anguilla",
         6063,
         -89.1797,
         -174.015,
         "2021-07-20 09:02:47"
        ],
        [
         "Cambodia",
         3454,
         -0.375174,
         49.8106,
         "2021-07-25 02:20:29"
        ],
        [
         "Jamaica",
         10625,
         -84.4944,
         -81.0613,
         "2018-07-13 11:51:15"
        ],
        [
         "Barbados",
         9875,
         -74.3382,
         -110.484,
         "2020-03-20 13:03:18"
        ],
        [
         "Botswana",
         8887,
         -28.0137,
         -160.708,
         "2021-09-19 05:27:43"
        ],
        [
         "Australia",
         4137,
         -55.3079,
         108.918,
         "2019-06-23 22:16:34"
        ],
        [
         "Argentina",
         1268,
         -41.7803,
         -177.23,
         "2019-07-06 04:10:29"
        ],
        [
         "Maldives",
         5309,
         -89.4194,
         -84.2493,
         "2020-05-04 22:00:32"
        ],
        [
         "Seychelles",
         1137,
         12.2544,
         10.7361,
         "2020-12-26 00:56:04"
        ],
        [
         "Lithuania",
         3716,
         32.6648,
         -16.0578,
         "2018-12-31 20:43:42"
        ],
        [
         "Anguilla",
         3334,
         -89.0609,
         -170.904,
         "2019-09-26 20:13:48"
        ],
        [
         "Albania",
         7528,
         -89.9787,
         -173.293,
         "2020-08-28 03:52:47"
        ],
        [
         "Armenia",
         2863,
         -5.34445,
         -177.924,
         "2020-04-27 13:34:16"
        ],
        [
         "Colombia",
         5730,
         -77.015,
         -101.437,
         "2021-04-19 17:37:03"
        ],
        [
         "Albania",
         3089,
         -89.9787,
         -173.293,
         "2018-02-28 05:31:29"
        ],
        [
         "Austria",
         10138,
         -72.142,
         -74.3545,
         "2019-08-03 00:59:29"
        ],
        [
         "Austria",
         9546,
         -70.0295,
         -155.428,
         "2018-02-10 06:16:40"
        ],
        [
         "Albania",
         2411,
         -71.6856,
         -179.126,
         "2020-11-15 17:10:07"
        ],
        [
         "Algeria",
         9590,
         -64.3876,
         -174.281,
         "2019-05-20 19:48:48"
        ],
        [
         "Germany",
         5076,
         -70.7195,
         -91.1935,
         "2019-05-05 16:22:23"
        ],
        [
         "Barbados",
         205,
         -75.8378,
         -163.945,
         "2020-07-08 14:10:38"
        ],
        [
         "Armenia",
         1094,
         -46.7328,
         -124.445,
         "2018-08-19 00:34:20"
        ],
        [
         "Bahrain",
         5630,
         -19.1403,
         -164.987,
         "2019-05-12 14:43:19"
        ],
        [
         "Albania",
         6398,
         -3.29267,
         -179.726,
         "2020-01-19 01:49:05"
        ],
        [
         "Afghanistan",
         46,
         4.21689,
         -145.82,
         "2018-09-15 09:16:57"
        ],
        [
         "Grenada",
         10552,
         32.7568,
         -179.812,
         "2020-08-24 11:39:32"
        ],
        [
         "Andorra",
         1371,
         -89.4584,
         -134.271,
         "2018-08-08 04:41:17"
        ],
        [
         "Andorra",
         9074,
         -84.7363,
         -179.087,
         "2022-04-10 17:06:13"
        ],
        [
         "Finland",
         10370,
         -81.9798,
         -71.932,
         "2018-07-29 15:53:40"
        ],
        [
         "Algeria",
         7234,
         -86.4791,
         -169.547,
         "2017-10-21 14:31:02"
        ],
        [
         "Algeria",
         7874,
         -89.5173,
         -179.689,
         "2022-01-18 08:58:49"
        ],
        [
         "Bahamas",
         10245,
         -50.1835,
         146.776,
         "2020-03-03 15:39:44"
        ],
        [
         "Austria",
         9093,
         -87.7764,
         -151.645,
         "2021-07-24 23:07:06"
        ],
        [
         "Djibouti",
         2788,
         -36.076,
         -94.1779,
         "2019-12-18 03:04:41"
        ],
        [
         "Algeria",
         7733,
         -89.5173,
         -179.689,
         "2022-09-29 10:45:19"
        ],
        [
         "Comoros",
         3750,
         -73.8837,
         -159.054,
         "2022-09-03 23:36:08"
        ],
        [
         "Guatemala",
         778,
         48.2704,
         -123.073,
         "2018-10-19 14:43:39"
        ],
        [
         "Andorra",
         7586,
         -84.7363,
         -179.087,
         "2021-02-07 22:17:31"
        ],
        [
         "Algeria",
         1864,
         -72.3958,
         -164.414,
         "2020-04-24 17:08:13"
        ],
        [
         "Maldives",
         1313,
         77.0447,
         61.9119,
         "2018-06-26 02:39:25"
        ],
        [
         "Angola",
         2959,
         -68.0095,
         -157.227,
         "2019-08-19 08:22:02"
        ],
        [
         "Armenia",
         3156,
         -84.738,
         -160.795,
         "2018-01-13 19:33:49"
        ],
        [
         "Armenia",
         719,
         -38.4062,
         -154.323,
         "2018-10-29 04:05:12"
        ],
        [
         "Bermuda",
         2482,
         63.4563,
         -164.709,
         "2019-09-13 08:20:13"
        ],
        [
         "Albania",
         808,
         -71.6856,
         -179.126,
         "2019-01-03 15:43:12"
        ],
        [
         "Anguilla",
         1545,
         -30.18,
         -72.3784,
         "2022-06-17 05:47:12"
        ],
        [
         "Armenia",
         2015,
         -17.629,
         -177.685,
         "2018-09-22 13:52:19"
        ],
        [
         "Algeria",
         7768,
         -88.355,
         -96.0131,
         "2018-05-25 21:34:19"
        ],
        [
         "Turkey",
         3729,
         -24.4793,
         -150.145,
         "2018-01-17 03:43:38"
        ],
        [
         "Andorra",
         159,
         -88.0812,
         -166.603,
         "2017-11-20 21:14:56"
        ],
        [
         "Ecuador",
         7167,
         -55.757,
         -157.572,
         "2019-12-27 20:45:04"
        ],
        [
         "Canada",
         9487,
         -76.9532,
         -113.641,
         "2018-12-18 11:16:52"
        ],
        [
         "Gibraltar",
         327,
         62.3674,
         100.972,
         "2022-02-09 03:03:58"
        ],
        [
         "Tanzania",
         232,
         6.60912,
         -173.609,
         "2019-02-18 03:38:47"
        ],
        [
         "Kuwait",
         8366,
         -38.5318,
         -139.215,
         "2018-03-28 14:17:11"
        ],
        [
         "Sudan",
         7554,
         -51.2172,
         -77.9768,
         "2019-03-20 03:15:07"
        ],
        [
         "Aruba",
         4913,
         -84.3768,
         -157.544,
         "2019-03-08 06:45:39"
        ],
        [
         "Aruba",
         7166,
         -86.4063,
         -136.657,
         "2022-07-25 03:07:37"
        ],
        [
         "Bhutan",
         3419,
         7.60293,
         -108.979,
         "2021-12-20 05:01:54"
        ],
        [
         "Algeria",
         1555,
         -1.7046,
         -55.332,
         "2017-12-24 18:41:23"
        ],
        [
         "Lesotho",
         552,
         -80.6043,
         31.9601,
         "2022-03-14 05:12:07"
        ],
        [
         "Tunisia",
         2637,
         3.0033,
         -96.4904,
         "2022-10-15 13:25:51"
        ],
        [
         "Finland",
         1198,
         6.37207,
         -150.73,
         "2020-01-24 23:42:18"
        ],
        [
         "Aruba",
         7510,
         -79.9828,
         -172.235,
         "2021-12-21 01:37:25"
        ],
        [
         "Aruba",
         1706,
         -71.5025,
         -179.257,
         "2017-11-24 23:36:46"
        ],
        [
         "Israel",
         7832,
         -53.8629,
         91.8136,
         "2022-02-14 13:47:24"
        ],
        [
         "Kuwait",
         3011,
         -76.4675,
         28.8054,
         "2019-12-17 17:46:18"
        ],
        [
         "Panama",
         9475,
         -84.1953,
         164.362,
         "2019-03-19 08:26:35"
        ],
        [
         "Aruba",
         8731,
         -83.104,
         -171.302,
         "2020-07-17 04:39:09"
        ],
        [
         "India",
         9672,
         79.4658,
         -69.4133,
         "2019-11-03 13:15:52"
        ],
        [
         "Congo",
         831,
         -43.7816,
         -66.1592,
         "2021-06-23 23:16:10"
        ],
        [
         "Aruba",
         3800,
         -61.471,
         -154.912,
         "2018-01-27 16:49:07"
        ],
        [
         "Monaco",
         772,
         25.0708,
         -97.1964,
         "2022-09-22 05:59:55"
        ],
        [
         "Chile",
         8300,
         -64.5259,
         19.7049,
         "2018-02-14 23:50:10"
        ],
        [
         "Tonga",
         1014,
         81.1477,
         69.3538,
         "2022-02-03 22:05:34"
        ],
        [
         "Egypt",
         2698,
         -72.7174,
         24.169,
         "2021-11-24 08:33:51"
        ]
       ],
       "datasetInfos": [],
       "dbfsResultPath": null,
       "isJsonSchema": true,
       "metadata": {},
       "overflow": false,
       "plotOptions": {
        "customPlotOptions": {},
        "displayType": "table",
        "pivotAggregation": null,
        "pivotColumns": null,
        "xColumns": null,
        "yColumns": null
       },
       "removedWidgets": [],
       "schema": [
        {
         "metadata": "{}",
         "name": "country",
         "type": "\"string\""
        },
        {
         "metadata": "{}",
         "name": "ind",
         "type": "\"long\""
        },
        {
         "metadata": "{}",
         "name": "latitude",
         "type": "\"double\""
        },
        {
         "metadata": "{}",
         "name": "longitude",
         "type": "\"double\""
        },
        {
         "metadata": "{}",
         "name": "timestamp",
         "type": "\"string\""
        }
       ],
       "type": "table"
      }
     },
     "output_type": "display_data"
    }
   ],
   "source": [
    "# pyspark functions\n",
    "from pyspark.sql.functions import *\n",
    "# URL processing\n",
    "import urllib\n",
    "\n",
    "# Disable format checks during the reading of Delta tables\n",
    "spark.conf.set(\"spark.databricks.delta.formatCheck.enabled\", \"false\")\n",
    "\n",
    "# File location and type\n",
    "file_location = \"/mnt/pinterest/topics/0eaa2e755d1f.geo/partition=0/*.json\" \n",
    "file_type = \"json\"\n",
    "# Ask Spark to infer the schema\n",
    "infer_schema = \"true\"\n",
    "# Read in JSONs from mounted S3 bucket\n",
    "df_geo = spark.read.format(file_type) \\\n",
    ".option(\"inferSchema\", infer_schema) \\\n",
    ".load(file_location)\n",
    "# Display Spark dataframe to check its content\n",
    "display(df_geo)"
   ]
  },
  {
   "cell_type": "code",
   "execution_count": 0,
   "metadata": {
    "application/vnd.databricks.v1+cell": {
     "cellMetadata": {
      "byteLimit": 2048000,
      "rowLimit": 10000
     },
     "inputWidgets": {},
     "nuid": "b7a2ab42-36de-40fb-a5f9-a0866cec7d56",
     "showTitle": false,
     "title": ""
    }
   },
   "outputs": [
    {
     "output_type": "display_data",
     "data": {
      "text/html": [
       "<style scoped>\n",
       "  .table-result-container {\n",
       "    max-height: 300px;\n",
       "    overflow: auto;\n",
       "  }\n",
       "  table, th, td {\n",
       "    border: 1px solid black;\n",
       "    border-collapse: collapse;\n",
       "  }\n",
       "  th, td {\n",
       "    padding: 5px;\n",
       "  }\n",
       "  th {\n",
       "    text-align: left;\n",
       "  }\n",
       "</style><div class='table-result-container'><table class='table-result'><thead style='background-color: white'><tr><th>age</th><th>date_joined</th><th>first_name</th><th>ind</th><th>last_name</th></tr></thead><tbody><tr><td>27</td><td>2016-03-08 13:38:37</td><td>Christopher</td><td>2015</td><td>Bradshaw</td></tr><tr><td>59</td><td>2017-05-12 21:22:17</td><td>Alexander</td><td>10673</td><td>Cervantes</td></tr><tr><td>39</td><td>2016-06-29 20:43:59</td><td>Christina</td><td>6398</td><td>Davenport</td></tr><tr><td>20</td><td>2015-10-23 04:13:23</td><td>Alexandria</td><td>3599</td><td>Alvarado</td></tr><tr><td>20</td><td>2015-12-01 15:08:31</td><td>Christopher</td><td>5076</td><td>Butler</td></tr><tr><td>39</td><td>2017-07-19 07:12:04</td><td>Michelle</td><td>7790</td><td>Gutierrez</td></tr><tr><td>49</td><td>2016-04-22 20:36:02</td><td>Brittany</td><td>10509</td><td>Thompson</td></tr><tr><td>43</td><td>2016-07-21 15:25:08</td><td>Chelsea</td><td>10119</td><td>Gonzalez</td></tr><tr><td>21</td><td>2017-01-02 03:01:09</td><td>Catherine</td><td>3716</td><td>Ferrell</td></tr><tr><td>21</td><td>2015-11-10 09:27:42</td><td>Andrea</td><td>8731</td><td>Alexander</td></tr><tr><td>24</td><td>2016-03-31 20:56:39</td><td>Austin</td><td>8887</td><td>Rodriguez</td></tr><tr><td>23</td><td>2015-12-01 18:15:02</td><td>Christine</td><td>7768</td><td>Cortez</td></tr><tr><td>20</td><td>2015-10-30 11:37:32</td><td>Alexander</td><td>9268</td><td>Bailey</td></tr><tr><td>20</td><td>2017-03-10 19:53:44</td><td>Justin</td><td>3011</td><td>Singleton</td></tr><tr><td>36</td><td>2015-12-20 16:38:13</td><td>Michelle</td><td>4315</td><td>Prince</td></tr><tr><td>32</td><td>2017-10-10 20:09:33</td><td>Christian</td><td>10625</td><td>Lang</td></tr><tr><td>22</td><td>2016-02-11 20:46:04</td><td>Jennifer</td><td>9672</td><td>Hudson</td></tr><tr><td>23</td><td>2015-11-28 11:52:37</td><td>Andrew</td><td>8930</td><td>Anderson</td></tr><tr><td>31</td><td>2017-08-04 14:30:22</td><td>Alexander</td><td>6566</td><td>Perez</td></tr><tr><td>52</td><td>2016-02-07 20:00:25</td><td>Richard</td><td>3729</td><td>Edwards</td></tr><tr><td>40</td><td>2017-05-16 07:09:21</td><td>Michael</td><td>10552</td><td>Hunter</td></tr><tr><td>21</td><td>2015-10-25 07:36:08</td><td>Aaron</td><td>9074</td><td>Alexander</td></tr><tr><td>28</td><td>2016-01-29 20:32:05</td><td>Elizabeth</td><td>3201</td><td>Terry</td></tr><tr><td>40</td><td>2017-01-12 08:37:12</td><td>Timothy</td><td>480</td><td>Sullivan</td></tr><tr><td>21</td><td>2015-10-25 07:36:08</td><td>Aaron</td><td>7586</td><td>Alexander</td></tr><tr><td>32</td><td>2015-10-28 15:48:24</td><td>Alexander</td><td>1864</td><td>Adams</td></tr><tr><td>32</td><td>2016-04-02 03:51:23</td><td>Brittany</td><td>1313</td><td>Jones</td></tr><tr><td>34</td><td>2016-12-22 00:02:02</td><td>Thomas</td><td>10794</td><td>Turner</td></tr><tr><td>20</td><td>2016-01-07 19:49:22</td><td>David</td><td>2959</td><td>Griffith</td></tr><tr><td>26</td><td>2015-12-20 10:28:00</td><td>Brendan</td><td>9875</td><td>Joseph</td></tr><tr><td>21</td><td>2016-01-03 15:42:12</td><td>Annette</td><td>2074</td><td>Forbes</td></tr><tr><td>56</td><td>2016-10-15 17:21:39</td><td>Gregory</td><td>1014</td><td>Ramsey</td></tr><tr><td>59</td><td>2017-06-29 22:35:17</td><td>Michael</td><td>4137</td><td>Decker</td></tr><tr><td>21</td><td>2015-11-24 02:15:36</td><td>Aaron</td><td>2411</td><td>Bartlett</td></tr><tr><td>58</td><td>2016-06-03 23:35:30</td><td>Michael</td><td>4508</td><td>Carter</td></tr><tr><td>32</td><td>2016-03-10 04:11:31</td><td>Brittany</td><td>771</td><td>Butler</td></tr><tr><td>46</td><td>2015-11-27 23:11:21</td><td>Jonathan</td><td>1545</td><td>Avila</td></tr><tr><td>44</td><td>2016-10-29 02:07:21</td><td>Brandon</td><td>603</td><td>Jackson</td></tr><tr><td>22</td><td>2016-02-09 17:01:38</td><td>Carlos</td><td>5630</td><td>Estrada</td></tr><tr><td>32</td><td>2016-06-08 22:10:13</td><td>Donna</td><td>1268</td><td>Campbell</td></tr><tr><td>54</td><td>2016-05-15 04:22:01</td><td>Alexis</td><td>1555</td><td>Bennett</td></tr><tr><td>20</td><td>2015-12-17 08:43:40</td><td>Adam</td><td>3800</td><td>Armstrong</td></tr><tr><td>43</td><td>2016-03-22 15:45:21</td><td>Jesus</td><td>2788</td><td>Arellano</td></tr><tr><td>51</td><td>2017-08-14 08:26:30</td><td>Nathan</td><td>8300</td><td>Stanton</td></tr><tr><td>46</td><td>2016-09-11 22:32:50</td><td>Carrie</td><td>10337</td><td>Parker</td></tr><tr><td>39</td><td>2016-06-30 02:56:06</td><td>Samuel</td><td>7832</td><td>Hawkins</td></tr><tr><td>31</td><td>2016-02-06 10:22:53</td><td>Christine</td><td>778</td><td>Adams</td></tr><tr><td>25</td><td>2015-12-28 04:21:39</td><td>Charles</td><td>8304</td><td>Berry</td></tr><tr><td>23</td><td>2015-11-25 13:36:22</td><td>Corey</td><td>6063</td><td>Andrews</td></tr><tr><td>48</td><td>2017-09-26 16:31:56</td><td>Robert</td><td>3454</td><td>Murphy</td></tr><tr><td>20</td><td>2017-04-11 16:35:33</td><td>Cheryl</td><td>7554</td><td>Huerta</td></tr><tr><td>30</td><td>2015-12-25 20:24:37</td><td>Emily</td><td>6145</td><td>Hawkins</td></tr><tr><td>31</td><td>2016-11-09 19:50:51</td><td>Kaylee</td><td>9979</td><td>Miller</td></tr><tr><td>24</td><td>2015-11-20 05:37:11</td><td>Angela</td><td>4913</td><td>Brooks</td></tr><tr><td>25</td><td>2015-11-19 21:24:33</td><td>Daniel</td><td>9759</td><td>Brooks</td></tr><tr><td>20</td><td>2016-12-31 00:06:36</td><td>Dawn</td><td>7294</td><td>Anderson</td></tr><tr><td>21</td><td>2015-11-24 02:15:36</td><td>Aaron</td><td>808</td><td>Bartlett</td></tr><tr><td>28</td><td>2016-11-15 10:40:03</td><td>Anthony</td><td>9936</td><td>Cantu</td></tr><tr><td>30</td><td>2016-07-03 10:59:40</td><td>Peter</td><td>6844</td><td>Roberts</td></tr><tr><td>47</td><td>2017-04-26 03:26:23</td><td>Aaron</td><td>3419</td><td>Jenkins</td></tr><tr><td>25</td><td>2017-07-20 05:51:23</td><td>Rhonda</td><td>4988</td><td>Durham</td></tr><tr><td>20</td><td>2017-01-17 01:49:27</td><td>Regina</td><td>552</td><td>Morales</td></tr><tr><td>25</td><td>2015-11-19 21:24:33</td><td>Daniel</td><td>8312</td><td>Brooks</td></tr><tr><td>38</td><td>2015-10-26 09:45:45</td><td>Nicholas</td><td>6261</td><td>Hart</td></tr><tr><td>20</td><td>2015-10-26 23:04:52</td><td>Amanda</td><td>5758</td><td>Arnold</td></tr><tr><td>38</td><td>2017-05-03 03:08:33</td><td>Virginia</td><td>1137</td><td>Vega</td></tr><tr><td>31</td><td>2016-01-21 12:53:34</td><td>Karina</td><td>2301</td><td>Morton</td></tr><tr><td>33</td><td>2017-04-19 08:49:40</td><td>Sarah</td><td>232</td><td>Buchanan</td></tr><tr><td>40</td><td>2016-01-03 12:03:05</td><td>Jessica</td><td>9475</td><td>Mejia</td></tr><tr><td>32</td><td>2016-10-23 14:06:51</td><td>Dylan</td><td>2863</td><td>Holmes</td></tr><tr><td>36</td><td>2015-12-08 20:02:43</td><td>Rachel</td><td>5730</td><td>Davis</td></tr><tr><td>26</td><td>2015-11-11 03:20:57</td><td>Brian</td><td>2923</td><td>Nelson</td></tr><tr><td>20</td><td>2015-10-21 08:27:36</td><td>Amanda</td><td>2418</td><td>Adams</td></tr><tr><td>22</td><td>2015-12-21 08:06:54</td><td>Andrew</td><td>3156</td><td>Baker</td></tr><tr><td>20</td><td>2015-11-28 02:20:29</td><td>Claudia</td><td>428</td><td>Adams</td></tr><tr><td>24</td><td>2016-01-11 12:03:48</td><td>Anne</td><td>7343</td><td>Clayton</td></tr><tr><td>22</td><td>2015-12-31 14:57:02</td><td>Carol</td><td>10138</td><td>Silva</td></tr><tr><td>21</td><td>2015-11-12 06:21:36</td><td>Denise</td><td>7922</td><td>Adams</td></tr><tr><td>22</td><td>2015-10-24 18:56:30</td><td>Amanda</td><td>9590</td><td>Allen</td></tr><tr><td>44</td><td>2017-06-21 19:53:27</td><td>Kayla</td><td>2698</td><td>Burton</td></tr><tr><td>28</td><td>2016-06-16 02:06:38</td><td>Aimee</td><td>831</td><td>Collins</td></tr><tr><td>21</td><td>2015-11-12 06:21:36</td><td>Denise</td><td>8606</td><td>Adams</td></tr><tr><td>20</td><td>2015-10-23 22:47:39</td><td>Larry</td><td>4076</td><td>Pineda</td></tr><tr><td>20</td><td>2015-10-31 18:51:07</td><td>Aaron</td><td>1422</td><td>Abbott</td></tr><tr><td>20</td><td>2015-11-12 03:23:49</td><td>Amanda</td><td>1371</td><td>Brown</td></tr><tr><td>30</td><td>2016-02-21 12:54:01</td><td>Ashley</td><td>2604</td><td>Evans</td></tr><tr><td>59</td><td>2016-12-17 11:10:48</td><td>Ariana</td><td>1198</td><td>Gross</td></tr><tr><td>30</td><td>2016-12-21 13:39:14</td><td>Derrick</td><td>10370</td><td>Kim</td></tr><tr><td>20</td><td>2016-08-26 16:09:52</td><td>Dawn</td><td>7167</td><td>Bradley</td></tr><tr><td>25</td><td>2016-04-27 02:59:27</td><td>Glenn</td><td>772</td><td>Hammond</td></tr><tr><td>20</td><td>2016-07-27 06:20:48</td><td>Debra</td><td>7510</td><td>Becker</td></tr><tr><td>20</td><td>2015-10-26 04:12:32</td><td>Angela</td><td>7234</td><td>Allen</td></tr><tr><td>20</td><td>2015-10-23 16:08:41</td><td>Aaron</td><td>7874</td><td>Abbott</td></tr><tr><td>20</td><td>2015-10-31 18:51:07</td><td>Aaron</td><td>1450</td><td>Abbott</td></tr><tr><td>21</td><td>2015-11-05 22:07:56</td><td>Albert</td><td>9093</td><td>Adams</td></tr><tr><td>36</td><td>2016-06-03 23:53:50</td><td>David</td><td>5293</td><td>Taylor</td></tr><tr><td>20</td><td>2015-10-23 16:08:41</td><td>Aaron</td><td>7733</td><td>Abbott</td></tr><tr><td>56</td><td>2016-02-04 23:27:36</td><td>Justin</td><td>8366</td><td>Ewing</td></tr><tr><td>20</td><td>2015-10-24 11:23:51</td><td>Abigail</td><td>7528</td><td>Ali</td></tr><tr><td>25</td><td>2016-01-13 17:36:30</td><td>Amanda</td><td>5069</td><td>Ball</td></tr><tr><td>20</td><td>2015-10-24 11:23:51</td><td>Abigail</td><td>3089</td><td>Ali</td></tr><tr><td>24</td><td>2016-03-09 10:48:14</td><td>Tammy</td><td>8653</td><td>Davis</td></tr><tr><td>20</td><td>2016-01-01 13:50:40</td><td>Alvin</td><td>7166</td><td>Adams</td></tr><tr><td>20</td><td>2016-02-27 21:13:44</td><td>Alex</td><td>9546</td><td>Barnes</td></tr><tr><td>20</td><td>2016-07-23 20:51:06</td><td>Lisa</td><td>5468</td><td>Gamble</td></tr><tr><td>20</td><td>2015-10-23 12:40:19</td><td>Brett</td><td>205</td><td>Bryant</td></tr><tr><td>20</td><td>2016-01-26 01:49:23</td><td>Alicia</td><td>719</td><td>Avila</td></tr><tr><td>20</td><td>2016-07-02 02:32:30</td><td>Ann</td><td>1094</td><td>Elliott</td></tr><tr><td>51</td><td>2016-10-09 14:47:51</td><td>Melanie</td><td>223</td><td>Hill</td></tr><tr><td>32</td><td>2016-08-23 20:36:12</td><td>Shawn</td><td>2637</td><td>Jones</td></tr><tr><td>27</td><td>2016-12-18 10:11:23</td><td>Joshua</td><td>2060</td><td>Long</td></tr><tr><td>21</td><td>2016-01-10 09:41:14</td><td>Jose</td><td>9487</td><td>Bailey</td></tr><tr><td>34</td><td>2016-05-08 16:27:01</td><td>Julie</td><td>10245</td><td>Cook</td></tr><tr><td>28</td><td>2015-11-26 11:23:50</td><td>Gary</td><td>3750</td><td>Barker</td></tr><tr><td>23</td><td>2016-01-06 12:22:08</td><td>Amber</td><td>3334</td><td>Casey</td></tr><tr><td>27</td><td>2015-12-16 15:20:05</td><td>Anne</td><td>5494</td><td>Allen</td></tr><tr><td>23</td><td>2016-06-23 14:38:00</td><td>Julie</td><td>10663</td><td>Cox</td></tr><tr><td>20</td><td>2015-10-28 05:00:33</td><td>Barry</td><td>1704</td><td>Lynn</td></tr><tr><td>22</td><td>2016-03-01 07:11:48</td><td>David</td><td>2482</td><td>Moss</td></tr><tr><td>21</td><td>2016-01-07 08:11:35</td><td>Alison</td><td>159</td><td>Bell</td></tr><tr><td>31</td><td>2016-03-07 01:01:24</td><td>Daniel</td><td>5309</td><td>Roy</td></tr><tr><td>39</td><td>2015-12-04 03:15:28</td><td>Jill</td><td>327</td><td>Taylor</td></tr><tr><td>34</td><td>2017-08-22 00:01:29</td><td>Mark</td><td>8978</td><td>Jones</td></tr><tr><td>24</td><td>2016-01-11 23:08:27</td><td>Alex</td><td>2293</td><td>Bean</td></tr><tr><td>30</td><td>2016-01-06 09:58:56</td><td>Erik</td><td>46</td><td>Kelley</td></tr><tr><td>21</td><td>2015-12-27 23:43:42</td><td>Anne</td><td>2858</td><td>Bond</td></tr><tr><td>20</td><td>2015-10-24 05:05:28</td><td>Amy</td><td>1706</td><td>Adams</td></tr><tr><td>22</td><td>2015-11-18 23:11:15</td><td>Ann</td><td>2048</td><td>Chung</td></tr><tr><td>48</td><td>2017-06-01 23:13:27</td><td>Joe</td><td>8578</td><td>Pham</td></tr><tr><td>25</td><td>2015-11-26 17:42:37</td><td>Jon</td><td>427</td><td>Burke</td></tr></tbody></table></div>"
      ]
     },
     "metadata": {
      "application/vnd.databricks.v1+output": {
       "addedWidgets": {},
       "aggData": [],
       "aggError": "",
       "aggOverflow": false,
       "aggSchema": [],
       "aggSeriesLimitReached": false,
       "aggType": "",
       "arguments": {},
       "columnCustomDisplayInfos": {},
       "data": [
        [
         27,
         "2016-03-08 13:38:37",
         "Christopher",
         2015,
         "Bradshaw"
        ],
        [
         59,
         "2017-05-12 21:22:17",
         "Alexander",
         10673,
         "Cervantes"
        ],
        [
         39,
         "2016-06-29 20:43:59",
         "Christina",
         6398,
         "Davenport"
        ],
        [
         20,
         "2015-10-23 04:13:23",
         "Alexandria",
         3599,
         "Alvarado"
        ],
        [
         20,
         "2015-12-01 15:08:31",
         "Christopher",
         5076,
         "Butler"
        ],
        [
         39,
         "2017-07-19 07:12:04",
         "Michelle",
         7790,
         "Gutierrez"
        ],
        [
         49,
         "2016-04-22 20:36:02",
         "Brittany",
         10509,
         "Thompson"
        ],
        [
         43,
         "2016-07-21 15:25:08",
         "Chelsea",
         10119,
         "Gonzalez"
        ],
        [
         21,
         "2017-01-02 03:01:09",
         "Catherine",
         3716,
         "Ferrell"
        ],
        [
         21,
         "2015-11-10 09:27:42",
         "Andrea",
         8731,
         "Alexander"
        ],
        [
         24,
         "2016-03-31 20:56:39",
         "Austin",
         8887,
         "Rodriguez"
        ],
        [
         23,
         "2015-12-01 18:15:02",
         "Christine",
         7768,
         "Cortez"
        ],
        [
         20,
         "2015-10-30 11:37:32",
         "Alexander",
         9268,
         "Bailey"
        ],
        [
         20,
         "2017-03-10 19:53:44",
         "Justin",
         3011,
         "Singleton"
        ],
        [
         36,
         "2015-12-20 16:38:13",
         "Michelle",
         4315,
         "Prince"
        ],
        [
         32,
         "2017-10-10 20:09:33",
         "Christian",
         10625,
         "Lang"
        ],
        [
         22,
         "2016-02-11 20:46:04",
         "Jennifer",
         9672,
         "Hudson"
        ],
        [
         23,
         "2015-11-28 11:52:37",
         "Andrew",
         8930,
         "Anderson"
        ],
        [
         31,
         "2017-08-04 14:30:22",
         "Alexander",
         6566,
         "Perez"
        ],
        [
         52,
         "2016-02-07 20:00:25",
         "Richard",
         3729,
         "Edwards"
        ],
        [
         40,
         "2017-05-16 07:09:21",
         "Michael",
         10552,
         "Hunter"
        ],
        [
         21,
         "2015-10-25 07:36:08",
         "Aaron",
         9074,
         "Alexander"
        ],
        [
         28,
         "2016-01-29 20:32:05",
         "Elizabeth",
         3201,
         "Terry"
        ],
        [
         40,
         "2017-01-12 08:37:12",
         "Timothy",
         480,
         "Sullivan"
        ],
        [
         21,
         "2015-10-25 07:36:08",
         "Aaron",
         7586,
         "Alexander"
        ],
        [
         32,
         "2015-10-28 15:48:24",
         "Alexander",
         1864,
         "Adams"
        ],
        [
         32,
         "2016-04-02 03:51:23",
         "Brittany",
         1313,
         "Jones"
        ],
        [
         34,
         "2016-12-22 00:02:02",
         "Thomas",
         10794,
         "Turner"
        ],
        [
         20,
         "2016-01-07 19:49:22",
         "David",
         2959,
         "Griffith"
        ],
        [
         26,
         "2015-12-20 10:28:00",
         "Brendan",
         9875,
         "Joseph"
        ],
        [
         21,
         "2016-01-03 15:42:12",
         "Annette",
         2074,
         "Forbes"
        ],
        [
         56,
         "2016-10-15 17:21:39",
         "Gregory",
         1014,
         "Ramsey"
        ],
        [
         59,
         "2017-06-29 22:35:17",
         "Michael",
         4137,
         "Decker"
        ],
        [
         21,
         "2015-11-24 02:15:36",
         "Aaron",
         2411,
         "Bartlett"
        ],
        [
         58,
         "2016-06-03 23:35:30",
         "Michael",
         4508,
         "Carter"
        ],
        [
         32,
         "2016-03-10 04:11:31",
         "Brittany",
         771,
         "Butler"
        ],
        [
         46,
         "2015-11-27 23:11:21",
         "Jonathan",
         1545,
         "Avila"
        ],
        [
         44,
         "2016-10-29 02:07:21",
         "Brandon",
         603,
         "Jackson"
        ],
        [
         22,
         "2016-02-09 17:01:38",
         "Carlos",
         5630,
         "Estrada"
        ],
        [
         32,
         "2016-06-08 22:10:13",
         "Donna",
         1268,
         "Campbell"
        ],
        [
         54,
         "2016-05-15 04:22:01",
         "Alexis",
         1555,
         "Bennett"
        ],
        [
         20,
         "2015-12-17 08:43:40",
         "Adam",
         3800,
         "Armstrong"
        ],
        [
         43,
         "2016-03-22 15:45:21",
         "Jesus",
         2788,
         "Arellano"
        ],
        [
         51,
         "2017-08-14 08:26:30",
         "Nathan",
         8300,
         "Stanton"
        ],
        [
         46,
         "2016-09-11 22:32:50",
         "Carrie",
         10337,
         "Parker"
        ],
        [
         39,
         "2016-06-30 02:56:06",
         "Samuel",
         7832,
         "Hawkins"
        ],
        [
         31,
         "2016-02-06 10:22:53",
         "Christine",
         778,
         "Adams"
        ],
        [
         25,
         "2015-12-28 04:21:39",
         "Charles",
         8304,
         "Berry"
        ],
        [
         23,
         "2015-11-25 13:36:22",
         "Corey",
         6063,
         "Andrews"
        ],
        [
         48,
         "2017-09-26 16:31:56",
         "Robert",
         3454,
         "Murphy"
        ],
        [
         20,
         "2017-04-11 16:35:33",
         "Cheryl",
         7554,
         "Huerta"
        ],
        [
         30,
         "2015-12-25 20:24:37",
         "Emily",
         6145,
         "Hawkins"
        ],
        [
         31,
         "2016-11-09 19:50:51",
         "Kaylee",
         9979,
         "Miller"
        ],
        [
         24,
         "2015-11-20 05:37:11",
         "Angela",
         4913,
         "Brooks"
        ],
        [
         25,
         "2015-11-19 21:24:33",
         "Daniel",
         9759,
         "Brooks"
        ],
        [
         20,
         "2016-12-31 00:06:36",
         "Dawn",
         7294,
         "Anderson"
        ],
        [
         21,
         "2015-11-24 02:15:36",
         "Aaron",
         808,
         "Bartlett"
        ],
        [
         28,
         "2016-11-15 10:40:03",
         "Anthony",
         9936,
         "Cantu"
        ],
        [
         30,
         "2016-07-03 10:59:40",
         "Peter",
         6844,
         "Roberts"
        ],
        [
         47,
         "2017-04-26 03:26:23",
         "Aaron",
         3419,
         "Jenkins"
        ],
        [
         25,
         "2017-07-20 05:51:23",
         "Rhonda",
         4988,
         "Durham"
        ],
        [
         20,
         "2017-01-17 01:49:27",
         "Regina",
         552,
         "Morales"
        ],
        [
         25,
         "2015-11-19 21:24:33",
         "Daniel",
         8312,
         "Brooks"
        ],
        [
         38,
         "2015-10-26 09:45:45",
         "Nicholas",
         6261,
         "Hart"
        ],
        [
         20,
         "2015-10-26 23:04:52",
         "Amanda",
         5758,
         "Arnold"
        ],
        [
         38,
         "2017-05-03 03:08:33",
         "Virginia",
         1137,
         "Vega"
        ],
        [
         31,
         "2016-01-21 12:53:34",
         "Karina",
         2301,
         "Morton"
        ],
        [
         33,
         "2017-04-19 08:49:40",
         "Sarah",
         232,
         "Buchanan"
        ],
        [
         40,
         "2016-01-03 12:03:05",
         "Jessica",
         9475,
         "Mejia"
        ],
        [
         32,
         "2016-10-23 14:06:51",
         "Dylan",
         2863,
         "Holmes"
        ],
        [
         36,
         "2015-12-08 20:02:43",
         "Rachel",
         5730,
         "Davis"
        ],
        [
         26,
         "2015-11-11 03:20:57",
         "Brian",
         2923,
         "Nelson"
        ],
        [
         20,
         "2015-10-21 08:27:36",
         "Amanda",
         2418,
         "Adams"
        ],
        [
         22,
         "2015-12-21 08:06:54",
         "Andrew",
         3156,
         "Baker"
        ],
        [
         20,
         "2015-11-28 02:20:29",
         "Claudia",
         428,
         "Adams"
        ],
        [
         24,
         "2016-01-11 12:03:48",
         "Anne",
         7343,
         "Clayton"
        ],
        [
         22,
         "2015-12-31 14:57:02",
         "Carol",
         10138,
         "Silva"
        ],
        [
         21,
         "2015-11-12 06:21:36",
         "Denise",
         7922,
         "Adams"
        ],
        [
         22,
         "2015-10-24 18:56:30",
         "Amanda",
         9590,
         "Allen"
        ],
        [
         44,
         "2017-06-21 19:53:27",
         "Kayla",
         2698,
         "Burton"
        ],
        [
         28,
         "2016-06-16 02:06:38",
         "Aimee",
         831,
         "Collins"
        ],
        [
         21,
         "2015-11-12 06:21:36",
         "Denise",
         8606,
         "Adams"
        ],
        [
         20,
         "2015-10-23 22:47:39",
         "Larry",
         4076,
         "Pineda"
        ],
        [
         20,
         "2015-10-31 18:51:07",
         "Aaron",
         1422,
         "Abbott"
        ],
        [
         20,
         "2015-11-12 03:23:49",
         "Amanda",
         1371,
         "Brown"
        ],
        [
         30,
         "2016-02-21 12:54:01",
         "Ashley",
         2604,
         "Evans"
        ],
        [
         59,
         "2016-12-17 11:10:48",
         "Ariana",
         1198,
         "Gross"
        ],
        [
         30,
         "2016-12-21 13:39:14",
         "Derrick",
         10370,
         "Kim"
        ],
        [
         20,
         "2016-08-26 16:09:52",
         "Dawn",
         7167,
         "Bradley"
        ],
        [
         25,
         "2016-04-27 02:59:27",
         "Glenn",
         772,
         "Hammond"
        ],
        [
         20,
         "2016-07-27 06:20:48",
         "Debra",
         7510,
         "Becker"
        ],
        [
         20,
         "2015-10-26 04:12:32",
         "Angela",
         7234,
         "Allen"
        ],
        [
         20,
         "2015-10-23 16:08:41",
         "Aaron",
         7874,
         "Abbott"
        ],
        [
         20,
         "2015-10-31 18:51:07",
         "Aaron",
         1450,
         "Abbott"
        ],
        [
         21,
         "2015-11-05 22:07:56",
         "Albert",
         9093,
         "Adams"
        ],
        [
         36,
         "2016-06-03 23:53:50",
         "David",
         5293,
         "Taylor"
        ],
        [
         20,
         "2015-10-23 16:08:41",
         "Aaron",
         7733,
         "Abbott"
        ],
        [
         56,
         "2016-02-04 23:27:36",
         "Justin",
         8366,
         "Ewing"
        ],
        [
         20,
         "2015-10-24 11:23:51",
         "Abigail",
         7528,
         "Ali"
        ],
        [
         25,
         "2016-01-13 17:36:30",
         "Amanda",
         5069,
         "Ball"
        ],
        [
         20,
         "2015-10-24 11:23:51",
         "Abigail",
         3089,
         "Ali"
        ],
        [
         24,
         "2016-03-09 10:48:14",
         "Tammy",
         8653,
         "Davis"
        ],
        [
         20,
         "2016-01-01 13:50:40",
         "Alvin",
         7166,
         "Adams"
        ],
        [
         20,
         "2016-02-27 21:13:44",
         "Alex",
         9546,
         "Barnes"
        ],
        [
         20,
         "2016-07-23 20:51:06",
         "Lisa",
         5468,
         "Gamble"
        ],
        [
         20,
         "2015-10-23 12:40:19",
         "Brett",
         205,
         "Bryant"
        ],
        [
         20,
         "2016-01-26 01:49:23",
         "Alicia",
         719,
         "Avila"
        ],
        [
         20,
         "2016-07-02 02:32:30",
         "Ann",
         1094,
         "Elliott"
        ],
        [
         51,
         "2016-10-09 14:47:51",
         "Melanie",
         223,
         "Hill"
        ],
        [
         32,
         "2016-08-23 20:36:12",
         "Shawn",
         2637,
         "Jones"
        ],
        [
         27,
         "2016-12-18 10:11:23",
         "Joshua",
         2060,
         "Long"
        ],
        [
         21,
         "2016-01-10 09:41:14",
         "Jose",
         9487,
         "Bailey"
        ],
        [
         34,
         "2016-05-08 16:27:01",
         "Julie",
         10245,
         "Cook"
        ],
        [
         28,
         "2015-11-26 11:23:50",
         "Gary",
         3750,
         "Barker"
        ],
        [
         23,
         "2016-01-06 12:22:08",
         "Amber",
         3334,
         "Casey"
        ],
        [
         27,
         "2015-12-16 15:20:05",
         "Anne",
         5494,
         "Allen"
        ],
        [
         23,
         "2016-06-23 14:38:00",
         "Julie",
         10663,
         "Cox"
        ],
        [
         20,
         "2015-10-28 05:00:33",
         "Barry",
         1704,
         "Lynn"
        ],
        [
         22,
         "2016-03-01 07:11:48",
         "David",
         2482,
         "Moss"
        ],
        [
         21,
         "2016-01-07 08:11:35",
         "Alison",
         159,
         "Bell"
        ],
        [
         31,
         "2016-03-07 01:01:24",
         "Daniel",
         5309,
         "Roy"
        ],
        [
         39,
         "2015-12-04 03:15:28",
         "Jill",
         327,
         "Taylor"
        ],
        [
         34,
         "2017-08-22 00:01:29",
         "Mark",
         8978,
         "Jones"
        ],
        [
         24,
         "2016-01-11 23:08:27",
         "Alex",
         2293,
         "Bean"
        ],
        [
         30,
         "2016-01-06 09:58:56",
         "Erik",
         46,
         "Kelley"
        ],
        [
         21,
         "2015-12-27 23:43:42",
         "Anne",
         2858,
         "Bond"
        ],
        [
         20,
         "2015-10-24 05:05:28",
         "Amy",
         1706,
         "Adams"
        ],
        [
         22,
         "2015-11-18 23:11:15",
         "Ann",
         2048,
         "Chung"
        ],
        [
         48,
         "2017-06-01 23:13:27",
         "Joe",
         8578,
         "Pham"
        ],
        [
         25,
         "2015-11-26 17:42:37",
         "Jon",
         427,
         "Burke"
        ]
       ],
       "datasetInfos": [],
       "dbfsResultPath": null,
       "isJsonSchema": true,
       "metadata": {},
       "overflow": false,
       "plotOptions": {
        "customPlotOptions": {},
        "displayType": "table",
        "pivotAggregation": null,
        "pivotColumns": null,
        "xColumns": null,
        "yColumns": null
       },
       "removedWidgets": [],
       "schema": [
        {
         "metadata": "{}",
         "name": "age",
         "type": "\"long\""
        },
        {
         "metadata": "{}",
         "name": "date_joined",
         "type": "\"string\""
        },
        {
         "metadata": "{}",
         "name": "first_name",
         "type": "\"string\""
        },
        {
         "metadata": "{}",
         "name": "ind",
         "type": "\"long\""
        },
        {
         "metadata": "{}",
         "name": "last_name",
         "type": "\"string\""
        }
       ],
       "type": "table"
      }
     },
     "output_type": "display_data"
    }
   ],
   "source": [
    "# pyspark functions\n",
    "from pyspark.sql.functions import *\n",
    "# URL processing\n",
    "import urllib\n",
    "\n",
    "# Disable format checks during the reading of Delta tables\n",
    "spark.conf.set(\"spark.databricks.delta.formatCheck.enabled\", \"false\")\n",
    "\n",
    "# File location and type\n",
    "file_location = \"/mnt/pinterest/topics/0eaa2e755d1f.user/partition=0/*.json\" \n",
    "file_type = \"json\"\n",
    "# Ask Spark to infer the schema\n",
    "infer_schema = \"true\"\n",
    "# Read in JSONs from mounted S3 bucket\n",
    "df_user = spark.read.format(file_type) \\\n",
    ".option(\"inferSchema\", infer_schema) \\\n",
    ".load(file_location)\n",
    "# Display Spark dataframe to check its content\n",
    "display(df_user)"
   ]
  },
  {
   "cell_type": "code",
   "execution_count": 0,
   "metadata": {
    "application/vnd.databricks.v1+cell": {
     "cellMetadata": {
      "byteLimit": 2048000,
      "rowLimit": 10000
     },
     "inputWidgets": {},
     "nuid": "399fbcd9-6184-4bc3-9f84-20dd32cdd8b6",
     "showTitle": false,
     "title": ""
    }
   },
   "outputs": [
    {
     "output_type": "display_data",
     "data": {
      "text/html": [
       "<style scoped>\n",
       "  .ansiout {\n",
       "    display: block;\n",
       "    unicode-bidi: embed;\n",
       "    white-space: pre-wrap;\n",
       "    word-wrap: break-word;\n",
       "    word-break: break-all;\n",
       "    font-family: \"Menlo\", \"Monaco\", \"Consolas\", \"Ubuntu Mono\", \"Source Code Pro\", monospace;\n",
       "    font-size: 13px;\n",
       "    color: #555;\n",
       "    margin-left: 4px;\n",
       "    line-height: 19px;\n",
       "  }\n",
       "</style>\n",
       "<div class=\"ansiout\">+-----+--------------------+--------------------+--------------------+--------------+--------------------+--------------------+-----------------+--------------------+--------------------+--------------+\n",
       "  ind|           unique_id|               title|         description|follower_count|         poster_name|            tag_list|is_image_or_video|           image_src|       save_location|      category|\n",
       "+-----+--------------------+--------------------+--------------------+--------------+--------------------+--------------------+-----------------+--------------------+--------------------+--------------+\n",
       " 1706|b5c8a1b5-9e90-452...|Standing Figurine...|Features: Materia...|          5000|            Wear24-7|Merry Christmas T...|            image|https://i.pinimg....|     /data/christmas|     christmas|\n",
       " 2482|08604f20-fa17-4b9...|FORNT PORCH CHRIS...|Christmas decorat...|         46000|Life on Summerhil...|Diy Christmas Dec...|            video|https://i.pinimg....|     /data/christmas|     christmas|\n",
       "10138|927c4658-cc3f-4b9...|14 Amazing Things...|This Costa Rica i...|         10000|Wanderlust Chloe ...|Costa Rica Travel...|            image|https://i.pinimg....|        /data/travel|        travel|\n",
       " 2604|087b0fa9-f901-426...|75+ Neutral Chris...|My favorite 75+ N...|         31000|  Everyday Wholesome|Colorful Christma...|            image|https://i.pinimg....|     /data/christmas|     christmas|\n",
       " 3156|fa6e31a4-18c2-4ec...|Handprint Reindee...|This post may con...|        892000|Michelle {CraftyM...|Christmas Gifts F...|            image|https://i.pinimg....| /data/diy-and-cr...|diy-and-crafts|\n",
       " 1864|6f1951f0-63be-4c4...|120 Christmas Dec...|Love Christmas de...|         42000|Caroline|Caroline...|Diy Snowman Decor...|            image|https://i.pinimg....|     /data/christmas|     christmas|\n",
       " 6014|d4c57afb-4775-448...|Coffee Table Deco...|Grab these coffee...|         40000|     Salvaged Living|Coffee Table Deco...|            image|https://i.pinimg....|    /data/home-decor|    home-decor|\n",
       "10119|40eab9ba-7812-4f2...|How to Afford Fam...|See families trav...|          9000|OUR NEXT ADVENTUR...|Family Vacation D...|            image|https://i.pinimg....|        /data/travel|        travel|\n",
       " 3419|d0b80187-0171-49b...|Easy Christmas Tr...|Easy Christmas tr...|          3000|Kids Crafts &amp; Fre...|Christmas Crafts ...|            image|https://i.pinimg....| /data/diy-and-cr...|diy-and-crafts|\n",
       " 3716|74f878f3-6f1b-4b4...|Engaging Secondar...|Here, you will fi...|         10000|The Bespoke ELA C...|Middle School Rea...|            image|https://i.pinimg....|     /data/education|     education|\n",
       " 9093|8e478adb-0e3f-404...|51 Unique Minimal...|&#34;Minimalist Tatto...|         54000|Beautyholo | Late...|Small Tattoos Men...|            image|https://i.pinimg....|       /data/tattoos|       tattoos|\n",
       " 5494|8fb2af68-543b-463...|Dave Ramsey&#39;s 7 B...|If you love budge...|         26000|Living Low Key | ...|Financial Peace,F...|            image|https://i.pinimg....|       /data/finance|       finance|\n",
       " 2858|26f81da4-26a9-465...|50 Popular Spring...|Celebrate warmer ...|        108000|This Tiny  Blue H...|Spring Crafts For...|            image|https://i.pinimg....| /data/diy-and-cr...|diy-and-crafts|\n",
       " 2418|da8745a6-5160-46c...|100 DIY Christmas...|Here are the best...|        500000|            HikenDip|Farmhouse Christm...|            image|https://i.pinimg....|     /data/christmas|     christmas|\n",
       " 8312|ca3c9bb0-7281-4b9...|8 Vision Board Id...|Trying to create ...|         42000|TheFab20s | Trave...|Positive Self Aff...|            image|https://i.pinimg....|        /data/quotes|        quotes|\n",
       " 8300|7ddd23cf-68a5-4b5...|The Maker&#39;s Map -...|Quotes and Saying...|         19000|Amber Strong - Th...|Positive Quotes F...|            image|https://i.pinimg....|        /data/quotes|        quotes|\n",
       " 7922|a584581c-1b38-473...|45 Top Life Quote...|summcoco gives yo...|        306000|Sumcoco | Decor I...|Life Quotes Love,...|            image|https://i.pinimg....|        /data/quotes|        quotes|\n",
       "  771|a5021766-a8aa-4dc...|African Sunset Sh...|Use your mini wor...|          4000|Taming Little Mon...|African Art Proje...|            image|https://i.pinimg....|           /data/art|           art|\n",
       " 4508|9064f4a2-2753-476...|Custom Event and ...|Personalize your ...|           111|Life of Neon | Cu...|Our Wedding,Weddi...|            image|https://i.pinimg....| /data/event-plan...|event-planning|\n",
       " 4076|3a52d364-7c04-47c...|Phonics Activitie...|Hi everyone! As a...|         22000|   The Literacy Nest|Literacy Games,Ki...|            image|https://i.pinimg....|     /data/education|     education|\n",
       "+-----+--------------------+--------------------+--------------------+--------------+--------------------+--------------------+-----------------+--------------------+--------------------+--------------+\n",
       "only showing top 20 rows\n",
       "\n",
       "</div>"
      ]
     },
     "metadata": {
      "application/vnd.databricks.v1+output": {
       "addedWidgets": {},
       "arguments": {},
       "data": "<div class=\"ansiout\">+-----+--------------------+--------------------+--------------------+--------------+--------------------+--------------------+-----------------+--------------------+--------------------+--------------+\n|  ind|           unique_id|               title|         description|follower_count|         poster_name|            tag_list|is_image_or_video|           image_src|       save_location|      category|\n+-----+--------------------+--------------------+--------------------+--------------+--------------------+--------------------+-----------------+--------------------+--------------------+--------------+\n| 1706|b5c8a1b5-9e90-452...|Standing Figurine...|Features: Materia...|          5000|            Wear24-7|Merry Christmas T...|            image|https://i.pinimg....|     /data/christmas|     christmas|\n| 2482|08604f20-fa17-4b9...|FORNT PORCH CHRIS...|Christmas decorat...|         46000|Life on Summerhil...|Diy Christmas Dec...|            video|https://i.pinimg....|     /data/christmas|     christmas|\n|10138|927c4658-cc3f-4b9...|14 Amazing Things...|This Costa Rica i...|         10000|Wanderlust Chloe ...|Costa Rica Travel...|            image|https://i.pinimg....|        /data/travel|        travel|\n| 2604|087b0fa9-f901-426...|75+ Neutral Chris...|My favorite 75+ N...|         31000|  Everyday Wholesome|Colorful Christma...|            image|https://i.pinimg....|     /data/christmas|     christmas|\n| 3156|fa6e31a4-18c2-4ec...|Handprint Reindee...|This post may con...|        892000|Michelle {CraftyM...|Christmas Gifts F...|            image|https://i.pinimg....| /data/diy-and-cr...|diy-and-crafts|\n| 1864|6f1951f0-63be-4c4...|120 Christmas Dec...|Love Christmas de...|         42000|Caroline|Caroline...|Diy Snowman Decor...|            image|https://i.pinimg....|     /data/christmas|     christmas|\n| 6014|d4c57afb-4775-448...|Coffee Table Deco...|Grab these coffee...|         40000|     Salvaged Living|Coffee Table Deco...|            image|https://i.pinimg....|    /data/home-decor|    home-decor|\n|10119|40eab9ba-7812-4f2...|How to Afford Fam...|See families trav...|          9000|OUR NEXT ADVENTUR...|Family Vacation D...|            image|https://i.pinimg....|        /data/travel|        travel|\n| 3419|d0b80187-0171-49b...|Easy Christmas Tr...|Easy Christmas tr...|          3000|Kids Crafts &amp; Fre...|Christmas Crafts ...|            image|https://i.pinimg....| /data/diy-and-cr...|diy-and-crafts|\n| 3716|74f878f3-6f1b-4b4...|Engaging Secondar...|Here, you will fi...|         10000|The Bespoke ELA C...|Middle School Rea...|            image|https://i.pinimg....|     /data/education|     education|\n| 9093|8e478adb-0e3f-404...|51 Unique Minimal...|&#34;Minimalist Tatto...|         54000|Beautyholo | Late...|Small Tattoos Men...|            image|https://i.pinimg....|       /data/tattoos|       tattoos|\n| 5494|8fb2af68-543b-463...|Dave Ramsey&#39;s 7 B...|If you love budge...|         26000|Living Low Key | ...|Financial Peace,F...|            image|https://i.pinimg....|       /data/finance|       finance|\n| 2858|26f81da4-26a9-465...|50 Popular Spring...|Celebrate warmer ...|        108000|This Tiny  Blue H...|Spring Crafts For...|            image|https://i.pinimg....| /data/diy-and-cr...|diy-and-crafts|\n| 2418|da8745a6-5160-46c...|100 DIY Christmas...|Here are the best...|        500000|            HikenDip|Farmhouse Christm...|            image|https://i.pinimg....|     /data/christmas|     christmas|\n| 8312|ca3c9bb0-7281-4b9...|8 Vision Board Id...|Trying to create ...|         42000|TheFab20s | Trave...|Positive Self Aff...|            image|https://i.pinimg....|        /data/quotes|        quotes|\n| 8300|7ddd23cf-68a5-4b5...|The Maker&#39;s Map -...|Quotes and Saying...|         19000|Amber Strong - Th...|Positive Quotes F...|            image|https://i.pinimg....|        /data/quotes|        quotes|\n| 7922|a584581c-1b38-473...|45 Top Life Quote...|summcoco gives yo...|        306000|Sumcoco | Decor I...|Life Quotes Love,...|            image|https://i.pinimg....|        /data/quotes|        quotes|\n|  771|a5021766-a8aa-4dc...|African Sunset Sh...|Use your mini wor...|          4000|Taming Little Mon...|African Art Proje...|            image|https://i.pinimg....|           /data/art|           art|\n| 4508|9064f4a2-2753-476...|Custom Event and ...|Personalize your ...|           111|Life of Neon | Cu...|Our Wedding,Weddi...|            image|https://i.pinimg....| /data/event-plan...|event-planning|\n| 4076|3a52d364-7c04-47c...|Phonics Activitie...|Hi everyone! As a...|         22000|   The Literacy Nest|Literacy Games,Ki...|            image|https://i.pinimg....|     /data/education|     education|\n+-----+--------------------+--------------------+--------------------+--------------+--------------------+--------------------+-----------------+--------------------+--------------------+--------------+\nonly showing top 20 rows\n\n</div>",
       "datasetInfos": [],
       "metadata": {},
       "removedWidgets": [],
       "type": "html"
      }
     },
     "output_type": "display_data"
    }
   ],
   "source": [
    "from pyspark.sql import functions as F\n",
    "from pyspark.sql.types import IntegerType\n",
    "\n",
    "#making a backup copy of df_pin \n",
    "df_pin_backup = df_pin\n",
    "\n",
    "#cleaning df_pin DataFrame\n",
    "'''To clean the df_pin DataFrame you should perform the following transformations:'''\n",
    "\n",
    "# Filter out rows where '_corrupt_record' is not null (i.e., there is data in '_corrupt_record')\n",
    "#df_cleaned = df_pin.filter(F.col('_corrupt_record').isNull())\n",
    "\n",
    "# Drop the '_corrupt_record' column\n",
    "#df_cleaned = df_cleaned.drop('_corrupt_record')\n",
    "\n",
    "# Show the updated DataFrame\n",
    "#df_cleaned.show()\n",
    "\n",
    "#Replace empty entries and entries with no relevant data in each column with Nones\n",
    "\n",
    "df_pin = df_pin.replace('', None).replace(' ', None)\n",
    "#df_pin = df_pin.fillna(None)\n",
    "# deleting all rows that contain all null values \n",
    "df_pin = df_pin.dropna(how='all')\n",
    "\n",
    "#Perform the necessary transformations on the follower_count to ensure every entry is a number. Make sure the data type of this column is an int.\n",
    "\n",
    "# Define UDF to clean follower_count\n",
    "def clean_follower_count(follower_count):\n",
    "    if follower_count is None :\n",
    "        return None\n",
    "    \n",
    "    follower_count = str(follower_count)\n",
    "    # Normalize to uppercase and remove any commas\n",
    "    follower_count = follower_count.upper().replace(',', '')\n",
    "    \n",
    "    # Extract numeric part and handle suffixes\n",
    "    import re\n",
    "    numeric_part = re.findall(r'\\d+\\.?\\d*', follower_count)\n",
    "    \n",
    "    if not numeric_part:\n",
    "        return None\n",
    "    \n",
    "    numeric_part = numeric_part[0]  # Get the first numeric part\n",
    "    \n",
    "    try:\n",
    "        if 'K' in follower_count:\n",
    "            return int(float(numeric_part) * 1000)\n",
    "        elif 'M' in follower_count:\n",
    "            return int(float(numeric_part) * 1000000)\n",
    "        else:\n",
    "            return int(float(numeric_part))\n",
    "    except ValueError:\n",
    "        # Print the problematic value for debugging\n",
    "        print(f\"Error converting follower_count value: {follower_count}\")\n",
    "        return None\n",
    "\n",
    "clean_follower_count = udf(clean_follower_count, IntegerType())\n",
    "df_pin = df_pin.withColumn('follower_count', clean_follower_count(F.col('follower_count')))\n",
    "#check follower_count column type Integer\n",
    "\n",
    "df_pin = df_pin.withColumn('follower_count',F.col('follower_count').cast(IntegerType()))\n",
    "\n",
    "#Ensure that each column containing numeric data has a numeric data type\n",
    "numeric_columns = ['downloaded', 'follower_count', 'index']\n",
    "existing_columns = [col for col in numeric_columns if col in df_pin.columns]\n",
    "\n",
    "for column in existing_columns:\n",
    "    df_pin = df_pin.withColumn(column, F.col(column).cast(IntegerType()))\n",
    "\n",
    "\n",
    "# Extract the part after 'Local save in/' from the 'save_location' column\n",
    "df_pin = df_pin.withColumn('save_location', F.regexp_extract(F.col('save_location'), r'Local save in(.*)', 1))\n",
    "\n",
    "\n",
    "#Rename the index column to ind.\n",
    "df_pin = df_pin.withColumnRenamed('index', 'ind')\n",
    "\n",
    "#Reorder the DataFrame columns to have the following column order:\n",
    "df_pin = df_pin.select([\n",
    "    'ind',\n",
    "    'unique_id',\n",
    "    'title',\n",
    "    'description',\n",
    "    'follower_count',\n",
    "    'poster_name',\n",
    "    'tag_list',\n",
    "    'is_image_or_video',\n",
    "    'image_src',\n",
    "    'save_location',\n",
    "    'category',\n",
    "])\n",
    "\n",
    "#show the cleaned dataframe \n",
    "df_pin.show()"
   ]
  },
  {
   "cell_type": "code",
   "execution_count": 0,
   "metadata": {
    "application/vnd.databricks.v1+cell": {
     "cellMetadata": {
      "byteLimit": 2048000,
      "rowLimit": 10000
     },
     "inputWidgets": {},
     "nuid": "620d7a1b-602d-4053-ab86-c446d21a5d88",
     "showTitle": false,
     "title": ""
    }
   },
   "outputs": [
    {
     "output_type": "display_data",
     "data": {
      "text/html": [
       "<style scoped>\n",
       "  .ansiout {\n",
       "    display: block;\n",
       "    unicode-bidi: embed;\n",
       "    white-space: pre-wrap;\n",
       "    word-wrap: break-word;\n",
       "    word-break: break-all;\n",
       "    font-family: \"Menlo\", \"Monaco\", \"Consolas\", \"Ubuntu Mono\", \"Source Code Pro\", monospace;\n",
       "    font-size: 13px;\n",
       "    color: #555;\n",
       "    margin-left: 4px;\n",
       "    line-height: 19px;\n",
       "  }\n",
       "</style>\n",
       "<div class=\"ansiout\">+-----+--------------------+--------------------+-------------------+\n",
       "  ind|             country|         coordinates|          timestamp|\n",
       "+-----+--------------------+--------------------+-------------------+\n",
       " 2418|Antarctica (the t...|[-88.4642, -171.061]|2022-05-27 11:30:59|\n",
       " 2301|Saint Vincent and...|  [13.4683, 51.7244]|2020-11-14 00:25:28|\n",
       " 6014|French Southern T...| [-26.6026, 155.206]|2019-04-30 12:33:13|\n",
       "10794|Cocos (Keeling) I...|[-89.5236, -154.567]|2022-01-01 02:26:50|\n",
       " 2074|Central African R...|  [-52.3213, -50.11]|2019-11-03 05:41:59|\n",
       " 2293|British Virgin Is...|[-87.7946, -159.647]|2022-03-21 10:46:53|\n",
       "10663|Saint Kitts and N...| [-27.3474, -162.83]|2019-07-25 18:53:51|\n",
       " 5293|Sao Tome and Prin...|[-13.1463, -25.9649]|2019-05-31 20:49:36|\n",
       " 7922| Antigua and Barbuda|[-88.0974, -172.052]|2021-01-27 09:14:19|\n",
       " 8606| Antigua and Barbuda|[-88.0974, -172.052]|2021-03-28 14:54:07|\n",
       " 2604| Antigua and Barbuda|[-80.8933, -104.972]|2018-12-01 09:23:35|\n",
       " 2048| Antigua and Barbuda|[-89.4008, -142.186]|2017-11-20 06:33:50|\n",
       "  603|Netherlands Antilles| [14.0083, -141.603]|2019-06-25 05:13:01|\n",
       " 9979|  Dominican Republic| [14.9967, -120.682]|2018-07-18 19:01:46|\n",
       "10119|    Christmas Island|[-74.5431, -162.795]|2020-10-22 01:59:58|\n",
       " 2060| Trinidad and Tobago|  [52.4584, 68.6527]|2020-01-25 13:54:17|\n",
       " 1704|    Christmas Island|[-56.8702, -93.6232]|2018-11-29 04:46:39|\n",
       " 6261|    Marshall Islands|[-10.3101, -109.763]|2021-11-11 16:18:45|\n",
       "10337|    Christmas Island| [-42.3069, -109.17]|2021-10-26 12:09:43|\n",
       " 3201|    Pitcairn Islands| [34.0532, -68.4946]|2019-06-25 08:31:37|\n",
       "+-----+--------------------+--------------------+-------------------+\n",
       "only showing top 20 rows\n",
       "\n",
       "</div>"
      ]
     },
     "metadata": {
      "application/vnd.databricks.v1+output": {
       "addedWidgets": {},
       "arguments": {},
       "data": "<div class=\"ansiout\">+-----+--------------------+--------------------+-------------------+\n|  ind|             country|         coordinates|          timestamp|\n+-----+--------------------+--------------------+-------------------+\n| 2418|Antarctica (the t...|[-88.4642, -171.061]|2022-05-27 11:30:59|\n| 2301|Saint Vincent and...|  [13.4683, 51.7244]|2020-11-14 00:25:28|\n| 6014|French Southern T...| [-26.6026, 155.206]|2019-04-30 12:33:13|\n|10794|Cocos (Keeling) I...|[-89.5236, -154.567]|2022-01-01 02:26:50|\n| 2074|Central African R...|  [-52.3213, -50.11]|2019-11-03 05:41:59|\n| 2293|British Virgin Is...|[-87.7946, -159.647]|2022-03-21 10:46:53|\n|10663|Saint Kitts and N...| [-27.3474, -162.83]|2019-07-25 18:53:51|\n| 5293|Sao Tome and Prin...|[-13.1463, -25.9649]|2019-05-31 20:49:36|\n| 7922| Antigua and Barbuda|[-88.0974, -172.052]|2021-01-27 09:14:19|\n| 8606| Antigua and Barbuda|[-88.0974, -172.052]|2021-03-28 14:54:07|\n| 2604| Antigua and Barbuda|[-80.8933, -104.972]|2018-12-01 09:23:35|\n| 2048| Antigua and Barbuda|[-89.4008, -142.186]|2017-11-20 06:33:50|\n|  603|Netherlands Antilles| [14.0083, -141.603]|2019-06-25 05:13:01|\n| 9979|  Dominican Republic| [14.9967, -120.682]|2018-07-18 19:01:46|\n|10119|    Christmas Island|[-74.5431, -162.795]|2020-10-22 01:59:58|\n| 2060| Trinidad and Tobago|  [52.4584, 68.6527]|2020-01-25 13:54:17|\n| 1704|    Christmas Island|[-56.8702, -93.6232]|2018-11-29 04:46:39|\n| 6261|    Marshall Islands|[-10.3101, -109.763]|2021-11-11 16:18:45|\n|10337|    Christmas Island| [-42.3069, -109.17]|2021-10-26 12:09:43|\n| 3201|    Pitcairn Islands| [34.0532, -68.4946]|2019-06-25 08:31:37|\n+-----+--------------------+--------------------+-------------------+\nonly showing top 20 rows\n\n</div>",
       "datasetInfos": [],
       "metadata": {},
       "removedWidgets": [],
       "type": "html"
      }
     },
     "output_type": "display_data"
    }
   ],
   "source": [
    "from pyspark.sql import functions as F\n",
    "from pyspark.sql.types import TimestampType\n",
    "\n",
    "# 1. Create a new column 'coordinates' that contains an array based on 'latitude' and 'longitude'\n",
    "df_geo = df_geo.withColumn('coordinates', F.array(F.col('latitude'), F.col('longitude')))\n",
    "\n",
    "# 2. Drop the 'latitude' and 'longitude' columns\n",
    "df_geo = df_geo.drop('latitude').drop('longitude')\n",
    "\n",
    "# 3. Convert the 'timestamp' column from a string to a timestamp data type\n",
    "df_geo = df_geo.withColumn('timestamp', F.col('timestamp').cast(TimestampType()))\n",
    "\n",
    "# 4. Reorder the DataFrame columns to the specified order\n",
    "df_geo = df_geo.select(['ind', 'country', 'coordinates', 'timestamp'])\n",
    "\n",
    "# Show the cleaned DataFrame\n",
    "df_geo.show()"
   ]
  },
  {
   "cell_type": "code",
   "execution_count": 0,
   "metadata": {
    "application/vnd.databricks.v1+cell": {
     "cellMetadata": {
      "byteLimit": 2048000,
      "rowLimit": 10000
     },
     "inputWidgets": {},
     "nuid": "436ac15f-9f19-47f5-bcc6-029778297274",
     "showTitle": false,
     "title": ""
    }
   },
   "outputs": [
    {
     "output_type": "display_data",
     "data": {
      "text/html": [
       "<style scoped>\n",
       "  .ansiout {\n",
       "    display: block;\n",
       "    unicode-bidi: embed;\n",
       "    white-space: pre-wrap;\n",
       "    word-wrap: break-word;\n",
       "    word-break: break-all;\n",
       "    font-family: \"Menlo\", \"Monaco\", \"Consolas\", \"Ubuntu Mono\", \"Source Code Pro\", monospace;\n",
       "    font-size: 13px;\n",
       "    color: #555;\n",
       "    margin-left: 4px;\n",
       "    line-height: 19px;\n",
       "  }\n",
       "</style>\n",
       "<div class=\"ansiout\">+-----+--------------------+---+-------------------+\n",
       "  ind|           user_name|age|        date_joined|\n",
       "+-----+--------------------+---+-------------------+\n",
       " 2015|Christopher Bradshaw| 27|2016-03-08 13:38:37|\n",
       "10673| Alexander Cervantes| 59|2017-05-12 21:22:17|\n",
       " 6398| Christina Davenport| 39|2016-06-29 20:43:59|\n",
       " 3599| Alexandria Alvarado| 20|2015-10-23 04:13:23|\n",
       " 5076|  Christopher Butler| 20|2015-12-01 15:08:31|\n",
       " 7790|  Michelle Gutierrez| 39|2017-07-19 07:12:04|\n",
       "10509|   Brittany Thompson| 49|2016-04-22 20:36:02|\n",
       "10119|    Chelsea Gonzalez| 43|2016-07-21 15:25:08|\n",
       " 3716|   Catherine Ferrell| 21|2017-01-02 03:01:09|\n",
       " 8731|    Andrea Alexander| 21|2015-11-10 09:27:42|\n",
       " 8887|    Austin Rodriguez| 24|2016-03-31 20:56:39|\n",
       " 7768|    Christine Cortez| 23|2015-12-01 18:15:02|\n",
       " 9268|    Alexander Bailey| 20|2015-10-30 11:37:32|\n",
       " 3011|    Justin Singleton| 20|2017-03-10 19:53:44|\n",
       " 4315|     Michelle Prince| 36|2015-12-20 16:38:13|\n",
       "10625|      Christian Lang| 32|2017-10-10 20:09:33|\n",
       " 9672|     Jennifer Hudson| 22|2016-02-11 20:46:04|\n",
       " 8930|     Andrew Anderson| 23|2015-11-28 11:52:37|\n",
       " 6566|     Alexander Perez| 31|2017-08-04 14:30:22|\n",
       " 3729|     Richard Edwards| 52|2016-02-07 20:00:25|\n",
       "+-----+--------------------+---+-------------------+\n",
       "only showing top 20 rows\n",
       "\n",
       "</div>"
      ]
     },
     "metadata": {
      "application/vnd.databricks.v1+output": {
       "addedWidgets": {},
       "arguments": {},
       "data": "<div class=\"ansiout\">+-----+--------------------+---+-------------------+\n|  ind|           user_name|age|        date_joined|\n+-----+--------------------+---+-------------------+\n| 2015|Christopher Bradshaw| 27|2016-03-08 13:38:37|\n|10673| Alexander Cervantes| 59|2017-05-12 21:22:17|\n| 6398| Christina Davenport| 39|2016-06-29 20:43:59|\n| 3599| Alexandria Alvarado| 20|2015-10-23 04:13:23|\n| 5076|  Christopher Butler| 20|2015-12-01 15:08:31|\n| 7790|  Michelle Gutierrez| 39|2017-07-19 07:12:04|\n|10509|   Brittany Thompson| 49|2016-04-22 20:36:02|\n|10119|    Chelsea Gonzalez| 43|2016-07-21 15:25:08|\n| 3716|   Catherine Ferrell| 21|2017-01-02 03:01:09|\n| 8731|    Andrea Alexander| 21|2015-11-10 09:27:42|\n| 8887|    Austin Rodriguez| 24|2016-03-31 20:56:39|\n| 7768|    Christine Cortez| 23|2015-12-01 18:15:02|\n| 9268|    Alexander Bailey| 20|2015-10-30 11:37:32|\n| 3011|    Justin Singleton| 20|2017-03-10 19:53:44|\n| 4315|     Michelle Prince| 36|2015-12-20 16:38:13|\n|10625|      Christian Lang| 32|2017-10-10 20:09:33|\n| 9672|     Jennifer Hudson| 22|2016-02-11 20:46:04|\n| 8930|     Andrew Anderson| 23|2015-11-28 11:52:37|\n| 6566|     Alexander Perez| 31|2017-08-04 14:30:22|\n| 3729|     Richard Edwards| 52|2016-02-07 20:00:25|\n+-----+--------------------+---+-------------------+\nonly showing top 20 rows\n\n</div>",
       "datasetInfos": [],
       "metadata": {},
       "removedWidgets": [],
       "type": "html"
      }
     },
     "output_type": "display_data"
    }
   ],
   "source": [
    "from pyspark.sql import functions as F\n",
    "from pyspark.sql.types import TimestampType\n",
    "\n",
    "# 1. Create a new column 'user_name' by concatenating 'first_name' and 'last_name'\n",
    "df_user = df_user.withColumn('user_name', F.concat_ws(' ', F.col('first_name'), F.col('last_name')))\n",
    "\n",
    "# 2. Drop the 'first_name' and 'last_name' columns\n",
    "df_user = df_user.drop('first_name').drop('last_name')\n",
    "\n",
    "# 3. Convert the 'date_joined' column from a string to a timestamp data type\n",
    "df_user = df_user.withColumn('date_joined', F.col('date_joined').cast(TimestampType()))\n",
    "\n",
    "# 4. Reorder the DataFrame columns to the specified order\n",
    "df_user = df_user.select(['ind', 'user_name', 'age', 'date_joined'])\n",
    "\n",
    "# Show the cleaned DataFrame\n",
    "df_user.show()"
   ]
  },
  {
   "cell_type": "code",
   "execution_count": 0,
   "metadata": {
    "application/vnd.databricks.v1+cell": {
     "cellMetadata": {
      "byteLimit": 2048000,
      "rowLimit": 10000
     },
     "inputWidgets": {},
     "nuid": "21174eaf-fa69-4476-92f6-c19294b086c3",
     "showTitle": false,
     "title": ""
    }
   },
   "outputs": [
    {
     "output_type": "display_data",
     "data": {
      "text/html": [
       "<style scoped>\n",
       "  .ansiout {\n",
       "    display: block;\n",
       "    unicode-bidi: embed;\n",
       "    white-space: pre-wrap;\n",
       "    word-wrap: break-word;\n",
       "    word-break: break-all;\n",
       "    font-family: \"Menlo\", \"Monaco\", \"Consolas\", \"Ubuntu Mono\", \"Source Code Pro\", monospace;\n",
       "    font-size: 13px;\n",
       "    color: #555;\n",
       "    margin-left: 4px;\n",
       "    line-height: 19px;\n",
       "  }\n",
       "</style>\n",
       "<div class=\"ansiout\">+--------------------+--------------+--------------+\n",
       "             country|      category|category_count|\n",
       "+--------------------+--------------+--------------+\n",
       "         Afghanistan|           art|             1|\n",
       "         Afghanistan|     education|             1|\n",
       "             Albania|    home-decor|             1|\n",
       "             Albania|           art|             1|\n",
       "             Albania|diy-and-crafts|             1|\n",
       "             Albania|  mens-fashion|             1|\n",
       "             Albania|     christmas|             1|\n",
       "             Algeria|        quotes|             3|\n",
       "      American Samoa|        beauty|             2|\n",
       "             Andorra|        quotes|             1|\n",
       "             Andorra|           art|             1|\n",
       "             Andorra|        beauty|             1|\n",
       "             Andorra|       tattoos|             1|\n",
       "              Angola|diy-and-crafts|             1|\n",
       "            Anguilla|        beauty|             1|\n",
       "            Anguilla|diy-and-crafts|             1|\n",
       "            Anguilla|    home-decor|             1|\n",
       "Antarctica (the t...|     christmas|             1|\n",
       " Antigua and Barbuda|     christmas|             2|\n",
       "           Argentina|        beauty|             1|\n",
       "+--------------------+--------------+--------------+\n",
       "only showing top 20 rows\n",
       "\n",
       "</div>"
      ]
     },
     "metadata": {
      "application/vnd.databricks.v1+output": {
       "addedWidgets": {},
       "arguments": {},
       "data": "<div class=\"ansiout\">+--------------------+--------------+--------------+\n|             country|      category|category_count|\n+--------------------+--------------+--------------+\n|         Afghanistan|           art|             1|\n|         Afghanistan|     education|             1|\n|             Albania|    home-decor|             1|\n|             Albania|           art|             1|\n|             Albania|diy-and-crafts|             1|\n|             Albania|  mens-fashion|             1|\n|             Albania|     christmas|             1|\n|             Algeria|        quotes|             3|\n|      American Samoa|        beauty|             2|\n|             Andorra|        quotes|             1|\n|             Andorra|           art|             1|\n|             Andorra|        beauty|             1|\n|             Andorra|       tattoos|             1|\n|              Angola|diy-and-crafts|             1|\n|            Anguilla|        beauty|             1|\n|            Anguilla|diy-and-crafts|             1|\n|            Anguilla|    home-decor|             1|\n|Antarctica (the t...|     christmas|             1|\n| Antigua and Barbuda|     christmas|             2|\n|           Argentina|        beauty|             1|\n+--------------------+--------------+--------------+\nonly showing top 20 rows\n\n</div>",
       "datasetInfos": [],
       "metadata": {},
       "removedWidgets": [],
       "type": "html"
      }
     },
     "output_type": "display_data"
    }
   ],
   "source": [
    "from pyspark.sql import functions as F\n",
    "from pyspark.sql.window import Window\n",
    "\n",
    "# Step 1: Join df_pin and df_geo DataFrames on the 'ind' column\n",
    "df_combined = df_pin.join(df_geo, on='ind')\n",
    "\n",
    "# Step 2: Group by 'country' and 'category', then count the number of posts in each category per country\n",
    "df_category_count = df_combined.groupBy('country', 'category').agg(F.count('*').alias('category_count'))\n",
    "\n",
    "# Step 3: Define a window specification to rank categories within each country by their count\n",
    "window_spec = Window.partitionBy('country').orderBy(F.desc('category_count'))\n",
    "\n",
    "# Step 4: Add a rank column to identify the most popular category per country\n",
    "df_ranked = df_category_count.withColumn('rank', F.rank().over(window_spec))\n",
    "\n",
    "# Step 5: Filter to get the most popular category per country (rank == 1)\n",
    "df_most_popular = df_ranked.filter(F.col('rank') == 1).drop('rank')\n",
    "\n",
    "# Show the final DataFrame\n",
    "df_most_popular.show()\n",
    "\n"
   ]
  },
  {
   "cell_type": "code",
   "execution_count": 0,
   "metadata": {
    "application/vnd.databricks.v1+cell": {
     "cellMetadata": {
      "byteLimit": 2048000,
      "rowLimit": 10000
     },
     "inputWidgets": {},
     "nuid": "eb9be77e-fd9f-4410-8c93-8ad4640725fd",
     "showTitle": false,
     "title": ""
    }
   },
   "outputs": [
    {
     "output_type": "display_data",
     "data": {
      "text/html": [
       "<style scoped>\n",
       "  .ansiout {\n",
       "    display: block;\n",
       "    unicode-bidi: embed;\n",
       "    white-space: pre-wrap;\n",
       "    word-wrap: break-word;\n",
       "    word-break: break-all;\n",
       "    font-family: \"Menlo\", \"Monaco\", \"Consolas\", \"Ubuntu Mono\", \"Source Code Pro\", monospace;\n",
       "    font-size: 13px;\n",
       "    color: #555;\n",
       "    margin-left: 4px;\n",
       "    line-height: 19px;\n",
       "  }\n",
       "</style>\n",
       "<div class=\"ansiout\">+---------+--------------+--------------+\n",
       "post_year|      category|category_count|\n",
       "+---------+--------------+--------------+\n",
       "     2018|  mens-fashion|             2|\n",
       "     2022|        beauty|             3|\n",
       "     2019|     education|             4|\n",
       "     2018|        travel|             4|\n",
       "     2020|        beauty|             2|\n",
       "     2018|     christmas|             3|\n",
       "     2019|diy-and-crafts|             6|\n",
       "     2021|event-planning|             1|\n",
       "     2022|       tattoos|             2|\n",
       "     2018|           art|             5|\n",
       "     2021|       tattoos|             4|\n",
       "     2019|        travel|             4|\n",
       "     2018|       tattoos|             1|\n",
       "     2020|     christmas|             4|\n",
       "     2022|        quotes|             3|\n",
       "     2022|  mens-fashion|             1|\n",
       "     2019|event-planning|             3|\n",
       "     2021|    home-decor|             2|\n",
       "     2020|           art|             3|\n",
       "     2022|           art|             3|\n",
       "+---------+--------------+--------------+\n",
       "only showing top 20 rows\n",
       "\n",
       "</div>"
      ]
     },
     "metadata": {
      "application/vnd.databricks.v1+output": {
       "addedWidgets": {},
       "arguments": {},
       "data": "<div class=\"ansiout\">+---------+--------------+--------------+\n|post_year|      category|category_count|\n+---------+--------------+--------------+\n|     2018|  mens-fashion|             2|\n|     2022|        beauty|             3|\n|     2019|     education|             4|\n|     2018|        travel|             4|\n|     2020|        beauty|             2|\n|     2018|     christmas|             3|\n|     2019|diy-and-crafts|             6|\n|     2021|event-planning|             1|\n|     2022|       tattoos|             2|\n|     2018|           art|             5|\n|     2021|       tattoos|             4|\n|     2019|        travel|             4|\n|     2018|       tattoos|             1|\n|     2020|     christmas|             4|\n|     2022|        quotes|             3|\n|     2022|  mens-fashion|             1|\n|     2019|event-planning|             3|\n|     2021|    home-decor|             2|\n|     2020|           art|             3|\n|     2022|           art|             3|\n+---------+--------------+--------------+\nonly showing top 20 rows\n\n</div>",
       "datasetInfos": [],
       "metadata": {},
       "removedWidgets": [],
       "type": "html"
      }
     },
     "output_type": "display_data"
    }
   ],
   "source": [
    "#most popular category by year \n",
    "from pyspark.sql import functions as F\n",
    "\n",
    "# Assuming both DataFrames have a common column 'ind' for joining\n",
    "df_combined = df_pin.join(df_geo, on='ind')\n",
    "\n",
    "# Step 1: Filter the DataFrame for posts between 2018 and 2022\n",
    "df_filtered = df_combined.filter((F.year(F.col('timestamp')) >= 2018) & (F.year(F.col('timestamp')) <= 2022))\n",
    "\n",
    "# Step 2: Extract the year from the timestamp column and create a new column 'post_year'\n",
    "df_filtered = df_filtered.withColumn('post_year', F.year(F.col('timestamp')))\n",
    "\n",
    "# Step 3: Group by 'post_year' and 'category', and count the number of posts\n",
    "df_category_count = df_filtered.groupBy('post_year', 'category').agg(F.count('*').alias('category_count'))\n",
    "\n",
    "# Show the final DataFrame\n",
    "df_category_count.show()\n"
   ]
  },
  {
   "cell_type": "code",
   "execution_count": 0,
   "metadata": {
    "application/vnd.databricks.v1+cell": {
     "cellMetadata": {
      "byteLimit": 2048000,
      "rowLimit": 10000
     },
     "inputWidgets": {},
     "nuid": "44043e62-efc8-438d-b805-aab5273e5cc4",
     "showTitle": false,
     "title": ""
    }
   },
   "outputs": [
    {
     "output_type": "display_data",
     "data": {
      "text/html": [
       "<style scoped>\n",
       "  .ansiout {\n",
       "    display: block;\n",
       "    unicode-bidi: embed;\n",
       "    white-space: pre-wrap;\n",
       "    word-wrap: break-word;\n",
       "    word-break: break-all;\n",
       "    font-family: \"Menlo\", \"Monaco\", \"Consolas\", \"Ubuntu Mono\", \"Source Code Pro\", monospace;\n",
       "    font-size: 13px;\n",
       "    color: #555;\n",
       "    margin-left: 4px;\n",
       "    line-height: 19px;\n",
       "  }\n",
       "</style>\n",
       "<div class=\"ansiout\">+--------------------+--------------------+--------------+\n",
       "             country|         poster_name|follower_count|\n",
       "+--------------------+--------------------+--------------+\n",
       "         Afghanistan|             Walmart|       2000000|\n",
       "             Albania|          MojisStyle|        117000|\n",
       "             Algeria|           YourTango|        942000|\n",
       "             Algeria|           YourTango|        942000|\n",
       "      American Samoa|            BuzzFeed|       5000000|\n",
       "      American Samoa|            BuzzFeed|       5000000|\n",
       "             Andorra|Teachers Pay Teac...|       1000000|\n",
       "              Angola|     CraftGossip.com|        502000|\n",
       "            Anguilla|Kristen | Lifesty...|         92000|\n",
       "Antarctica (the t...|            HikenDip|        500000|\n",
       " Antigua and Barbuda|Country Living Ma...|       1000000|\n",
       "           Argentina|         Next Luxury|        800000|\n",
       "             Armenia|Michelle {CraftyM...|        892000|\n",
       "               Aruba|         GQ Magazine|        874000|\n",
       "           Australia|   Cultura Colectiva|       1000000|\n",
       "             Austria|The World Pursuit...|         89000|\n",
       "          Azerbaijan|     Style Me Pretty|       6000000|\n",
       "             Bahamas|Her Packing List ...|         41000|\n",
       "             Bahrain|R.J. Weiss at The...|         46000|\n",
       "          Bangladesh|Architectural Digest|       3000000|\n",
       "+--------------------+--------------------+--------------+\n",
       "only showing top 20 rows\n",
       "\n",
       "+----------+--------------+\n",
       "   country|follower_count|\n",
       "+----------+--------------+\n",
       "Azerbaijan|       6000000|\n",
       "+----------+--------------+\n",
       "\n",
       "</div>"
      ]
     },
     "metadata": {
      "application/vnd.databricks.v1+output": {
       "addedWidgets": {},
       "arguments": {},
       "data": "<div class=\"ansiout\">+--------------------+--------------------+--------------+\n|             country|         poster_name|follower_count|\n+--------------------+--------------------+--------------+\n|         Afghanistan|             Walmart|       2000000|\n|             Albania|          MojisStyle|        117000|\n|             Algeria|           YourTango|        942000|\n|             Algeria|           YourTango|        942000|\n|      American Samoa|            BuzzFeed|       5000000|\n|      American Samoa|            BuzzFeed|       5000000|\n|             Andorra|Teachers Pay Teac...|       1000000|\n|              Angola|     CraftGossip.com|        502000|\n|            Anguilla|Kristen | Lifesty...|         92000|\n|Antarctica (the t...|            HikenDip|        500000|\n| Antigua and Barbuda|Country Living Ma...|       1000000|\n|           Argentina|         Next Luxury|        800000|\n|             Armenia|Michelle {CraftyM...|        892000|\n|               Aruba|         GQ Magazine|        874000|\n|           Australia|   Cultura Colectiva|       1000000|\n|             Austria|The World Pursuit...|         89000|\n|          Azerbaijan|     Style Me Pretty|       6000000|\n|             Bahamas|Her Packing List ...|         41000|\n|             Bahrain|R.J. Weiss at The...|         46000|\n|          Bangladesh|Architectural Digest|       3000000|\n+--------------------+--------------------+--------------+\nonly showing top 20 rows\n\n+----------+--------------+\n|   country|follower_count|\n+----------+--------------+\n|Azerbaijan|       6000000|\n+----------+--------------+\n\n</div>",
       "datasetInfos": [],
       "metadata": {},
       "removedWidgets": [],
       "type": "html"
      }
     },
     "output_type": "display_data"
    }
   ],
   "source": [
    "#Each country with the most followers \n",
    "\n",
    "from pyspark.sql import functions as F\n",
    "from pyspark.sql.window import Window\n",
    "\n",
    "# Step 1: Join df_pin with df_geo on 'ind' to get country information\n",
    "df_combined = df_pin.join(df_geo, on='ind')\n",
    "\n",
    "# Step 2: Define a window specification to partition data by country and order by follower_count descending\n",
    "windowSpec = Window.partitionBy('country').orderBy(F.col('follower_count').desc())\n",
    "\n",
    "# Step 3: Add a rank column to find the top follower_count in each country\n",
    "df_ranked = df_combined.withColumn('rank', F.rank().over(windowSpec))\n",
    "\n",
    "# Step 4: Filter to get only the top-ranked (i.e., most followers) row for each country\n",
    "df_most_followers = df_ranked.filter(F.col('rank') == 1).select('country', 'poster_name', 'follower_count')\n",
    "\n",
    "# Show the final DataFrame\n",
    "df_most_followers.show()\n",
    "\n",
    "#user with the most followers \n",
    "\n",
    "from pyspark.sql import functions as F\n",
    "\n",
    "# Step 1: Assume df_most_followers is the DataFrame from the previous query\n",
    "# df_most_followers contains 'country', 'poster_name', and 'follower_count'\n",
    "\n",
    "# Step 2: Find the row with the maximum follower_count\n",
    "df_max_followers = df_most_followers.orderBy(F.col('follower_count').desc()).limit(1).select('country', 'follower_count')\n",
    "\n",
    "# Show the final DataFrame\n",
    "df_max_followers.show()\n",
    "\n"
   ]
  },
  {
   "cell_type": "code",
   "execution_count": 0,
   "metadata": {
    "application/vnd.databricks.v1+cell": {
     "cellMetadata": {
      "byteLimit": 2048000,
      "rowLimit": 10000
     },
     "inputWidgets": {},
     "nuid": "0413996a-69d1-4a49-a0c4-ec7516e29381",
     "showTitle": false,
     "title": ""
    }
   },
   "outputs": [
    {
     "output_type": "display_data",
     "data": {
      "text/html": [
       "<style scoped>\n",
       "  .ansiout {\n",
       "    display: block;\n",
       "    unicode-bidi: embed;\n",
       "    white-space: pre-wrap;\n",
       "    word-wrap: break-word;\n",
       "    word-break: break-all;\n",
       "    font-family: \"Menlo\", \"Monaco\", \"Consolas\", \"Ubuntu Mono\", \"Source Code Pro\", monospace;\n",
       "    font-size: 13px;\n",
       "    color: #555;\n",
       "    margin-left: 4px;\n",
       "    line-height: 19px;\n",
       "  }\n",
       "</style>\n",
       "<div class=\"ansiout\">+---------+--------------+--------------+\n",
       "age_group|      category|category_count|\n",
       "+---------+--------------+--------------+\n",
       "      +50|        beauty|             3|\n",
       "    18-24|     christmas|             8|\n",
       "    25-35|           art|             7|\n",
       "    36-50|diy-and-crafts|             4|\n",
       "+---------+--------------+--------------+\n",
       "\n",
       "</div>"
      ]
     },
     "metadata": {
      "application/vnd.databricks.v1+output": {
       "addedWidgets": {},
       "arguments": {},
       "data": "<div class=\"ansiout\">+---------+--------------+--------------+\n|age_group|      category|category_count|\n+---------+--------------+--------------+\n|      +50|        beauty|             3|\n|    18-24|     christmas|             8|\n|    25-35|           art|             7|\n|    36-50|diy-and-crafts|             4|\n+---------+--------------+--------------+\n\n</div>",
       "datasetInfos": [],
       "metadata": {},
       "removedWidgets": [],
       "type": "html"
      }
     },
     "output_type": "display_data"
    }
   ],
   "source": [
    "\n",
    "#find the most popular category for different age groups \n",
    "\n",
    "from pyspark.sql import functions as F\n",
    "from pyspark.sql.types import StringType\n",
    "from pyspark.sql.window import Window\n",
    "\n",
    "\n",
    "# Step 1: Join df_user with df_pin on 'user_id'\n",
    "df_joined = df_pin.join(df_user, on='ind', how='inner')\n",
    "\n",
    "# Step 2: Define Age Groups\n",
    "def define_age_group(age):\n",
    "    if age is None:\n",
    "        return None\n",
    "    elif 18 <= age <= 24:\n",
    "        return '18-24'\n",
    "    elif 25 <= age <= 35:\n",
    "        return '25-35'\n",
    "    elif 36 <= age <= 50:\n",
    "        return '36-50'\n",
    "    else:\n",
    "        return '+50'\n",
    "\n",
    "# Register the UDF\n",
    "define_age_group_udf = F.udf(define_age_group, StringType())\n",
    "\n",
    "# Add the age_group column to the DataFrame\n",
    "df_joined_with_age_group = df_joined.withColumn('age_group', define_age_group_udf(F.col('age')))\n",
    "\n",
    "# Step 3: Count Posts by Age Group and Category\n",
    "df_count_by_age_group_and_category = df_joined_with_age_group.groupBy('age_group', 'category').count()\n",
    "\n",
    "# Step 4: Find the Most Popular Category for Each Age Group\n",
    "# Window specification to get the most popular category for each age group\n",
    "window_spec = Window.partitionBy('age_group').orderBy(F.col('count').desc())\n",
    "\n",
    "# Add rank to the DataFrame\n",
    "df_ranked_categories = df_count_by_age_group_and_category.withColumn('rank', F.row_number().over(window_spec))\n",
    "\n",
    "# Filter to get only the most popular category for each age group\n",
    "df_most_popular_categories = df_ranked_categories.filter(F.col('rank') == 1).select('age_group', 'category', F.col('count').alias('category_count'))\n",
    "\n",
    "# Show the result\n",
    "df_most_popular_categories.show()\n"
   ]
  },
  {
   "cell_type": "code",
   "execution_count": 0,
   "metadata": {
    "application/vnd.databricks.v1+cell": {
     "cellMetadata": {
      "byteLimit": 2048000,
      "rowLimit": 10000
     },
     "inputWidgets": {},
     "nuid": "5118d8b1-93fd-42f6-8713-cefb19223618",
     "showTitle": false,
     "title": ""
    }
   },
   "outputs": [
    {
     "output_type": "display_data",
     "data": {
      "text/html": [
       "<style scoped>\n",
       "  .ansiout {\n",
       "    display: block;\n",
       "    unicode-bidi: embed;\n",
       "    white-space: pre-wrap;\n",
       "    word-wrap: break-word;\n",
       "    word-break: break-all;\n",
       "    font-family: \"Menlo\", \"Monaco\", \"Consolas\", \"Ubuntu Mono\", \"Source Code Pro\", monospace;\n",
       "    font-size: 13px;\n",
       "    color: #555;\n",
       "    margin-left: 4px;\n",
       "    line-height: 19px;\n",
       "  }\n",
       "</style>\n",
       "<div class=\"ansiout\">+---------+---------------------+\n",
       "age_group|median_follower_count|\n",
       "+---------+---------------------+\n",
       "    36-50|                 6000|\n",
       "    18-24|               108000|\n",
       "    25-35|                42000|\n",
       "      +50|                 5000|\n",
       "+---------+---------------------+\n",
       "\n",
       "</div>"
      ]
     },
     "metadata": {
      "application/vnd.databricks.v1+output": {
       "addedWidgets": {},
       "arguments": {},
       "data": "<div class=\"ansiout\">+---------+---------------------+\n|age_group|median_follower_count|\n+---------+---------------------+\n|    36-50|                 6000|\n|    18-24|               108000|\n|    25-35|                42000|\n|      +50|                 5000|\n+---------+---------------------+\n\n</div>",
       "datasetInfos": [],
       "metadata": {},
       "removedWidgets": [],
       "type": "html"
      }
     },
     "output_type": "display_data"
    }
   ],
   "source": [
    "# find the median follower count for different age groups \n",
    "\n",
    "from pyspark.sql import functions as F\n",
    "\n",
    "# Define the UDF to create age groups\n",
    "def define_age_group(age):\n",
    "    if age is None:\n",
    "        return None\n",
    "    elif 18 <= age <= 24:\n",
    "        return '18-24'\n",
    "    elif 25 <= age <= 35:\n",
    "        return '25-35'\n",
    "    elif 36 <= age <= 50:\n",
    "        return '36-50'\n",
    "    else:\n",
    "        return '+50'\n",
    "\n",
    "# Register the UDF\n",
    "define_age_group_udf = F.udf(define_age_group, StringType())\n",
    "\n",
    "# Join df_pin with df_user on 'ind'\n",
    "df_joined = df_pin.join(df_user, on='ind', how='inner')\n",
    "\n",
    "# Add age_group column\n",
    "df_with_age_group = df_joined.withColumn('age_group', define_age_group_udf(F.col('age')))\n",
    "\n",
    "# Convert 'follower_count' to integer if necessary\n",
    "df_with_age_group = df_with_age_group.withColumn('follower_count', F.col('follower_count').cast('integer'))\n",
    "\n",
    "# Calculate the median follower count for each age group\n",
    "df_median_result = df_with_age_group.groupBy('age_group') \\\n",
    "                                    .agg(F.expr('percentile_approx(follower_count, 0.5)').alias('median_follower_count'))\n",
    "\n",
    "# Show the result\n",
    "df_median_result.show()\n"
   ]
  },
  {
   "cell_type": "code",
   "execution_count": 0,
   "metadata": {
    "application/vnd.databricks.v1+cell": {
     "cellMetadata": {
      "byteLimit": 2048000,
      "rowLimit": 10000
     },
     "inputWidgets": {},
     "nuid": "b0e98c8d-cd7a-4409-9324-db230566a856",
     "showTitle": false,
     "title": ""
    }
   },
   "outputs": [
    {
     "output_type": "display_data",
     "data": {
      "text/html": [
       "<style scoped>\n",
       "  .ansiout {\n",
       "    display: block;\n",
       "    unicode-bidi: embed;\n",
       "    white-space: pre-wrap;\n",
       "    word-wrap: break-word;\n",
       "    word-break: break-all;\n",
       "    font-family: \"Menlo\", \"Monaco\", \"Consolas\", \"Ubuntu Mono\", \"Source Code Pro\", monospace;\n",
       "    font-size: 13px;\n",
       "    color: #555;\n",
       "    margin-left: 4px;\n",
       "    line-height: 19px;\n",
       "  }\n",
       "</style>\n",
       "<div class=\"ansiout\">+---------+-------------------+\n",
       "post_year|number_users_joined|\n",
       "+---------+-------------------+\n",
       "     2015|                 51|\n",
       "     2016|                 59|\n",
       "     2017|                 20|\n",
       "+---------+-------------------+\n",
       "\n",
       "</div>"
      ]
     },
     "metadata": {
      "application/vnd.databricks.v1+output": {
       "addedWidgets": {},
       "arguments": {},
       "data": "<div class=\"ansiout\">+---------+-------------------+\n|post_year|number_users_joined|\n+---------+-------------------+\n|     2015|                 51|\n|     2016|                 59|\n|     2017|                 20|\n+---------+-------------------+\n\n</div>",
       "datasetInfos": [],
       "metadata": {},
       "removedWidgets": [],
       "type": "html"
      }
     },
     "output_type": "display_data"
    }
   ],
   "source": [
    "#find how many users joined each year \n",
    "\n",
    "from pyspark.sql import functions as F\n",
    "from pyspark.sql.types import IntegerType\n",
    "\n",
    "# Ensure that 'date_joined' is in timestamp format\n",
    "df_user = df_user.withColumn('date_joined', F.col('date_joined').cast('timestamp'))\n",
    "\n",
    "# Extract the year from 'date_joined'\n",
    "df_user_with_year = df_user.withColumn('post_year', F.year(F.col('date_joined')))\n",
    "\n",
    "# Filter for the years between 2015 and 2020\n",
    "df_filtered = df_user_with_year.filter((F.col('post_year') >= 2015) & (F.col('post_year') <= 2020))\n",
    "\n",
    "# Count the number of users joined per year\n",
    "df_user_joined_count = df_filtered.groupBy('post_year') \\\n",
    "                                  .agg(F.count('*').alias('number_users_joined'))\n",
    "\n",
    "# Show the result\n",
    "df_user_joined_count.show()\n"
   ]
  },
  {
   "cell_type": "code",
   "execution_count": 0,
   "metadata": {
    "application/vnd.databricks.v1+cell": {
     "cellMetadata": {
      "byteLimit": 2048000,
      "rowLimit": 10000
     },
     "inputWidgets": {},
     "nuid": "c2b239ae-f672-4f5b-b8cf-d17e4d92a635",
     "showTitle": false,
     "title": ""
    }
   },
   "outputs": [
    {
     "output_type": "display_data",
     "data": {
      "text/html": [
       "<style scoped>\n",
       "  .ansiout {\n",
       "    display: block;\n",
       "    unicode-bidi: embed;\n",
       "    white-space: pre-wrap;\n",
       "    word-wrap: break-word;\n",
       "    word-break: break-all;\n",
       "    font-family: \"Menlo\", \"Monaco\", \"Consolas\", \"Ubuntu Mono\", \"Source Code Pro\", monospace;\n",
       "    font-size: 13px;\n",
       "    color: #555;\n",
       "    margin-left: 4px;\n",
       "    line-height: 19px;\n",
       "  }\n",
       "</style>\n",
       "<div class=\"ansiout\">+---------+---------------------+\n",
       "post_year|median_follower_count|\n",
       "+---------+---------------------+\n",
       "     2015|              85000.0|\n",
       "     2016|              27000.0|\n",
       "     2017|               6000.0|\n",
       "+---------+---------------------+\n",
       "\n",
       "</div>"
      ]
     },
     "metadata": {
      "application/vnd.databricks.v1+output": {
       "addedWidgets": {},
       "arguments": {},
       "data": "<div class=\"ansiout\">+---------+---------------------+\n|post_year|median_follower_count|\n+---------+---------------------+\n|     2015|              85000.0|\n|     2016|              27000.0|\n|     2017|               6000.0|\n+---------+---------------------+\n\n</div>",
       "datasetInfos": [],
       "metadata": {},
       "removedWidgets": [],
       "type": "html"
      }
     },
     "output_type": "display_data"
    }
   ],
   "source": [
    "#median follower count per year \n",
    "from pyspark.sql import functions as F\n",
    "from pyspark.sql.window import Window\n",
    "\n",
    "# Join df_pin with df_user on 'ind'\n",
    "df_joined = df_pin.join(df_user, on='ind', how='inner')\n",
    "\n",
    "# Filter users who joined between 2015 and 2020\n",
    "df_user_filtered = df_joined.filter(\n",
    "    (F.year(F.col('date_joined')) >= 2015) & (F.year(F.col('date_joined')) <= 2020)\n",
    ")\n",
    "\n",
    "# Create a column for the year of joining\n",
    "df_user_filtered = df_user_filtered.withColumn('post_year', F.year(F.col('date_joined')))\n",
    "\n",
    "# Define a window specification to rank the follower counts within each year\n",
    "window_spec = Window.partitionBy('post_year').orderBy('follower_count')\n",
    "\n",
    "# Add row number and count of rows per year\n",
    "df_user_filtered = df_user_filtered.withColumn('row_number', F.row_number().over(window_spec))\n",
    "df_user_filtered = df_user_filtered.withColumn('total_count', F.count('*').over(Window.partitionBy('post_year')))\n",
    "\n",
    "# Calculate the median follower count\n",
    "df_user_filtered = df_user_filtered.withColumn(\n",
    "    'median_follower_count',\n",
    "    F.when(\n",
    "        (F.col('total_count') % 2 == 1) & (F.col('row_number') == (F.col('total_count') + 1) / 2),\n",
    "        F.col('follower_count')\n",
    "    ).otherwise(\n",
    "        F.when(\n",
    "            (F.col('total_count') % 2 == 0) & \n",
    "            ((F.col('row_number') == F.col('total_count') / 2) | \n",
    "             (F.col('row_number') == (F.col('total_count') / 2 + 1))),\n",
    "            F.col('follower_count')\n",
    "        ).otherwise(F.lit(None))\n",
    "    )\n",
    ")\n",
    "\n",
    "# Aggregate to get the median per year\n",
    "df_median_follower_count = df_user_filtered.groupBy('post_year').agg(\n",
    "    F.avg('median_follower_count').alias('median_follower_count')\n",
    ")\n",
    "\n",
    "# Show the result\n",
    "df_median_follower_count.show()\n"
   ]
  },
  {
   "cell_type": "code",
   "execution_count": 0,
   "metadata": {
    "application/vnd.databricks.v1+cell": {
     "cellMetadata": {
      "byteLimit": 2048000,
      "rowLimit": 10000
     },
     "inputWidgets": {},
     "nuid": "bb656bf6-4246-4dd7-bfde-f9ab6cbb92db",
     "showTitle": false,
     "title": ""
    }
   },
   "outputs": [
    {
     "output_type": "display_data",
     "data": {
      "text/html": [
       "<style scoped>\n",
       "  .ansiout {\n",
       "    display: block;\n",
       "    unicode-bidi: embed;\n",
       "    white-space: pre-wrap;\n",
       "    word-wrap: break-word;\n",
       "    word-break: break-all;\n",
       "    font-family: \"Menlo\", \"Monaco\", \"Consolas\", \"Ubuntu Mono\", \"Source Code Pro\", monospace;\n",
       "    font-size: 13px;\n",
       "    color: #555;\n",
       "    margin-left: 4px;\n",
       "    line-height: 19px;\n",
       "  }\n",
       "</style>\n",
       "<div class=\"ansiout\">+---------+---------+---------------------+\n",
       "age_group|post_year|median_follower_count|\n",
       "+---------+---------+---------------------+\n",
       "      +50|     2016|               1000.0|\n",
       "      +50|     2017|               9000.0|\n",
       "    18-24|     2015|             190000.0|\n",
       "    18-24|     2016|              46000.0|\n",
       "    18-24|     2017|              36500.0|\n",
       "    25-35|     2015|              46500.0|\n",
       "    25-35|     2016|              29000.0|\n",
       "    25-35|     2017|               8000.0|\n",
       "    36-50|     2015|              13000.0|\n",
       "    36-50|     2016|               9000.0|\n",
       "    36-50|     2017|               1657.0|\n",
       "+---------+---------+---------------------+\n",
       "\n",
       "</div>"
      ]
     },
     "metadata": {
      "application/vnd.databricks.v1+output": {
       "addedWidgets": {},
       "arguments": {},
       "data": "<div class=\"ansiout\">+---------+---------+---------------------+\n|age_group|post_year|median_follower_count|\n+---------+---------+---------------------+\n|      +50|     2016|               1000.0|\n|      +50|     2017|               9000.0|\n|    18-24|     2015|             190000.0|\n|    18-24|     2016|              46000.0|\n|    18-24|     2017|              36500.0|\n|    25-35|     2015|              46500.0|\n|    25-35|     2016|              29000.0|\n|    25-35|     2017|               8000.0|\n|    36-50|     2015|              13000.0|\n|    36-50|     2016|               9000.0|\n|    36-50|     2017|               1657.0|\n+---------+---------+---------------------+\n\n</div>",
       "datasetInfos": [],
       "metadata": {},
       "removedWidgets": [],
       "type": "html"
      }
     },
     "output_type": "display_data"
    }
   ],
   "source": [
    "#median follower_count and age group \n",
    "\n",
    "from pyspark.sql import functions as F\n",
    "from pyspark.sql.window import Window\n",
    "from pyspark.sql.types import StringType\n",
    "\n",
    "# Define the UDF to categorize age into age groups\n",
    "def define_age_group(age):\n",
    "    if age is None:\n",
    "        return None\n",
    "    elif 18 <= age <= 24:\n",
    "        return '18-24'\n",
    "    elif 25 <= age <= 35:\n",
    "        return '25-35'\n",
    "    elif 36 <= age <= 50:\n",
    "        return '36-50'\n",
    "    else:\n",
    "        return '+50'\n",
    "\n",
    "# Register the UDF\n",
    "define_age_group_udf = F.udf(define_age_group, StringType())\n",
    "\n",
    "# Join df_pin with df_user on 'ind'\n",
    "df_joined = df_pin.join(df_user, on='ind', how='inner')\n",
    "\n",
    "# Filter users who joined between 2015 and 2020\n",
    "df_user_filtered = df_joined.filter(\n",
    "    (F.year(F.col('date_joined')) >= 2015) & (F.year(F.col('date_joined')) <= 2020)\n",
    ")\n",
    "\n",
    "# Add age_group and post_year columns\n",
    "df_with_age_group = df_user_filtered.withColumn('age_group', define_age_group_udf(F.col('age')))\n",
    "df_with_age_group = df_with_age_group.withColumn('post_year', F.year(F.col('date_joined')))\n",
    "\n",
    "# Define a window specification to rank the follower counts within each age group and year\n",
    "window_spec = Window.partitionBy('age_group', 'post_year').orderBy('follower_count')\n",
    "\n",
    "# Add row number and count of rows per age group and year\n",
    "df_with_age_group = df_with_age_group.withColumn('row_number', F.row_number().over(window_spec))\n",
    "df_with_age_group = df_with_age_group.withColumn('total_count', F.count('*').over(Window.partitionBy('age_group', 'post_year')))\n",
    "\n",
    "# Calculate the median follower count\n",
    "df_with_age_group = df_with_age_group.withColumn(\n",
    "    'median_follower_count',\n",
    "    F.when(\n",
    "        (F.col('total_count') % 2 == 1) & (F.col('row_number') == (F.col('total_count') + 1) / 2),\n",
    "        F.col('follower_count')\n",
    "    ).otherwise(\n",
    "        F.when(\n",
    "            (F.col('total_count') % 2 == 0) & \n",
    "            ((F.col('row_number') == F.col('total_count') / 2) | \n",
    "             (F.col('row_number') == (F.col('total_count') / 2 + 1))),\n",
    "            F.col('follower_count')\n",
    "        ).otherwise(F.lit(None))\n",
    "    )\n",
    ")\n",
    "\n",
    "# Aggregate to get the median per age group and year\n",
    "df_median_follower_count = df_with_age_group.groupBy('age_group', 'post_year').agg(\n",
    "    F.avg('median_follower_count').alias('median_follower_count')\n",
    ")\n",
    "\n",
    "# Show the result\n",
    "df_median_follower_count.show()\n"
   ]
  }
 ],
 "metadata": {
  "application/vnd.databricks.v1+notebook": {
   "dashboards": [],
   "environmentMetadata": null,
   "language": "python",
   "notebookMetadata": {
    "mostRecentlyExecutedCommandWithImplicitDF": {
     "commandId": -1,
     "dataframes": [
      "_sqldf"
     ]
    },
    "pythonIndentUnit": 4
   },
   "notebookName": "mounting buckect and creating df 2024-08-27 12:54:39",
   "widgets": {}
  }
 },
 "nbformat": 4,
 "nbformat_minor": 0
}
